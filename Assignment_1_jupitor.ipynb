{
  "cells": [
    {
      "cell_type": "code",
      "execution_count": null,
      "metadata": {
        "id": "IbC3DN7kqO4W"
      },
      "outputs": [],
      "source": [
        "# pip install -U scikit-learn\n",
        "# pip install wandb -qU\n",
        "# pip uninstall wandb\n"
      ]
    },
    {
      "cell_type": "code",
      "execution_count": null,
      "metadata": {
        "id": "SQNX5LXNuJ3z"
      },
      "outputs": [],
      "source": [
        "# pip install -U scikit-learn\n",
        "# pip install wandb -qU\n",
        "# pip uninstall wandb\n"
      ]
    },
    {
      "cell_type": "code",
      "execution_count": 2,
      "metadata": {
        "colab": {
          "base_uri": "https://localhost:8080/"
        },
        "id": "vVvtR-hOuJ3z",
        "outputId": "5257fb7b-6528-4400-f2e3-ac7a209e1c7f"
      },
      "outputs": [
        {
          "name": "stdout",
          "output_type": "stream",
          "text": [
            "Note: you may need to restart the kernel to use updated packages.\n"
          ]
        }
      ],
      "source": [
        "pip install wandb -qU"
      ]
    },
    {
      "cell_type": "code",
      "execution_count": 3,
      "metadata": {
        "id": "78VnJyCouJ30"
      },
      "outputs": [],
      "source": [
        "import matplotlib.pyplot as plt\n",
        "import numpy as np\n",
        "import wandb\n",
        "from keras.datasets import fashion_mnist\n",
        "from keras.datasets import mnist\n",
        "from sklearn.model_selection import train_test_split\n",
        "from matplotlib import pyplot as plt\n",
        "from sklearn import metrics\n"
      ]
    },
    {
      "cell_type": "code",
      "execution_count": null,
      "metadata": {
        "id": "ZBCog2xRuJ30",
        "outputId": "84238628-86b7-491a-a966-ee44c8d2e652"
      },
      "outputs": [
        {
          "name": "stderr",
          "output_type": "stream",
          "text": [
            "Failed to detect the name of this notebook, you can set it manually with the WANDB_NOTEBOOK_NAME environment variable to enable code saving.\n",
            "\u001b[34m\u001b[1mwandb\u001b[0m: W&B API key is configured. Use \u001b[1m`wandb login --relogin`\u001b[0m to force relogin\n",
            "\u001b[34m\u001b[1mwandb\u001b[0m: \u001b[33mWARNING\u001b[0m If you're specifying your api key in code, ensure this code is not shared publicly.\n",
            "\u001b[34m\u001b[1mwandb\u001b[0m: \u001b[33mWARNING\u001b[0m Consider setting the WANDB_API_KEY environment variable, or running `wandb login` from the command line.\n",
            "\u001b[34m\u001b[1mwandb\u001b[0m: Appending key for api.wandb.ai to your netrc file: C:\\Users\\Juhi\\.netrc\n"
          ]
        },
        {
          "data": {
            "text/plain": [
              "True"
            ]
          },
          "execution_count": 3,
          "metadata": {},
          "output_type": "execute_result"
        }
      ],
      "source": [
        "wandb.login(key=\"\")"
      ]
    },
    {
      "cell_type": "markdown",
      "metadata": {
        "id": "UubqMD07uJ30"
      },
      "source": [
        "# Question 1"
      ]
    },
    {
      "cell_type": "code",
      "execution_count": 4,
      "metadata": {
        "id": "egP8ApLnuJ31",
        "outputId": "fe8ac609-2e45-4498-e488-df70b276e024"
      },
      "outputs": [
        {
          "name": "stderr",
          "output_type": "stream",
          "text": [
            "Failed to detect the name of this notebook, you can set it manually with the WANDB_NOTEBOOK_NAME environment variable to enable code saving.\n",
            "\u001b[34m\u001b[1mwandb\u001b[0m: Currently logged in as: \u001b[33mcs23m032\u001b[0m. Use \u001b[1m`wandb login --relogin`\u001b[0m to force relogin\n"
          ]
        },
        {
          "data": {
            "text/html": [
              "Tracking run with wandb version 0.16.4"
            ],
            "text/plain": [
              "<IPython.core.display.HTML object>"
            ]
          },
          "metadata": {},
          "output_type": "display_data"
        },
        {
          "data": {
            "text/html": [
              "Run data is saved locally in <code>c:\\Users\\Juhi\\OneDrive\\Documents\\IITM\\Sem2\\DL\\Assignment1\\wandb\\run-20240317_121735-6j2ntckh</code>"
            ],
            "text/plain": [
              "<IPython.core.display.HTML object>"
            ]
          },
          "metadata": {},
          "output_type": "display_data"
        },
        {
          "data": {
            "text/html": [
              "Syncing run <strong><a href='https://wandb.ai/cs23m032/CS6910%20-%20Assignment%201/runs/6j2ntckh' target=\"_blank\">Question1</a></strong> to <a href='https://wandb.ai/cs23m032/CS6910%20-%20Assignment%201' target=\"_blank\">Weights & Biases</a> (<a href='https://wandb.me/run' target=\"_blank\">docs</a>)<br/>"
            ],
            "text/plain": [
              "<IPython.core.display.HTML object>"
            ]
          },
          "metadata": {},
          "output_type": "display_data"
        },
        {
          "data": {
            "text/html": [
              " View project at <a href='https://wandb.ai/cs23m032/CS6910%20-%20Assignment%201' target=\"_blank\">https://wandb.ai/cs23m032/CS6910%20-%20Assignment%201</a>"
            ],
            "text/plain": [
              "<IPython.core.display.HTML object>"
            ]
          },
          "metadata": {},
          "output_type": "display_data"
        },
        {
          "data": {
            "text/html": [
              " View run at <a href='https://wandb.ai/cs23m032/CS6910%20-%20Assignment%201/runs/6j2ntckh' target=\"_blank\">https://wandb.ai/cs23m032/CS6910%20-%20Assignment%201/runs/6j2ntckh</a>"
            ],
            "text/plain": [
              "<IPython.core.display.HTML object>"
            ]
          },
          "metadata": {},
          "output_type": "display_data"
        },
        {
          "data": {
            "text/html": [
              "<button onClick=\"this.nextSibling.style.display='block';this.style.display='none';\">Display W&B run</button><iframe src='https://wandb.ai/cs23m032/CS6910%20-%20Assignment%201/runs/6j2ntckh?jupyter=true' style='border:none;width:100%;height:420px;display:none;'></iframe>"
            ],
            "text/plain": [
              "<wandb.sdk.wandb_run.Run at 0x147aad9b680>"
            ]
          },
          "execution_count": 4,
          "metadata": {},
          "output_type": "execute_result"
        }
      ],
      "source": [
        "wandb.init(project=\"CS6910 - Assignment 1\", name=\"Question1\")"
      ]
    },
    {
      "cell_type": "code",
      "execution_count": 5,
      "metadata": {
        "id": "AbCkhAdUuJ32",
        "outputId": "c2300949-45ac-48f0-96b0-c3c705ad8d0e"
      },
      "outputs": [
        {
          "data": {
            "image/png": "[encoded data removed]",
            "text/plain": [
              "<Figure size 500x500 with 10 Axes>"
            ]
          },
          "metadata": {},
          "output_type": "display_data"
        }
      ],
      "source": [
        "(train_images, train_labels), (test_images, test_labels) = fashion_mnist.load_data()\n",
        "\n",
        "# Define class names\n",
        "className_images = ['T-shirt/top', 'Trouser', 'Pullover', 'Dress', 'Coat', 'Sandal', 'Shirt', 'Sneaker', 'Bag', 'Ankle boot']\n",
        "trainingData_length=len(train_labels)\n",
        "total_class=max(train_labels)+1\n",
        "\n",
        "\n",
        "#plotting images with its labels\n",
        "plt.figure(figsize=(5, 5))\n",
        "for i in range(total_class):\n",
        "    #subplot - used so that we can have many images in one image\n",
        "    # 1st row,2nd col, 3rd index of curr\n",
        "    plt.subplot(3, 4, i + 1)\n",
        "    sample_array = np.where(train_labels == i)\n",
        "    label_index=sample_array[0][0]\n",
        "    plt.imshow(train_images[label_index], cmap='gray')\n",
        "    plt.title(className_images[i])\n",
        "    plt.axis('off')\n",
        "    wandb.log({\"Question1\": [wandb.Image(train_images[label_index], caption=className_images[i])]})\n",
        "\n",
        "plt.show()"
      ]
    },
    {
      "cell_type": "code",
      "execution_count": 6,
      "metadata": {
        "id": "H2Bdg9D0uJ32",
        "outputId": "951824ba-cf37-46f9-d6df-094e04e41b84"
      },
      "outputs": [
        {
          "data": {
            "text/html": [
              " View run <strong style=\"color:#cdcd00\">Question1</strong> at: <a href='https://wandb.ai/cs23m032/CS6910%20-%20Assignment%201/runs/6j2ntckh' target=\"_blank\">https://wandb.ai/cs23m032/CS6910%20-%20Assignment%201/runs/6j2ntckh</a><br/>Synced 4 W&B file(s), 10 media file(s), 0 artifact file(s) and 0 other file(s)"
            ],
            "text/plain": [
              "<IPython.core.display.HTML object>"
            ]
          },
          "metadata": {},
          "output_type": "display_data"
        },
        {
          "data": {
            "text/html": [
              "Find logs at: <code>.\\wandb\\run-20240317_121735-6j2ntckh\\logs</code>"
            ],
            "text/plain": [
              "<IPython.core.display.HTML object>"
            ]
          },
          "metadata": {},
          "output_type": "display_data"
        }
      ],
      "source": [
        "wandb.finish()"
      ]
    },
    {
      "cell_type": "markdown",
      "metadata": {
        "id": "Z_yGhEJhudsq"
      },
      "source": [
        "# Question 2"
      ]
    },
    {
      "cell_type": "code",
      "execution_count": 3,
      "metadata": {
        "id": "nCgQYkfLucCi"
      },
      "outputs": [],
      "source": [
        "class MultiLayerPerceptronFeed():\n",
        "    parameters = {}\n",
        "    gradients = {}\n",
        "\n",
        "    def __init__(self, train_data, train_labels, layer_sizes):\n",
        "        self.train_data = train_data\n",
        "        self.train_labels = train_labels\n",
        "        self.no_of_samples = len(train_data)\n",
        "        self.layer_sizes = layer_sizes\n",
        "\n",
        "        # np.random.seed(120)#will give same random numbers every time\n",
        "        self.parameters = {}\n",
        "        # norm = 1e3\n",
        "        for i in range(len(layer_sizes) - 1):\n",
        "            #input layer(n) and 1st hidden layer(m) will have weight vector w1->n*m and bias b1->1*m\n",
        "            #init W to random values\n",
        "            self.parameters[f'w_{i+1}'] = np.random.randn(layer_sizes[i], layer_sizes[i+1])\n",
        "            #init B to 0\n",
        "            self.parameters[f'b_{i+1}'] = np.random.randn(1,layer_sizes[i+1])\n",
        "\n",
        "    def relu(self, x):\n",
        "        return np.maximum(0, x)\n",
        "\n",
        "    def sigmoid(self, x):\n",
        "        return 1.0 / (1.0 + np.exp(-x))\n",
        "\n",
        "    def sigmoid_d(self, x):\n",
        "        return (self.sigmoid(x)*(1-self.sigmoid(x)))\n",
        "\n",
        "    def relu_d(self, x):\n",
        "        return (x > 0) * 1\n",
        "\n",
        "    def softmax(self, x):\n",
        "        exps = np.exp(x - np.max(x, axis=1, keepdims=True))\n",
        "        return exps / np.sum(exps, axis=1, keepdims=True)\n",
        "\n",
        "    def feed_forwards(self, input_data):\n",
        "        self.layer_outputs = []\n",
        "        for i in range(len(self.layer_sizes) - 1):\n",
        "            if(i==0) :#input is our images\n",
        "                #input_data->1*m,w->m*n,b->1*n\n",
        "                pre_activation=np.matmul(input_data , self.parameters[f'w_{i+1}']) + self.parameters[f'b_{i+1}']\n",
        "            else:\n",
        "                #input data=outpu of last processed layer(layer_outputs[-1])\n",
        "                pre_activation = np.matmul(self.layer_outputs[-1], self.parameters[f'w_{i+1}']) + self.parameters[f'b_{i+1}']\n",
        "\n",
        "            if i < len(self.layer_sizes) - 2 :\n",
        "                activation = self.sigmoid(pre_activation)\n",
        "            else :\n",
        "                activation=self.softmax(pre_activation)\n",
        "\n",
        "            self.layer_outputs.append(activation)\n",
        "        return self.layer_outputs[-1]\n",
        "        #print(self.layer_outputs[-1][-1][-1])\n"
      ]
    },
    {
      "cell_type": "code",
      "execution_count": 7,
      "metadata": {
        "colab": {
          "base_uri": "https://localhost:8080/"
        },
        "id": "srNRPKk5zmv7",
        "outputId": "7c61e911-a303-4caa-9631-d2400fa24564"
      },
      "outputs": [
        {
          "name": "stdout",
          "output_type": "stream",
          "text": [
            "Predicted probabilty after one feed forward call:\n",
            "[0.20534711 0.20156243 0.00780863 0.38926712 0.14157198 0.01476344\n",
            " 0.00048238 0.01227088 0.00589892 0.02102712]\n",
            "True label value of Image:\n",
            "[0. 0. 0. 0. 1. 0. 0. 0. 0. 0.]\n"
          ]
        }
      ],
      "source": [
        "#load data\n",
        "(train_images, train_labels), (test_images, test_labels) = fashion_mnist.load_data()\n",
        "\n",
        "train_images = train_images.reshape(train_images.shape[0], -1) / 255.0\n",
        "test_images = test_images.reshape(test_images.shape[0], -1) / 255.0\n",
        "\n",
        "#change trainlabel=2 to oneHot=[0 0 1 0 0 0 0 0 0 0]\n",
        "train_labels_one_hot = np.eye(10)[train_labels]\n",
        "test_labels_one_hot = np.eye(10)[test_labels]\n",
        "\n",
        "#We can give any number of layers and their sizes here\n",
        "layer_sizes = [train_images.shape[1],5, 5,5,10]  # Input, hidden1, hidden2,hidden3 output\n",
        "\n",
        "#init , train and test our model\n",
        "mlp = MultiLayerPerceptronFeed(train_images, train_labels_one_hot, layer_sizes)\n",
        "feedForwardOutput=mlp.feed_forwards(train_images)\n",
        "\n",
        "print(\"Predicted probabilty after one feed forward call:\")\n",
        "print(feedForwardOutput[10])\n",
        "\n",
        "print(\"True label value of Image:\")\n",
        "print(test_labels_one_hot[10])"
      ]
    },
    {
      "cell_type": "markdown",
      "metadata": {
        "id": "xJyL5QtL13MS"
      },
      "source": [
        "# Question 3 (MultiLayerPerceptron Class)"
      ]
    },
    {
      "cell_type": "code",
      "execution_count": 7,
      "metadata": {
        "id": "K91UoVqT13MT"
      },
      "outputs": [],
      "source": [
        "class MultiLayerPerceptron():\n",
        "\n",
        "  def __init__(\n",
        "        self,\n",
        "        train_data,\n",
        "        train_labels,\n",
        "        val_data,\n",
        "        val_labels,\n",
        "        layer_sizes,\n",
        "        initialization,\n",
        "        loss_act_func,\n",
        "        batch_size=4,\n",
        "        epochs=1,\n",
        "        learning_rate=0.1,\n",
        "        weight_decay=0,\n",
        "        optimizer=\"sgd\",\n",
        "        momentum=0.5,\n",
        "        beta=0.5,\n",
        "        beta1=0.5,\n",
        "        beta2=0.5,\n",
        "        epsilon=0.000001,\n",
        "        printFlag=\"print\"\n",
        "        ):\n",
        "\n",
        "      self.parameters = {}\n",
        "      self.gradients = {}\n",
        "      self.train_data = train_data\n",
        "      self.train_labels = train_labels\n",
        "      self.val_data=val_data\n",
        "      self.val_labels=val_labels\n",
        "      self.no_of_samples = len(train_data)\n",
        "      self.no_of_features = train_data.shape[1] #size of column of train_data\n",
        "      self.no_of_classes = 10 #size of column of train_labels\n",
        "      self.layer_sizes = layer_sizes\n",
        "      self.batch_size=batch_size\n",
        "      # self.act_func=act_func\n",
        "      self.epochs=epochs\n",
        "      self.learning_rate=learning_rate\n",
        "      self.weight_decay=weight_decay\n",
        "      self.optimizer=optimizer\n",
        "      self.loss_act_func=loss_act_func\n",
        "      self.initialization = initialization\n",
        "      self.momentum=momentum\n",
        "      self.beta=beta\n",
        "      self.beta1=beta1\n",
        "      self.beta2=beta2\n",
        "      self.epsilon=epsilon\n",
        "      self.printFlag=printFlag\n",
        "\n",
        "      self.A = {}\n",
        "      self.H = {}\n",
        "\n",
        "#function to initialize Weights either using random initializer or Xavior\n",
        "  def init_weights(self):\n",
        "    if self.initialization==\"random\":\n",
        "      # print(\"init random\")\n",
        "      for i in range(len(self.layer_sizes) - 1):\n",
        "          #input layer(n) and 1st hidden layer(m) will have weight vector w1->n*m and bias b1->1*m\n",
        "          #init W to random values\n",
        "          self.parameters[f'w_{i+1}'] = np.random.randn(self.layer_sizes[i], self.layer_sizes[i+1])\n",
        "          #init B to 0\n",
        "          self.parameters[f'b_{i+1}'] = np.random.randn(1,self.layer_sizes[i+1])\n",
        "\n",
        "    if self.initialization==\"Xavier\":\n",
        "      print(\"inint Xavier\")\n",
        "      for i in range(len(self.layer_sizes) - 1):\n",
        "        x_fact = np.sqrt(6 / (self.layer_sizes[i] + self.layer_sizes[i + 1]))\n",
        "        self.parameters[f'w_{i+1}'] = np.random.randn(self.layer_sizes[i], self.layer_sizes[i + 1]) * x_fact\n",
        "        self.parameters[f'b_{i+1}'] = np.random.randn(1,self.layer_sizes[i+1]) * x_fact\n",
        "\n",
        "#softmax fynction\n",
        "  def softmax(self, x):\n",
        "    max_x = np.max(x, axis=1, keepdims=True)\n",
        "    exps = np.exp(x - max_x)\n",
        "    return exps / np.sum(exps, axis=1, keepdims=True)\n",
        "\n",
        "#derivation of softmax function\n",
        "  def softmax_d(self,x):\n",
        "    softmax_x = self.softmax(x)\n",
        "    return softmax_x*(1-softmax_x)\n",
        "\n",
        "#feed forward Function\n",
        "  def feed_forwards(self, input_data):\n",
        "    for i in range(len(self.layer_sizes) - 1): # i -> 0-3\n",
        "        # if(i==0) :#input is our images\n",
        "        if(i==0):\n",
        "          preactivation=np.dot(input_data , self.parameters[f'w_{i+1}']) + self.parameters[f'b_{i+1}']\n",
        "        else:\n",
        "          preactivation = np.dot(self.H[i], self.parameters[f'w_{i+1}']) + self.parameters[f'b_{i+1}']\n",
        "        self.A[i+1]=preactivation\n",
        "\n",
        "        if i < len(self.layer_sizes) - 2 :\n",
        "            #if we havent reached the last layer\n",
        "            #give preactivation output of previous layer to the acivation function\n",
        "            activation = self.loss_act_func.activation_func(self.A[i+1],\"real\")\n",
        "        else :\n",
        "            #if we reached last layer then use softmax as activation\n",
        "            activation=self.softmax(self.A[i+1])\n",
        "        self.H[i+1]=activation\n",
        "\n",
        "    return self.H[len(self.layer_sizes)-1]\n",
        "\n",
        "#back propogation method\n",
        "  def back_prop(self, input_data, true_label,pred_label):\n",
        "\n",
        "    #check which loss function we are using and change dL-dA according to it\n",
        "    if ((self.loss_act_func).get_name()==\"cross_entropy\"):\n",
        "      dL_dA = pred_label - true_label\n",
        "    elif ((self.loss_act_func).get_name()==\"mean_squared_error\"):\n",
        "      dL_dA = ((pred_label - true_label) * self.softmax_d(self.A[len(self.layer_sizes)-1])) / true_label.shape[0]\n",
        "\n",
        "    #implementing chain rule\n",
        "    for i in range(len(self.layer_sizes) - 1, 1, -1): # i->4 3 2\n",
        "\n",
        "        self.gradients[f'w_{i}']=np.dot(self.H[i-1].T, dL_dA)\n",
        "        self.gradients[f'b_{i}']=np.sum(dL_dA , axis=0,keepdims=True)\n",
        "\n",
        "        dL_dH=np.dot(dL_dA, (self.parameters[f'w_{i}']).T )\n",
        "        dL_dA = dL_dH * self.loss_act_func.activation_func(self.A[i-1],\"derivative\")\n",
        "\n",
        "    self.gradients[f'w_{1}']=np.dot(input_data.T, dL_dA )\n",
        "    self.gradients[f'b_{1}']=np.sum(dL_dA , axis=0,keepdims=True)\n",
        "\n",
        "#All optimizers are implemented here\n",
        "  def optimizer_func(self):\n",
        "\n",
        "      if(self.optimizer==\"sgd\"):\n",
        "          #Implementing SGD\n",
        "          for i in range(self.epochs):\n",
        "              #j loop will go for all the batches created\n",
        "              for j in range(0,self.no_of_samples,self.batch_size):\n",
        "                  start = j\n",
        "                  end = start + self.batch_size\n",
        "                  Y_train_labels = self.train_labels[start:end]\n",
        "                  X_train_images = self.train_data[start:end]\n",
        "\n",
        "                  pred_labels=self.feed_forwards(X_train_images)\n",
        "                  self.back_prop(X_train_images, Y_train_labels,pred_labels)\n",
        "\n",
        "                  #update weights and biases\n",
        "                  for k in range(len(self.layer_sizes) - 1):# 0->3\n",
        "                      self.gradients[f'w_{k+1}']=self.gradients[f'w_{k+1}']/self.batch_size\n",
        "                      self.gradients[f'b_{k+1}']=self.gradients[f'b_{k+1}']/self.batch_size\n",
        "\n",
        "                      self.gradients[f'w_{k+1}'] =(self.gradients[f'w_{k+1}']) + self.weight_decay * self.parameters[f'w_{k+1}']\n",
        "                      self.parameters[f'w_{k+1}'] -= self.learning_rate * (self.gradients[f'w_{k+1}'] )\n",
        "                      self.parameters[f'b_{k+1}'] -= self.learning_rate * (self.gradients[f'b_{k+1}'] )\n",
        "\n",
        "              #finding training/validation loss/accuracy\n",
        "              pred_labels = self.feed_forwards(self.train_data)\n",
        "              tra_acc = self.accuracy(pred_labels,self.train_labels)\n",
        "              tra_loss = self.loss_act_func.loss_functions(pred_labels, self.train_labels)\n",
        "\n",
        "              pred_labels = self.feed_forwards(self.val_data)\n",
        "              val_acc = self.accuracy(pred_labels,self.val_labels)\n",
        "              val_loss = self.loss_act_func.loss_functions(pred_labels, self.val_labels)\n",
        "\n",
        "              if(self.printFlag==\"print\"):\n",
        "                print(f\"Epoch {i+1}, Training Loss: {tra_loss} , Training Accuracy: {tra_acc} , Validation Loss: {val_loss} Validation Accuracy: {val_acc}\")\n",
        "              else:\n",
        "                wandb.log({\"Epoch\": i+1, \"Training_Loss\": tra_loss, \"Training_Accuracy\": tra_acc,\"Validation_Loss\": val_loss,\"Validation_Accuracy\": val_acc})\n",
        "\n",
        "      if(self.optimizer==\"momentum\"):\n",
        "        #init velocities for w and b to zeros\n",
        "        velocities={}\n",
        "        for i in range(len(self.layer_sizes) - 1):\n",
        "          velocities[f'w_{i+1}'] = np.zeros((self.layer_sizes[i], self.layer_sizes[i+1]))\n",
        "          velocities[f'b_{i+1}'] = np.zeros((1, self.layer_sizes[i+1]))\n",
        "\n",
        "        for i in range(self.epochs):\n",
        "          for j in range(0,self.no_of_samples,self.batch_size):\n",
        "            start = j\n",
        "            end = start + self.batch_size\n",
        "            Y_train_labels = self.train_labels[start:end]\n",
        "            X_train_images = self.train_data[start:end]\n",
        "\n",
        "            pred_labels=self.feed_forwards(X_train_images)\n",
        "            self.back_prop(X_train_images, Y_train_labels,pred_labels)\n",
        "\n",
        "            #update weights and bias as per momentum updation rule\n",
        "            for k in range(len(self.layer_sizes) - 1):\n",
        "                self.gradients[f'w_{k+1}']=self.gradients[f'w_{k+1}']/self.batch_size\n",
        "                self.gradients[f'b_{k+1}']=self.gradients[f'b_{k+1}']/self.batch_size\n",
        "\n",
        "                self.gradients[f'w_{k+1}'] =(self.gradients[f'w_{k+1}']) + self.weight_decay * self.parameters[f'w_{k+1}']\n",
        "                # Update velocities with momentum\n",
        "                velocities[f'w_{k+1}'] = self.momentum * velocities[f'w_{k+1}'] + self.learning_rate * (self.gradients[f'w_{k+1}'])\n",
        "                velocities[f'b_{k+1}'] = self.momentum * velocities[f'b_{k+1}'] + self.learning_rate * (self.gradients[f'b_{k+1}'])\n",
        "\n",
        "                # Update parameters with momentum\n",
        "                self.parameters[f'w_{k+1}'] -= velocities[f'w_{k+1}']\n",
        "                self.parameters[f'b_{k+1}'] -= velocities[f'b_{k+1}']\n",
        "\n",
        "          #train/validation data loss/accuracy\n",
        "          pred_labels = self.feed_forwards(self.train_data)\n",
        "          tra_acc = self.accuracy(pred_labels,self.train_labels)\n",
        "          tra_loss = self.loss_act_func.loss_functions(pred_labels, self.train_labels)\n",
        "\n",
        "          pred_labels = self.feed_forwards(self.val_data)\n",
        "          val_acc = self.accuracy(pred_labels,self.val_labels)\n",
        "          val_loss = self.loss_act_func.loss_functions(pred_labels, self.val_labels)\n",
        "          if(self.printFlag==\"print\"):\n",
        "            print(f\"Epoch {i+1}, Training Loss: {tra_loss} , Training Accuracy: {tra_acc} , Validation Loss: {val_loss} Validation Accuracy: {val_acc}\")\n",
        "          else:\n",
        "            wandb.log({\"Epoch\": i+1, \"Training_Loss\": tra_loss, \"Training_Accuracy\": tra_acc,\"Validation_Loss\": val_loss,\"Validation_Accuracy\": val_acc})\n",
        "\n",
        "      if(self.optimizer==\"nag\"):\n",
        "          # Initialize velocities for weights and biases\n",
        "          velocities={}\n",
        "          for i in range(len(self.layer_sizes) - 1):\n",
        "              velocities[f'w_{i+1}'] = np.zeros((self.layer_sizes[i], self.layer_sizes[i+1]))\n",
        "              velocities[f'b_{i+1}'] = np.zeros((1, self.layer_sizes[i+1]))\n",
        "\n",
        "          for i in range(self.epochs):\n",
        "              for j in range(0,self.no_of_samples,self.batch_size):\n",
        "                  start = j\n",
        "                  end = start + self.batch_size\n",
        "                  Y_train_labels = self.train_labels[start:end]\n",
        "                  X_train_images = self.train_data[start:end]\n",
        "\n",
        "                  '''\n",
        "                  storing old weights in self.parameters[f'w_{k+1}_orig']\n",
        "                  so that i can use it later and\n",
        "                  updating self.parameters[f'w_{k+1}'] so that same feed forward function can be used.\n",
        "                  '''\n",
        "                  for k in range(len(self.layer_sizes) - 1):\n",
        "                      self.parameters[f'w_{k+1}_orig']=self.parameters[f'w_{k+1}']\n",
        "                      self.parameters[f'b_{k+1}_orig']=self.parameters[f'b_{k+1}']\n",
        "\n",
        "                      self.parameters[f'w_{k+1}'] = self.parameters[f'w_{k+1}'] - self.momentum * velocities[f'w_{k+1}']\n",
        "                      self.parameters[f'b_{k+1}'] = self.parameters[f'b_{k+1}'] - self.momentum * velocities[f'b_{k+1}']\n",
        "\n",
        "                  #feed forward and backprop is applied after changing weights and biases\n",
        "                  pred_labels=self.feed_forwards(X_train_images)\n",
        "                  self.back_prop(X_train_images, Y_train_labels,pred_labels)\n",
        "\n",
        "                  '''\n",
        "                  here 1st we will set original weights to self.parameters[f'w_{k+1}']\n",
        "                  and then update weigths and biases.\n",
        "                  '''\n",
        "                  for k in range(len(self.layer_sizes) - 1):\n",
        "\n",
        "                      self.gradients[f'w_{k+1}']=self.gradients[f'w_{k+1}']/self.batch_size\n",
        "                      self.gradients[f'b_{k+1}']=self.gradients[f'b_{k+1}']/self.batch_size\n",
        "\n",
        "                      self.gradients[f'w_{k+1}'] =(self.gradients[f'w_{k+1}']) + self.weight_decay * self.parameters[f'w_{k+1}']\n",
        "\n",
        "                      velocities[f'w_{k+1}'] = self.momentum * velocities[f'w_{k+1}'] + self.learning_rate * (self.gradients[f'w_{k+1}'] )\n",
        "                      velocities[f'b_{k+1}'] = self.momentum * velocities[f'b_{k+1}'] + self.learning_rate * (self.gradients[f'b_{k+1}'] )\n",
        "\n",
        "                      self.parameters[f'w_{k+1}']=self.parameters[f'w_{k+1}_orig']\n",
        "                      self.parameters[f'b_{k+1}']=self.parameters[f'b_{k+1}_orig']\n",
        "\n",
        "                      self.parameters[f'w_{k+1}'] -= velocities[f'w_{k+1}']\n",
        "                      self.parameters[f'b_{k+1}'] -= velocities[f'b_{k+1}']\n",
        "\n",
        "              pred_labels = self.feed_forwards(self.train_data)\n",
        "              tra_acc = self.accuracy(pred_labels,self.train_labels)\n",
        "              tra_loss = self.loss_act_func.loss_functions(pred_labels, self.train_labels)\n",
        "\n",
        "              pred_labels = self.feed_forwards(self.val_data)\n",
        "              val_acc = self.accuracy(pred_labels,self.val_labels)\n",
        "              val_loss = self.loss_act_func.loss_functions(pred_labels, self.val_labels)\n",
        "              if(self.printFlag==\"print\"):\n",
        "                print(f\"Epoch {i+1}, Training Loss: {tra_loss} , Training Accuracy: {tra_acc} , Validation Loss: {val_loss} Validation Accuracy: {val_acc}\")\n",
        "              else:\n",
        "                wandb.log({\"Epoch\": i+1, \"Training_Loss\": tra_loss, \"Training_Accuracy\": tra_acc,\"Validation_Loss\": val_loss,\"Validation_Accuracy\": val_acc})\n",
        "\n",
        "      if(self.optimizer==\"rmsprop\"):\n",
        "        squared_gradients={}\n",
        "        for i in range(len(self.layer_sizes) - 1):\n",
        "            squared_gradients[f'w_{i+1}'] = np.zeros((self.layer_sizes[i], self.layer_sizes[i+1]))\n",
        "            squared_gradients[f'b_{i+1}'] = np.zeros((1, self.layer_sizes[i+1]))\n",
        "\n",
        "        for i in range(self.epochs):\n",
        "            for j in range(0,self.no_of_samples,self.batch_size):\n",
        "                start = j\n",
        "                end = start + self.batch_size\n",
        "                Y_train_labels = self.train_labels[start:end]\n",
        "                X_train_images = self.train_data[start:end]\n",
        "\n",
        "                pred_labels=self.feed_forwards(X_train_images)\n",
        "                self.back_prop(X_train_images, Y_train_labels,pred_labels)\n",
        "\n",
        "                for k in range(len(self.layer_sizes) - 1):\n",
        "\n",
        "                    self.gradients[f'w_{k+1}']=self.gradients[f'w_{k+1}']/self.batch_size\n",
        "                    self.gradients[f'b_{k+1}']=self.gradients[f'b_{k+1}']/self.batch_size\n",
        "\n",
        "                    self.gradients[f'w_{k+1}'] =(self.gradients[f'w_{k+1}']) + self.weight_decay * self.parameters[f'w_{k+1}']\n",
        "\n",
        "                    # Calculate the squared gradients\n",
        "                    squared_gradients[f'w_{k+1}'] = self.beta * squared_gradients[f'w_{k+1}'] + (1 - self.beta) * ((self.gradients[f'w_{k+1}']) ** 2)\n",
        "                    squared_gradients[f'b_{k+1}'] = self.beta * squared_gradients[f'b_{k+1}'] + (1 - self.beta) * ((self.gradients[f'b_{k+1}']) ** 2)\n",
        "\n",
        "                    # Update parameters using RMSprop\n",
        "                    self.parameters[f'w_{k+1}'] -= (self.learning_rate * self.gradients[f'w_{k+1}'] / (np.sqrt(squared_gradients[f'w_{k+1}']) + self.epsilon))\n",
        "                    self.parameters[f'b_{k+1}'] -= (self.learning_rate * self.gradients[f'b_{k+1}'] / (np.sqrt(squared_gradients[f'b_{k+1}']) + self.epsilon))\n",
        "\n",
        "            pred_labels = self.feed_forwards(self.train_data)\n",
        "            tra_acc = self.accuracy(pred_labels,self.train_labels)\n",
        "            tra_loss = self.loss_act_func.loss_functions(pred_labels, self.train_labels)\n",
        "\n",
        "            pred_labels = self.feed_forwards(self.val_data)\n",
        "            val_acc = self.accuracy(pred_labels,self.val_labels)\n",
        "            val_loss = self.loss_act_func.loss_functions(pred_labels, self.val_labels)\n",
        "            if(self.printFlag==\"print\"):\n",
        "              print(f\"Epoch {i+1}, Training Loss: {tra_loss} , Training Accuracy: {tra_acc} , Validation Loss: {val_loss} Validation Accuracy: {val_acc}\")\n",
        "            else:\n",
        "              wandb.log({\"Epoch\": i+1, \"Training_Loss\": tra_loss, \"Training_Accuracy\": tra_acc,\"Validation_Loss\": val_loss,\"Validation_Accuracy\": val_acc})\n",
        "\n",
        "      if(self.optimizer==\"adam\"):\n",
        "        moments={}\n",
        "        for i in range(len(self.layer_sizes) - 1):\n",
        "            moments[f'm_w_{i+1}'] = np.zeros((self.layer_sizes[i], self.layer_sizes[i+1]))\n",
        "            moments[f'm_b_{i+1}'] = np.zeros((1, self.layer_sizes[i+1]))\n",
        "\n",
        "        velocities={}\n",
        "        for i in range(len(self.layer_sizes) - 1):\n",
        "            velocities[f'v_w_{i+1}'] = np.zeros((self.layer_sizes[i], self.layer_sizes[i+1]))\n",
        "            velocities[f'v_b_{i+1}'] = np.zeros((1, self.layer_sizes[i+1]))\n",
        "\n",
        "        # t=0\n",
        "        for i in range(self.epochs):\n",
        "          t=i+1\n",
        "          for j in range(0,self.no_of_samples,self.batch_size):\n",
        "              # t=t+1\n",
        "              start = j\n",
        "              end = start + self.batch_size\n",
        "              Y_train_labels = self.train_labels[start:end]\n",
        "              X_train_images = self.train_data[start:end]\n",
        "\n",
        "              pred_labels=self.feed_forwards(X_train_images)\n",
        "              self.back_prop(X_train_images, Y_train_labels,pred_labels)\n",
        "              # t=1\n",
        "              for k in range(len(self.layer_sizes) - 1):\n",
        "\n",
        "                  self.gradients[f'w_{k+1}'] = self.gradients[f'w_{k+1}'] / self.batch_size\n",
        "                  self.gradients[f'b_{k+1}']=self.gradients[f'b_{k+1}']/self.batch_size\n",
        "\n",
        "                  self.gradients[f'w_{k+1}'] = self.gradients[f'w_{k+1}'] + self.weight_decay * self.parameters[f'w_{k+1}']\n",
        "\n",
        "                  # Update moments and velocities with Adam\n",
        "                  moments[f'm_w_{k+1}'] = self.beta1 * moments[f'm_w_{k+1}'] + (1 - self.beta1) * self.gradients[f'w_{k+1}']\n",
        "                  moments[f'm_b_{k+1}'] = self.beta1 * moments[f'm_b_{k+1}'] + (1 - self.beta1) * self.gradients[f'b_{k+1}']\n",
        "\n",
        "                  velocities[f'v_w_{k+1}'] = self.beta2 * velocities[f'v_w_{k+1}'] + (1 - self.beta2) * (self.gradients[f'w_{k+1}'] ** 2)\n",
        "                  velocities[f'v_b_{k+1}'] = self.beta2 * velocities[f'v_b_{k+1}'] + (1 - self.beta2) * (self.gradients[f'b_{k+1}'] ** 2)\n",
        "\n",
        "                  # Bias correction\n",
        "                  m_w_hat = moments[f'm_w_{k+1}'] / (1 - self.beta1 ** t)\n",
        "                  m_b_hat = moments[f'm_b_{k+1}'] / (1 - self.beta1 ** t)\n",
        "\n",
        "                  v_w_hat = velocities[f'v_w_{k+1}'] / (1 - self.beta2 ** t)\n",
        "                  v_b_hat = velocities[f'v_b_{k+1}'] / (1 - self.beta2 ** t)\n",
        "\n",
        "                  # Update parameters with Adam\n",
        "                  self.parameters[f'w_{k+1}'] -= self.learning_rate * m_w_hat / (np.sqrt(v_w_hat) + self.epsilon)\n",
        "                  self.parameters[f'b_{k+1}'] -= self.learning_rate * m_b_hat / (np.sqrt(v_b_hat) + self.epsilon)\n",
        "\n",
        "                  # t=t+1\n",
        "\n",
        "          pred_labels = self.feed_forwards(self.train_data)\n",
        "          tra_acc = self.accuracy(pred_labels,self.train_labels)\n",
        "          tra_loss = self.loss_act_func.loss_functions(pred_labels, self.train_labels)\n",
        "\n",
        "          pred_labels = self.feed_forwards(self.val_data)\n",
        "          val_acc = self.accuracy(pred_labels,self.val_labels)\n",
        "          val_loss = self.loss_act_func.loss_functions(pred_labels, self.val_labels)\n",
        "          if(self.printFlag==\"print\"):\n",
        "            print(f\"Epoch {i+1}, Training Loss: {tra_loss} , Training Accuracy: {tra_acc} , Validation Loss: {val_loss} Validation Accuracy: {val_acc}\")\n",
        "          else:\n",
        "            wandb.log({\"Epoch\": i+1, \"Training_Loss\": tra_loss, \"Training_Accuracy\": tra_acc,\"Validation_Loss\": val_loss,\"Validation_Accuracy\": val_acc})\n",
        "\n",
        "      if(self.optimizer==\"nadam\"):\n",
        "        moments={}\n",
        "        for i in range(len(self.layer_sizes) - 1):\n",
        "            moments[f'm_w_{i+1}'] = np.zeros((self.layer_sizes[i], self.layer_sizes[i+1]))\n",
        "            moments[f'm_b_{i+1}'] = np.zeros((1, self.layer_sizes[i+1]))\n",
        "\n",
        "        velocities={}\n",
        "        for i in range(len(self.layer_sizes) - 1):\n",
        "            velocities[f'v_w_{i+1}'] = np.zeros((self.layer_sizes[i], self.layer_sizes[i+1]))\n",
        "            velocities[f'v_b_{i+1}'] = np.zeros((1, self.layer_sizes[i+1]))\n",
        "\n",
        "        # t=0\n",
        "        for i in range(self.epochs):\n",
        "          t=1+i\n",
        "          for j in range(0,self.no_of_samples,self.batch_size):\n",
        "            # t=t+1\n",
        "            start = j\n",
        "            end = start + self.batch_size\n",
        "            Y_train_labels = self.train_labels[start:end]\n",
        "            X_train_images = self.train_data[start:end]\n",
        "\n",
        "            pred_labels=self.feed_forwards(X_train_images)\n",
        "            self.back_prop(X_train_images, Y_train_labels,pred_labels)\n",
        "\n",
        "            for k in range(len(self.layer_sizes) - 1):\n",
        "\n",
        "                self.gradients[f'w_{k+1}'] = self.gradients[f'w_{k+1}'] / self.batch_size\n",
        "                self.gradients[f'b_{k+1}']=self.gradients[f'b_{k+1}']/self.batch_size\n",
        "\n",
        "                self.gradients[f'w_{k+1}'] = self.gradients[f'w_{k+1}'] + self.weight_decay * self.parameters[f'w_{k+1}']\n",
        "\n",
        "                # Update moments and velocities with Adam\n",
        "                moments[f'm_w_{k+1}'] = self.beta1 * moments[f'm_w_{k+1}'] + (1 - self.beta1) * self.gradients[f'w_{k+1}']\n",
        "                moments[f'm_b_{k+1}'] = self.beta1 * moments[f'm_b_{k+1}'] + (1 - self.beta1) * self.gradients[f'b_{k+1}']\n",
        "\n",
        "                velocities[f'v_w_{k+1}'] = self.beta2 * velocities[f'v_w_{k+1}'] + (1 - self.beta2) * (self.gradients[f'w_{k+1}'] ** 2)\n",
        "                velocities[f'v_b_{k+1}'] = self.beta2 * velocities[f'v_b_{k+1}'] + (1 - self.beta2) * (self.gradients[f'b_{k+1}'] ** 2)\n",
        "\n",
        "                # Bias correction\n",
        "                m_w_hat = moments[f'm_w_{k+1}'] / (1 - self.beta1 ** t)\n",
        "                m_b_hat = moments[f'm_b_{k+1}'] / (1 - self.beta1 ** t)\n",
        "\n",
        "                v_w_hat = velocities[f'v_w_{k+1}'] / (1 - self.beta2 ** t)\n",
        "                v_b_hat = velocities[f'v_b_{k+1}'] / (1 - self.beta2 ** t)\n",
        "\n",
        "                # Update parameters with NAdam\n",
        "                nadam_factor = (1 - self.beta1) / (1 - (self.beta1 ** t))\n",
        "                weigth_update = nadam_factor * self.gradients[f'w_{k+1}'] + (self.beta1 * m_w_hat)\n",
        "                bias_update = nadam_factor * self.gradients[f'b_{k+1}'] + (self.beta1 * m_b_hat)\n",
        "                self.parameters[f'w_{k+1}'] -= ((self.learning_rate / (np.sqrt(v_w_hat) + self.epsilon)) * weigth_update )\n",
        "                self.parameters[f'b_{k+1}'] -= ((self.learning_rate / (np.sqrt(v_b_hat) + self.epsilon)) * bias_update )\n",
        "\n",
        "            # t=t+1\n",
        "\n",
        "          pred_labels = self.feed_forwards(self.train_data)\n",
        "          tra_acc = self.accuracy(pred_labels,self.train_labels)\n",
        "          tra_loss = self.loss_act_func.loss_functions(pred_labels, self.train_labels)\n",
        "\n",
        "          pred_labels = self.feed_forwards(self.val_data)\n",
        "          val_acc = self.accuracy(pred_labels,self.val_labels)\n",
        "          val_loss = self.loss_act_func.loss_functions(pred_labels, self.val_labels)\n",
        "          if(self.printFlag==\"print\"):\n",
        "            print(f\"Epoch {i+1}, Training Loss: {tra_loss} , Training Accuracy: {tra_acc} , Validation Loss: {val_loss} Validation Accuracy: {val_acc}\")\n",
        "          else:\n",
        "            wandb.log({\"Epoch\": i+1, \"Training_Loss\": tra_loss, \"Training_Accuracy\": tra_acc,\"Validation_Loss\": val_loss,\"Validation_Accuracy\": val_acc})\n",
        "\n",
        "#calculates the accuracy\n",
        "  def accuracy(self, pred, truth):\n",
        "    return ((np.argmax(truth, axis=1) == np.argmax(pred, axis=1)).mean())*100\n",
        "\n",
        "# calculated loss and accuracy for test data\n",
        "  def test(self, x, y):\n",
        "    pred_labels=self.feed_forwards(x)\n",
        "    loss = self.loss_act_func.loss_functions(pred_labels, y)\n",
        "    acc = self.accuracy(pred_labels, y)\n",
        "    print(f'TEST LOSS: {loss:.4f} TEST ACCURACY: {acc:.4f}')\n"
      ]
    },
    {
      "cell_type": "markdown",
      "metadata": {
        "id": "YPC_Gjc3uJ34"
      },
      "source": [
        "# loss and activation"
      ]
    },
    {
      "cell_type": "code",
      "execution_count": 8,
      "metadata": {
        "id": "w_FTHnpOuJ34"
      },
      "outputs": [],
      "source": [
        "class LossActFunc():\n",
        "    #this class has methods for loss and activation functions\n",
        "    def __init__(self, lossFun = \"cross_entropy\",actFun=\"sigmoid\"):\n",
        "        self.loss_func = lossFun\n",
        "        self.act_fun = actFun\n",
        "\n",
        "    #contains both the loss functions\n",
        "    def loss_functions(self,pred, actual):\n",
        "      if (self.loss_func==\"cross_entropy\"):\n",
        "        return -np.sum(actual * np.log(pred + 1e-9)) / len(pred)\n",
        "\n",
        "      elif (self.loss_func == \"mean_squared_error\"):\n",
        "        squErr=(1/2)* np.sum((pred - actual) ** 2)\n",
        "        meanSquErr=squErr/ len(pred)\n",
        "        return  meanSquErr\n",
        "\n",
        "    #this  methid returns the name of the loss function called\n",
        "    def get_name(self):\n",
        "      if (self.loss_func==\"cross_entropy\"):\n",
        "        return \"cross_entropy\"\n",
        "\n",
        "      elif (self.loss_func == \"mean_squared_error\"):\n",
        "        return \"mean_squared_error\"\n",
        "\n",
        "    #contains the activation functions and their derivatives\n",
        "    def activation_func(self, x,real_der):\n",
        "      #real_der=real --> want activation function\n",
        "      #real_der=der --> want derivation of activation function\n",
        "      if(self.act_fun == \"sigmoid\"):\n",
        "        # sigmoid function\n",
        "        if(real_der==\"real\"):\n",
        "            return 1.0 / (1.0 + np.exp(-x))\n",
        "        else:\n",
        "           sigmoid_x = self.activation_func(x,\"real\")\n",
        "           return sigmoid_x * (1 - sigmoid_x)\n",
        "           \n",
        "\n",
        "      if(self.act_fun == \"tanh\"):\n",
        "        # tanh function\n",
        "        if(real_der==\"real\"):\n",
        "            return np.tanh(x)\n",
        "        else:\n",
        "           return 1 - (np.tanh(x) ** 2)\n",
        "           \n",
        "\n",
        "      if(self.act_fun == \"ReLU\"):\n",
        "        if(real_der==\"real\"):\n",
        "            return np.maximum(0, x)\n",
        "        else:\n",
        "            return (x > 0) * 1           \n",
        "        \n",
        "      if(self.act_fun == \"identity\"):\n",
        "        if(real_der==\"real\"):\n",
        "            return x\n",
        "        else:\n",
        "            return 1           \n",
        "\n"
      ]
    },
    {
      "cell_type": "markdown",
      "metadata": {
        "id": "R1ly6qJDuJ34"
      },
      "source": [
        "# Load & Preprocess"
      ]
    },
    {
      "cell_type": "code",
      "execution_count": 9,
      "metadata": {
        "id": "LtUQlh3zuJ34"
      },
      "outputs": [],
      "source": [
        "#Load dataset\n",
        "(train_images, train_labels), (test_images, test_labels) = fashion_mnist.load_data()\n",
        "total_class=max(train_labels)\n",
        "\n",
        "train_images = train_images.reshape(train_images.shape[0], -1) / 255.0\n",
        "test_images = test_images.reshape(test_images.shape[0], -1) / 255.0\n",
        "\n",
        "#change trainlabel=2 to oneHot=[0 0 1 0 0 0 0 0 0 0]\n",
        "train_labels_one_hot = np.eye(10)[train_labels]\n",
        "test_labels_one_hot = np.eye(10)[test_labels]\n",
        "\n",
        "train_images, val_images, train_labels_one_hot, val_labels_one_hot = train_test_split(train_images, train_labels_one_hot, test_size=0.1, random_state=42)\n",
        "\n"
      ]
    },
    {
      "cell_type": "markdown",
      "metadata": {
        "id": "hW9TQhcwuJ35"
      },
      "source": [
        "# Set param and call"
      ]
    },
    {
      "cell_type": "code",
      "execution_count": 11,
      "metadata": {
        "colab": {
          "base_uri": "https://localhost:8080/"
        },
        "id": "sf4GP91QuJ35",
        "outputId": "9a00092c-466f-43cc-b742-1fc848c482e3"
      },
      "outputs": [
        {
          "name": "stdout",
          "output_type": "stream",
          "text": [
            "layer_sizes= [784, 256, 256, 256, 256, 256, 10]\n",
            "inint Xavier\n",
            "Epoch 1, Training Loss: 0.3332927367213965 , Training Accuracy: 87.9462962962963 , Validation Loss: 0.3643093150171964 Validation Accuracy: 86.83333333333333\n",
            "Epoch 2, Training Loss: 0.2901292333847133 , Training Accuracy: 89.30925925925925 , Validation Loss: 0.3348420667957855 Validation Accuracy: 87.61666666666666\n",
            "TEST LOSS: 0.3569 TEST ACCURACY: 87.2100\n"
          ]
        }
      ],
      "source": [
        "\n",
        "no_hidden_layers=5\n",
        "hidden_layer_size=256\n",
        "\n",
        "layer_sizes=[]\n",
        "layer_sizes.append(train_images.shape[1])\n",
        "for i in range(no_hidden_layers):\n",
        "    layer_sizes.append(hidden_layer_size)\n",
        "layer_sizes.append(10)\n",
        "\n",
        "print(\"layer_sizes=\",layer_sizes)\n",
        "\n",
        "loss_act_func = LossActFunc(\"cross_entropy\",\"tanh\") #\"mean_squared_error\", \"cross_entropy\" # sigmoid, ReLU, tanh ,identity\n",
        "# loss_func = LossFunc(\"cross_entropy\")\n",
        "epochs=2\n",
        "initialization=\"Xavier\" #random , Xavier\n",
        "learning_rate=0.0005\n",
        "momentum=0.9  #for momentum and nag\n",
        "beta=0.5     #for rmsprop\n",
        "beta1=0.9    #for adam and nadam\n",
        "beta2=0.999    #for adam and nadam\n",
        "epsilon=1e-8\n",
        "weight_decay=0.0005\n",
        "batch_size=128\n",
        "optimizer=\"nadam\" # sgd , momentum ,nag , rmsprop , adam , nadam\n",
        "printFlag=\"print\" # if you want to log to wandb trhen set it to : \"wandb\"\n",
        "\n",
        "mlp = MultiLayerPerceptron(train_images, train_labels_one_hot,val_images,val_labels_one_hot, layer_sizes,initialization,loss_act_func,batch_size,epochs,learning_rate,weight_decay,optimizer,momentum,beta,beta1,beta2,epsilon,printFlag)\n",
        "mlp.init_weights()\n",
        "mlp.optimizer_func()\n",
        "mlp.test(test_images, test_labels_one_hot)"
      ]
    },
    {
      "cell_type": "markdown",
      "metadata": {
        "id": "3ZglDSVYuJ35"
      },
      "source": [
        "# Question4 sweep"
      ]
    },
    {
      "cell_type": "code",
      "execution_count": 10,
      "metadata": {
        "id": "Ow_0p1xQuJ35"
      },
      "outputs": [],
      "source": [
        "sweep_config = {\n",
        "    # Random Search for hyperparameters\n",
        "    \"name\" : \"Random_sweep\",\n",
        "    \"method\": \"random\",\n",
        "    \"metric\": {\"goal\": \"maximize\", \"name\": \"validationaccuracy\"},\n",
        "    \"parameters\": {\n",
        "        \"activation\": {\"values\": [\"sigmoid\", \"tanh\", \"ReLU\"]},\n",
        "        \"batch_size\": {\"values\": [16,32, 64]},\n",
        "        \"optimizer\": {\"values\": [\"sgd\", \"momentum\", \"nag\", \"rmsprop\", \"adam\", \"nadam\"]},\n",
        "        \"no_of_hidden_layer\": {\"values\": [3,4,5]},\n",
        "        \"size_of_hidden_layerr\": {\"values\": [128,64,32,256]},\n",
        "        \"epochs\": {\"values\": [5, 10]},\n",
        "        \"weight_decay\": {\"values\": [0.0, 0.0005,0.5]},\n",
        "        \"learning_rate\": {\"values\": [1e-3, 1e-4]},\n",
        "        \"initialization\": {\"values\": [\"Xavier\", \"random\"]}\n",
        "    }\n",
        "}"
      ]
    },
    {
      "cell_type": "code",
      "execution_count": 11,
      "metadata": {
        "id": "mJ6g2RJJuJ35"
      },
      "outputs": [],
      "source": [
        "def train():\n",
        "   init_sweep =  wandb.init(project=\"CS6910 - Assignment 1\", name=\"Question4\")\n",
        "   sweep_params = init_sweep.config\n",
        "\n",
        "   wandb.run.name = \"_ac_\" + sweep_params.activation + \"_bs_\" + str(sweep_params.batch_size) + \"_op_\" + sweep_params.optimizer + \"_hl_\" + str(sweep_params.no_of_hidden_layer)+ \"_neu_\" + str(sweep_params.size_of_hidden_layerr) +\"_ep_\" + str(sweep_params.epochs)+\"_wd_\" + str(sweep_params.weight_decay)+\"_lr_\" + str(sweep_params.learning_rate)+\"_ini_\"+sweep_params.initialization\n",
        "\n",
        "   loss_act_func = LossActFunc(\"cross_entropy\",sweep_params.activation)\n",
        "   epochs=sweep_params.epochs\n",
        "   initialization=sweep_params.initialization #random , Xavier\n",
        "   learning_rate=sweep_params.learning_rate\n",
        "   momentum=0.9  #for momentum and nag\n",
        "   beta=0.9     #for rmsprop\n",
        "   beta1=0.9    #for adam and nadam\n",
        "   beta2=0.999    #for adam and nadam\n",
        "   epsilon=0.000001\n",
        "   weight_decay=sweep_params.weight_decay\n",
        "   batch_size=sweep_params.batch_size\n",
        "   optimizer=sweep_params.optimizer # sgd , momentum ,nag , rmsprop , adam , nadam\n",
        "   printFlag=\"wandb\"\n",
        "\n",
        "   # layer_sizes = [train_images.shape[1],5,10,15,10]\n",
        "   layer_sizes=[]\n",
        "   layer_sizes.append(train_images.shape[1])\n",
        "   for i in range(sweep_params.no_of_hidden_layer):\n",
        "      layer_sizes.append(sweep_params.size_of_hidden_layerr)\n",
        "   layer_sizes.append(10)\n",
        "\n",
        "   print(\"layer_sizes=\",layer_sizes)\n",
        "\n",
        "   mlp = MultiLayerPerceptron(train_images, train_labels_one_hot,val_images,val_labels_one_hot, layer_sizes,initialization,loss_act_func,batch_size,epochs,learning_rate,weight_decay,optimizer,momentum,beta,beta1,beta2,epsilon,printFlag)\n",
        "   mlp.init_weights()\n",
        "   mlp.optimizer_func()\n",
        "   y_pred = mlp.feed_forwards(val_images)\n",
        "\n",
        "   val_accuracy=mlp.accuracy(y_pred,val_labels_one_hot)\n",
        "   wandb.log({\"validationaccuracy\": val_accuracy})\n"
      ]
    },
    {
      "cell_type": "code",
      "execution_count": 12,
      "metadata": {
        "id": "cElXppuIuJ35"
      },
      "outputs": [
        {
          "name": "stdout",
          "output_type": "stream",
          "text": [
            "Create sweep with ID: ybdu0m2b\n",
            "Sweep URL: https://wandb.ai/cs23m032/CS6910%20-%20Assignment%201/sweeps/ybdu0m2b\n"
          ]
        },
        {
          "name": "stderr",
          "output_type": "stream",
          "text": [
            "\u001b[34m\u001b[1mwandb\u001b[0m: Agent Starting Run: jvo7vat5 with config:\n",
            "\u001b[34m\u001b[1mwandb\u001b[0m: \tactivation: ReLU\n",
            "\u001b[34m\u001b[1mwandb\u001b[0m: \tbatch_size: 64\n",
            "\u001b[34m\u001b[1mwandb\u001b[0m: \tepochs: 5\n",
            "\u001b[34m\u001b[1mwandb\u001b[0m: \tinitialization: random\n",
            "\u001b[34m\u001b[1mwandb\u001b[0m: \tlearning_rate: 0.0001\n",
            "\u001b[34m\u001b[1mwandb\u001b[0m: \tno_of_hidden_layer: 4\n",
            "\u001b[34m\u001b[1mwandb\u001b[0m: \toptimizer: adam\n",
            "\u001b[34m\u001b[1mwandb\u001b[0m: \tsize_of_hidden_layerr: 32\n",
            "\u001b[34m\u001b[1mwandb\u001b[0m: \tweight_decay: 0\n",
            "Failed to detect the name of this notebook, you can set it manually with the WANDB_NOTEBOOK_NAME environment variable to enable code saving.\n",
            "\u001b[34m\u001b[1mwandb\u001b[0m: \u001b[33mWARNING\u001b[0m Ignored wandb.init() arg project when running a sweep.\n"
          ]
        },
        {
          "data": {
            "text/html": [
              "Tracking run with wandb version 0.16.4"
            ],
            "text/plain": [
              "<IPython.core.display.HTML object>"
            ]
          },
          "metadata": {},
          "output_type": "display_data"
        },
        {
          "data": {
            "text/html": [
              "Run data is saved locally in <code>c:\\Users\\Juhi\\OneDrive\\Documents\\IITM\\Sem2\\DL\\Assignment1\\wandb\\run-20240317_123811-jvo7vat5</code>"
            ],
            "text/plain": [
              "<IPython.core.display.HTML object>"
            ]
          },
          "metadata": {},
          "output_type": "display_data"
        },
        {
          "data": {
            "text/html": [
              "Syncing run <strong><a href='https://wandb.ai/cs23m032/CS6910%20-%20Assignment%201/runs/jvo7vat5' target=\"_blank\">Question4</a></strong> to <a href='https://wandb.ai/cs23m032/CS6910%20-%20Assignment%201' target=\"_blank\">Weights & Biases</a> (<a href='https://wandb.me/run' target=\"_blank\">docs</a>)<br/>Sweep page: <a href='https://wandb.ai/cs23m032/CS6910%20-%20Assignment%201/sweeps/ybdu0m2b' target=\"_blank\">https://wandb.ai/cs23m032/CS6910%20-%20Assignment%201/sweeps/ybdu0m2b</a>"
            ],
            "text/plain": [
              "<IPython.core.display.HTML object>"
            ]
          },
          "metadata": {},
          "output_type": "display_data"
        },
        {
          "data": {
            "text/html": [
              " View project at <a href='https://wandb.ai/cs23m032/CS6910%20-%20Assignment%201' target=\"_blank\">https://wandb.ai/cs23m032/CS6910%20-%20Assignment%201</a>"
            ],
            "text/plain": [
              "<IPython.core.display.HTML object>"
            ]
          },
          "metadata": {},
          "output_type": "display_data"
        },
        {
          "data": {
            "text/html": [
              " View sweep at <a href='https://wandb.ai/cs23m032/CS6910%20-%20Assignment%201/sweeps/ybdu0m2b' target=\"_blank\">https://wandb.ai/cs23m032/CS6910%20-%20Assignment%201/sweeps/ybdu0m2b</a>"
            ],
            "text/plain": [
              "<IPython.core.display.HTML object>"
            ]
          },
          "metadata": {},
          "output_type": "display_data"
        },
        {
          "data": {
            "text/html": [
              " View run at <a href='https://wandb.ai/cs23m032/CS6910%20-%20Assignment%201/runs/jvo7vat5' target=\"_blank\">https://wandb.ai/cs23m032/CS6910%20-%20Assignment%201/runs/jvo7vat5</a>"
            ],
            "text/plain": [
              "<IPython.core.display.HTML object>"
            ]
          },
          "metadata": {},
          "output_type": "display_data"
        },
        {
          "name": "stdout",
          "output_type": "stream",
          "text": [
            "layer_sizes= [784, 32, 32, 32, 32, 10]\n"
          ]
        },
        {
          "data": {
            "text/html": [
              "<style>\n",
              "    table.wandb td:nth-child(1) { padding: 0 10px; text-align: left ; width: auto;} td:nth-child(2) {text-align: left ; width: 100%}\n",
              "    .wandb-row { display: flex; flex-direction: row; flex-wrap: wrap; justify-content: flex-start; width: 100% }\n",
              "    .wandb-col { display: flex; flex-direction: column; flex-basis: 100%; flex: 1; padding: 10px; }\n",
              "    </style>\n",
              "<div class=\"wandb-row\"><div class=\"wandb-col\"><h3>Run history:</h3><br/><table class=\"wandb\"><tr><td>Epoch</td><td>▁▃▅▆█</td></tr><tr><td>Training_Accuracy</td><td>▁▃▅▇█</td></tr><tr><td>Training_Loss</td><td>█▆▄▂▁</td></tr><tr><td>Validation_Accuracy</td><td>▁▃▅▇█</td></tr><tr><td>Validation_Loss</td><td>█▆▄▂▁</td></tr><tr><td>validationaccuracy</td><td>▁</td></tr></table><br/></div><div class=\"wandb-col\"><h3>Run summary:</h3><br/><table class=\"wandb\"><tr><td>Epoch</td><td>5</td></tr><tr><td>Training_Accuracy</td><td>37.77593</td></tr><tr><td>Training_Loss</td><td>12.70247</td></tr><tr><td>Validation_Accuracy</td><td>36.63333</td></tr><tr><td>Validation_Loss</td><td>12.94169</td></tr><tr><td>validationaccuracy</td><td>36.63333</td></tr></table><br/></div></div>"
            ],
            "text/plain": [
              "<IPython.core.display.HTML object>"
            ]
          },
          "metadata": {},
          "output_type": "display_data"
        },
        {
          "data": {
            "text/html": [
              " View run <strong style=\"color:#cdcd00\">Question4</strong> at: <a href='https://wandb.ai/cs23m032/CS6910%20-%20Assignment%201/runs/jvo7vat5' target=\"_blank\">https://wandb.ai/cs23m032/CS6910%20-%20Assignment%201/runs/jvo7vat5</a><br/>Synced 5 W&B file(s), 0 media file(s), 0 artifact file(s) and 0 other file(s)"
            ],
            "text/plain": [
              "<IPython.core.display.HTML object>"
            ]
          },
          "metadata": {},
          "output_type": "display_data"
        },
        {
          "data": {
            "text/html": [
              "Find logs at: <code>.\\wandb\\run-20240317_123811-jvo7vat5\\logs</code>"
            ],
            "text/plain": [
              "<IPython.core.display.HTML object>"
            ]
          },
          "metadata": {},
          "output_type": "display_data"
        },
        {
          "name": "stderr",
          "output_type": "stream",
          "text": [
            "\u001b[34m\u001b[1mwandb\u001b[0m: Agent Starting Run: pkrkmiup with config:\n",
            "\u001b[34m\u001b[1mwandb\u001b[0m: \tactivation: sigmoid\n",
            "\u001b[34m\u001b[1mwandb\u001b[0m: \tbatch_size: 64\n",
            "\u001b[34m\u001b[1mwandb\u001b[0m: \tepochs: 5\n",
            "\u001b[34m\u001b[1mwandb\u001b[0m: \tinitialization: random\n",
            "\u001b[34m\u001b[1mwandb\u001b[0m: \tlearning_rate: 0.0001\n",
            "\u001b[34m\u001b[1mwandb\u001b[0m: \tno_of_hidden_layer: 4\n",
            "\u001b[34m\u001b[1mwandb\u001b[0m: \toptimizer: momentum\n",
            "\u001b[34m\u001b[1mwandb\u001b[0m: \tsize_of_hidden_layerr: 256\n",
            "\u001b[34m\u001b[1mwandb\u001b[0m: \tweight_decay: 0.0005\n",
            "Failed to detect the name of this notebook, you can set it manually with the WANDB_NOTEBOOK_NAME environment variable to enable code saving.\n",
            "\u001b[34m\u001b[1mwandb\u001b[0m: \u001b[33mWARNING\u001b[0m Ignored wandb.init() arg project when running a sweep.\n"
          ]
        },
        {
          "data": {
            "text/html": [
              "Tracking run with wandb version 0.16.4"
            ],
            "text/plain": [
              "<IPython.core.display.HTML object>"
            ]
          },
          "metadata": {},
          "output_type": "display_data"
        },
        {
          "data": {
            "text/html": [
              "Run data is saved locally in <code>c:\\Users\\Juhi\\OneDrive\\Documents\\IITM\\Sem2\\DL\\Assignment1\\wandb\\run-20240317_123838-pkrkmiup</code>"
            ],
            "text/plain": [
              "<IPython.core.display.HTML object>"
            ]
          },
          "metadata": {},
          "output_type": "display_data"
        },
        {
          "data": {
            "text/html": [
              "Syncing run <strong><a href='https://wandb.ai/cs23m032/CS6910%20-%20Assignment%201/runs/pkrkmiup' target=\"_blank\">Question4</a></strong> to <a href='https://wandb.ai/cs23m032/CS6910%20-%20Assignment%201' target=\"_blank\">Weights & Biases</a> (<a href='https://wandb.me/run' target=\"_blank\">docs</a>)<br/>Sweep page: <a href='https://wandb.ai/cs23m032/CS6910%20-%20Assignment%201/sweeps/ybdu0m2b' target=\"_blank\">https://wandb.ai/cs23m032/CS6910%20-%20Assignment%201/sweeps/ybdu0m2b</a>"
            ],
            "text/plain": [
              "<IPython.core.display.HTML object>"
            ]
          },
          "metadata": {},
          "output_type": "display_data"
        },
        {
          "data": {
            "text/html": [
              " View project at <a href='https://wandb.ai/cs23m032/CS6910%20-%20Assignment%201' target=\"_blank\">https://wandb.ai/cs23m032/CS6910%20-%20Assignment%201</a>"
            ],
            "text/plain": [
              "<IPython.core.display.HTML object>"
            ]
          },
          "metadata": {},
          "output_type": "display_data"
        },
        {
          "data": {
            "text/html": [
              " View sweep at <a href='https://wandb.ai/cs23m032/CS6910%20-%20Assignment%201/sweeps/ybdu0m2b' target=\"_blank\">https://wandb.ai/cs23m032/CS6910%20-%20Assignment%201/sweeps/ybdu0m2b</a>"
            ],
            "text/plain": [
              "<IPython.core.display.HTML object>"
            ]
          },
          "metadata": {},
          "output_type": "display_data"
        },
        {
          "data": {
            "text/html": [
              " View run at <a href='https://wandb.ai/cs23m032/CS6910%20-%20Assignment%201/runs/pkrkmiup' target=\"_blank\">https://wandb.ai/cs23m032/CS6910%20-%20Assignment%201/runs/pkrkmiup</a>"
            ],
            "text/plain": [
              "<IPython.core.display.HTML object>"
            ]
          },
          "metadata": {},
          "output_type": "display_data"
        },
        {
          "name": "stdout",
          "output_type": "stream",
          "text": [
            "layer_sizes= [784, 256, 256, 256, 256, 10]\n"
          ]
        },
        {
          "data": {
            "text/html": [
              "<style>\n",
              "    table.wandb td:nth-child(1) { padding: 0 10px; text-align: left ; width: auto;} td:nth-child(2) {text-align: left ; width: 100%}\n",
              "    .wandb-row { display: flex; flex-direction: row; flex-wrap: wrap; justify-content: flex-start; width: 100% }\n",
              "    .wandb-col { display: flex; flex-direction: column; flex-basis: 100%; flex: 1; padding: 10px; }\n",
              "    </style>\n",
              "<div class=\"wandb-row\"><div class=\"wandb-col\"><h3>Run history:</h3><br/><table class=\"wandb\"><tr><td>Epoch</td><td>▁▃▅▆█</td></tr><tr><td>Training_Accuracy</td><td>▁▄▆▇█</td></tr><tr><td>Training_Loss</td><td>█▄▃▂▁</td></tr><tr><td>Validation_Accuracy</td><td>▁▄▆▇█</td></tr><tr><td>Validation_Loss</td><td>█▄▃▂▁</td></tr><tr><td>validationaccuracy</td><td>▁</td></tr></table><br/></div><div class=\"wandb-col\"><h3>Run summary:</h3><br/><table class=\"wandb\"><tr><td>Epoch</td><td>5</td></tr><tr><td>Training_Accuracy</td><td>48.64444</td></tr><tr><td>Training_Loss</td><td>1.77821</td></tr><tr><td>Validation_Accuracy</td><td>48.55</td></tr><tr><td>Validation_Loss</td><td>1.7691</td></tr><tr><td>validationaccuracy</td><td>48.55</td></tr></table><br/></div></div>"
            ],
            "text/plain": [
              "<IPython.core.display.HTML object>"
            ]
          },
          "metadata": {},
          "output_type": "display_data"
        },
        {
          "data": {
            "text/html": [
              " View run <strong style=\"color:#cdcd00\">Question4</strong> at: <a href='https://wandb.ai/cs23m032/CS6910%20-%20Assignment%201/runs/pkrkmiup' target=\"_blank\">https://wandb.ai/cs23m032/CS6910%20-%20Assignment%201/runs/pkrkmiup</a><br/>Synced 5 W&B file(s), 0 media file(s), 0 artifact file(s) and 0 other file(s)"
            ],
            "text/plain": [
              "<IPython.core.display.HTML object>"
            ]
          },
          "metadata": {},
          "output_type": "display_data"
        },
        {
          "data": {
            "text/html": [
              "Find logs at: <code>.\\wandb\\run-20240317_123838-pkrkmiup\\logs</code>"
            ],
            "text/plain": [
              "<IPython.core.display.HTML object>"
            ]
          },
          "metadata": {},
          "output_type": "display_data"
        },
        {
          "name": "stderr",
          "output_type": "stream",
          "text": [
            "\u001b[34m\u001b[1mwandb\u001b[0m: Agent Starting Run: yxyk82jp with config:\n",
            "\u001b[34m\u001b[1mwandb\u001b[0m: \tactivation: ReLU\n",
            "\u001b[34m\u001b[1mwandb\u001b[0m: \tbatch_size: 32\n",
            "\u001b[34m\u001b[1mwandb\u001b[0m: \tepochs: 5\n",
            "\u001b[34m\u001b[1mwandb\u001b[0m: \tinitialization: random\n",
            "\u001b[34m\u001b[1mwandb\u001b[0m: \tlearning_rate: 0.0001\n",
            "\u001b[34m\u001b[1mwandb\u001b[0m: \tno_of_hidden_layer: 4\n",
            "\u001b[34m\u001b[1mwandb\u001b[0m: \toptimizer: momentum\n",
            "\u001b[34m\u001b[1mwandb\u001b[0m: \tsize_of_hidden_layerr: 128\n",
            "\u001b[34m\u001b[1mwandb\u001b[0m: \tweight_decay: 0\n",
            "Failed to detect the name of this notebook, you can set it manually with the WANDB_NOTEBOOK_NAME environment variable to enable code saving.\n",
            "\u001b[34m\u001b[1mwandb\u001b[0m: \u001b[33mWARNING\u001b[0m Ignored wandb.init() arg project when running a sweep.\n"
          ]
        },
        {
          "data": {
            "text/html": [
              "Tracking run with wandb version 0.16.4"
            ],
            "text/plain": [
              "<IPython.core.display.HTML object>"
            ]
          },
          "metadata": {},
          "output_type": "display_data"
        },
        {
          "data": {
            "text/html": [
              "Run data is saved locally in <code>c:\\Users\\Juhi\\OneDrive\\Documents\\IITM\\Sem2\\DL\\Assignment1\\wandb\\run-20240317_124006-yxyk82jp</code>"
            ],
            "text/plain": [
              "<IPython.core.display.HTML object>"
            ]
          },
          "metadata": {},
          "output_type": "display_data"
        },
        {
          "data": {
            "text/html": [
              "Syncing run <strong><a href='https://wandb.ai/cs23m032/CS6910%20-%20Assignment%201/runs/yxyk82jp' target=\"_blank\">Question4</a></strong> to <a href='https://wandb.ai/cs23m032/CS6910%20-%20Assignment%201' target=\"_blank\">Weights & Biases</a> (<a href='https://wandb.me/run' target=\"_blank\">docs</a>)<br/>Sweep page: <a href='https://wandb.ai/cs23m032/CS6910%20-%20Assignment%201/sweeps/ybdu0m2b' target=\"_blank\">https://wandb.ai/cs23m032/CS6910%20-%20Assignment%201/sweeps/ybdu0m2b</a>"
            ],
            "text/plain": [
              "<IPython.core.display.HTML object>"
            ]
          },
          "metadata": {},
          "output_type": "display_data"
        },
        {
          "data": {
            "text/html": [
              " View project at <a href='https://wandb.ai/cs23m032/CS6910%20-%20Assignment%201' target=\"_blank\">https://wandb.ai/cs23m032/CS6910%20-%20Assignment%201</a>"
            ],
            "text/plain": [
              "<IPython.core.display.HTML object>"
            ]
          },
          "metadata": {},
          "output_type": "display_data"
        },
        {
          "data": {
            "text/html": [
              " View sweep at <a href='https://wandb.ai/cs23m032/CS6910%20-%20Assignment%201/sweeps/ybdu0m2b' target=\"_blank\">https://wandb.ai/cs23m032/CS6910%20-%20Assignment%201/sweeps/ybdu0m2b</a>"
            ],
            "text/plain": [
              "<IPython.core.display.HTML object>"
            ]
          },
          "metadata": {},
          "output_type": "display_data"
        },
        {
          "data": {
            "text/html": [
              " View run at <a href='https://wandb.ai/cs23m032/CS6910%20-%20Assignment%201/runs/yxyk82jp' target=\"_blank\">https://wandb.ai/cs23m032/CS6910%20-%20Assignment%201/runs/yxyk82jp</a>"
            ],
            "text/plain": [
              "<IPython.core.display.HTML object>"
            ]
          },
          "metadata": {},
          "output_type": "display_data"
        },
        {
          "name": "stdout",
          "output_type": "stream",
          "text": [
            "layer_sizes= [784, 128, 128, 128, 128, 10]\n"
          ]
        },
        {
          "data": {
            "text/html": [
              "<style>\n",
              "    table.wandb td:nth-child(1) { padding: 0 10px; text-align: left ; width: auto;} td:nth-child(2) {text-align: left ; width: 100%}\n",
              "    .wandb-row { display: flex; flex-direction: row; flex-wrap: wrap; justify-content: flex-start; width: 100% }\n",
              "    .wandb-col { display: flex; flex-direction: column; flex-basis: 100%; flex: 1; padding: 10px; }\n",
              "    </style>\n",
              "<div class=\"wandb-row\"><div class=\"wandb-col\"><h3>Run history:</h3><br/><table class=\"wandb\"><tr><td>Epoch</td><td>▁▃▅▆█</td></tr><tr><td>Training_Accuracy</td><td>▁▅▇██</td></tr><tr><td>Training_Loss</td><td>█▅▃▂▁</td></tr><tr><td>Validation_Accuracy</td><td>▁▅▇██</td></tr><tr><td>Validation_Loss</td><td>█▅▃▂▁</td></tr><tr><td>validationaccuracy</td><td>▁</td></tr></table><br/></div><div class=\"wandb-col\"><h3>Run summary:</h3><br/><table class=\"wandb\"><tr><td>Epoch</td><td>5</td></tr><tr><td>Training_Accuracy</td><td>18.49259</td></tr><tr><td>Training_Loss</td><td>2.10671</td></tr><tr><td>Validation_Accuracy</td><td>17.26667</td></tr><tr><td>Validation_Loss</td><td>2.12549</td></tr><tr><td>validationaccuracy</td><td>17.26667</td></tr></table><br/></div></div>"
            ],
            "text/plain": [
              "<IPython.core.display.HTML object>"
            ]
          },
          "metadata": {},
          "output_type": "display_data"
        },
        {
          "data": {
            "text/html": [
              " View run <strong style=\"color:#cdcd00\">Question4</strong> at: <a href='https://wandb.ai/cs23m032/CS6910%20-%20Assignment%201/runs/yxyk82jp' target=\"_blank\">https://wandb.ai/cs23m032/CS6910%20-%20Assignment%201/runs/yxyk82jp</a><br/>Synced 5 W&B file(s), 0 media file(s), 0 artifact file(s) and 0 other file(s)"
            ],
            "text/plain": [
              "<IPython.core.display.HTML object>"
            ]
          },
          "metadata": {},
          "output_type": "display_data"
        },
        {
          "data": {
            "text/html": [
              "Find logs at: <code>.\\wandb\\run-20240317_124006-yxyk82jp\\logs</code>"
            ],
            "text/plain": [
              "<IPython.core.display.HTML object>"
            ]
          },
          "metadata": {},
          "output_type": "display_data"
        },
        {
          "name": "stderr",
          "output_type": "stream",
          "text": [
            "\u001b[34m\u001b[1mwandb\u001b[0m: Agent Starting Run: qfxvjvxa with config:\n",
            "\u001b[34m\u001b[1mwandb\u001b[0m: \tactivation: sigmoid\n",
            "\u001b[34m\u001b[1mwandb\u001b[0m: \tbatch_size: 64\n",
            "\u001b[34m\u001b[1mwandb\u001b[0m: \tepochs: 10\n",
            "\u001b[34m\u001b[1mwandb\u001b[0m: \tinitialization: random\n",
            "\u001b[34m\u001b[1mwandb\u001b[0m: \tlearning_rate: 0.001\n",
            "\u001b[34m\u001b[1mwandb\u001b[0m: \tno_of_hidden_layer: 4\n",
            "\u001b[34m\u001b[1mwandb\u001b[0m: \toptimizer: rmsprop\n",
            "\u001b[34m\u001b[1mwandb\u001b[0m: \tsize_of_hidden_layerr: 128\n",
            "\u001b[34m\u001b[1mwandb\u001b[0m: \tweight_decay: 0.5\n",
            "Failed to detect the name of this notebook, you can set it manually with the WANDB_NOTEBOOK_NAME environment variable to enable code saving.\n",
            "\u001b[34m\u001b[1mwandb\u001b[0m: \u001b[33mWARNING\u001b[0m Ignored wandb.init() arg project when running a sweep.\n"
          ]
        },
        {
          "data": {
            "text/html": [
              "Tracking run with wandb version 0.16.4"
            ],
            "text/plain": [
              "<IPython.core.display.HTML object>"
            ]
          },
          "metadata": {},
          "output_type": "display_data"
        },
        {
          "data": {
            "text/html": [
              "Run data is saved locally in <code>c:\\Users\\Juhi\\OneDrive\\Documents\\IITM\\Sem2\\DL\\Assignment1\\wandb\\run-20240317_124135-qfxvjvxa</code>"
            ],
            "text/plain": [
              "<IPython.core.display.HTML object>"
            ]
          },
          "metadata": {},
          "output_type": "display_data"
        },
        {
          "data": {
            "text/html": [
              "Syncing run <strong><a href='https://wandb.ai/cs23m032/CS6910%20-%20Assignment%201/runs/qfxvjvxa' target=\"_blank\">Question4</a></strong> to <a href='https://wandb.ai/cs23m032/CS6910%20-%20Assignment%201' target=\"_blank\">Weights & Biases</a> (<a href='https://wandb.me/run' target=\"_blank\">docs</a>)<br/>Sweep page: <a href='https://wandb.ai/cs23m032/CS6910%20-%20Assignment%201/sweeps/ybdu0m2b' target=\"_blank\">https://wandb.ai/cs23m032/CS6910%20-%20Assignment%201/sweeps/ybdu0m2b</a>"
            ],
            "text/plain": [
              "<IPython.core.display.HTML object>"
            ]
          },
          "metadata": {},
          "output_type": "display_data"
        },
        {
          "data": {
            "text/html": [
              " View project at <a href='https://wandb.ai/cs23m032/CS6910%20-%20Assignment%201' target=\"_blank\">https://wandb.ai/cs23m032/CS6910%20-%20Assignment%201</a>"
            ],
            "text/plain": [
              "<IPython.core.display.HTML object>"
            ]
          },
          "metadata": {},
          "output_type": "display_data"
        },
        {
          "data": {
            "text/html": [
              " View sweep at <a href='https://wandb.ai/cs23m032/CS6910%20-%20Assignment%201/sweeps/ybdu0m2b' target=\"_blank\">https://wandb.ai/cs23m032/CS6910%20-%20Assignment%201/sweeps/ybdu0m2b</a>"
            ],
            "text/plain": [
              "<IPython.core.display.HTML object>"
            ]
          },
          "metadata": {},
          "output_type": "display_data"
        },
        {
          "data": {
            "text/html": [
              " View run at <a href='https://wandb.ai/cs23m032/CS6910%20-%20Assignment%201/runs/qfxvjvxa' target=\"_blank\">https://wandb.ai/cs23m032/CS6910%20-%20Assignment%201/runs/qfxvjvxa</a>"
            ],
            "text/plain": [
              "<IPython.core.display.HTML object>"
            ]
          },
          "metadata": {},
          "output_type": "display_data"
        },
        {
          "name": "stdout",
          "output_type": "stream",
          "text": [
            "layer_sizes= [784, 128, 128, 128, 128, 10]\n"
          ]
        },
        {
          "data": {
            "text/html": [
              "<style>\n",
              "    table.wandb td:nth-child(1) { padding: 0 10px; text-align: left ; width: auto;} td:nth-child(2) {text-align: left ; width: 100%}\n",
              "    .wandb-row { display: flex; flex-direction: row; flex-wrap: wrap; justify-content: flex-start; width: 100% }\n",
              "    .wandb-col { display: flex; flex-direction: column; flex-basis: 100%; flex: 1; padding: 10px; }\n",
              "    </style>\n",
              "<div class=\"wandb-row\"><div class=\"wandb-col\"><h3>Run history:</h3><br/><table class=\"wandb\"><tr><td>Epoch</td><td>▁▂▃▃▄▅▆▆▇█</td></tr><tr><td>Training_Accuracy</td><td>█▁▁▁▁▁▁▁▁▁</td></tr><tr><td>Training_Loss</td><td>▁█████████</td></tr><tr><td>Validation_Accuracy</td><td>█▁▁▁▁▁▁▁▁▁</td></tr><tr><td>Validation_Loss</td><td>▁█████████</td></tr><tr><td>validationaccuracy</td><td>▁</td></tr></table><br/></div><div class=\"wandb-col\"><h3>Run summary:</h3><br/><table class=\"wandb\"><tr><td>Epoch</td><td>10</td></tr><tr><td>Training_Accuracy</td><td>9.98519</td></tr><tr><td>Training_Loss</td><td>2.30677</td></tr><tr><td>Validation_Accuracy</td><td>10.13333</td></tr><tr><td>Validation_Loss</td><td>2.30705</td></tr><tr><td>validationaccuracy</td><td>10.13333</td></tr></table><br/></div></div>"
            ],
            "text/plain": [
              "<IPython.core.display.HTML object>"
            ]
          },
          "metadata": {},
          "output_type": "display_data"
        },
        {
          "data": {
            "text/html": [
              " View run <strong style=\"color:#cdcd00\">Question4</strong> at: <a href='https://wandb.ai/cs23m032/CS6910%20-%20Assignment%201/runs/qfxvjvxa' target=\"_blank\">https://wandb.ai/cs23m032/CS6910%20-%20Assignment%201/runs/qfxvjvxa</a><br/>Synced 5 W&B file(s), 0 media file(s), 0 artifact file(s) and 0 other file(s)"
            ],
            "text/plain": [
              "<IPython.core.display.HTML object>"
            ]
          },
          "metadata": {},
          "output_type": "display_data"
        },
        {
          "data": {
            "text/html": [
              "Find logs at: <code>.\\wandb\\run-20240317_124135-qfxvjvxa\\logs</code>"
            ],
            "text/plain": [
              "<IPython.core.display.HTML object>"
            ]
          },
          "metadata": {},
          "output_type": "display_data"
        },
        {
          "name": "stderr",
          "output_type": "stream",
          "text": [
            "\u001b[34m\u001b[1mwandb\u001b[0m: Agent Starting Run: o26qgvv0 with config:\n",
            "\u001b[34m\u001b[1mwandb\u001b[0m: \tactivation: tanh\n",
            "\u001b[34m\u001b[1mwandb\u001b[0m: \tbatch_size: 32\n",
            "\u001b[34m\u001b[1mwandb\u001b[0m: \tepochs: 5\n",
            "\u001b[34m\u001b[1mwandb\u001b[0m: \tinitialization: Xavier\n",
            "\u001b[34m\u001b[1mwandb\u001b[0m: \tlearning_rate: 0.001\n",
            "\u001b[34m\u001b[1mwandb\u001b[0m: \tno_of_hidden_layer: 5\n",
            "\u001b[34m\u001b[1mwandb\u001b[0m: \toptimizer: sgd\n",
            "\u001b[34m\u001b[1mwandb\u001b[0m: \tsize_of_hidden_layerr: 64\n",
            "\u001b[34m\u001b[1mwandb\u001b[0m: \tweight_decay: 0.0005\n",
            "Failed to detect the name of this notebook, you can set it manually with the WANDB_NOTEBOOK_NAME environment variable to enable code saving.\n",
            "\u001b[34m\u001b[1mwandb\u001b[0m: \u001b[33mWARNING\u001b[0m Ignored wandb.init() arg project when running a sweep.\n"
          ]
        },
        {
          "data": {
            "text/html": [
              "Tracking run with wandb version 0.16.4"
            ],
            "text/plain": [
              "<IPython.core.display.HTML object>"
            ]
          },
          "metadata": {},
          "output_type": "display_data"
        },
        {
          "data": {
            "text/html": [
              "Run data is saved locally in <code>c:\\Users\\Juhi\\OneDrive\\Documents\\IITM\\Sem2\\DL\\Assignment1\\wandb\\run-20240317_124305-o26qgvv0</code>"
            ],
            "text/plain": [
              "<IPython.core.display.HTML object>"
            ]
          },
          "metadata": {},
          "output_type": "display_data"
        },
        {
          "data": {
            "text/html": [
              "Syncing run <strong><a href='https://wandb.ai/cs23m032/CS6910%20-%20Assignment%201/runs/o26qgvv0' target=\"_blank\">Question4</a></strong> to <a href='https://wandb.ai/cs23m032/CS6910%20-%20Assignment%201' target=\"_blank\">Weights & Biases</a> (<a href='https://wandb.me/run' target=\"_blank\">docs</a>)<br/>Sweep page: <a href='https://wandb.ai/cs23m032/CS6910%20-%20Assignment%201/sweeps/ybdu0m2b' target=\"_blank\">https://wandb.ai/cs23m032/CS6910%20-%20Assignment%201/sweeps/ybdu0m2b</a>"
            ],
            "text/plain": [
              "<IPython.core.display.HTML object>"
            ]
          },
          "metadata": {},
          "output_type": "display_data"
        },
        {
          "data": {
            "text/html": [
              " View project at <a href='https://wandb.ai/cs23m032/CS6910%20-%20Assignment%201' target=\"_blank\">https://wandb.ai/cs23m032/CS6910%20-%20Assignment%201</a>"
            ],
            "text/plain": [
              "<IPython.core.display.HTML object>"
            ]
          },
          "metadata": {},
          "output_type": "display_data"
        },
        {
          "data": {
            "text/html": [
              " View sweep at <a href='https://wandb.ai/cs23m032/CS6910%20-%20Assignment%201/sweeps/ybdu0m2b' target=\"_blank\">https://wandb.ai/cs23m032/CS6910%20-%20Assignment%201/sweeps/ybdu0m2b</a>"
            ],
            "text/plain": [
              "<IPython.core.display.HTML object>"
            ]
          },
          "metadata": {},
          "output_type": "display_data"
        },
        {
          "data": {
            "text/html": [
              " View run at <a href='https://wandb.ai/cs23m032/CS6910%20-%20Assignment%201/runs/o26qgvv0' target=\"_blank\">https://wandb.ai/cs23m032/CS6910%20-%20Assignment%201/runs/o26qgvv0</a>"
            ],
            "text/plain": [
              "<IPython.core.display.HTML object>"
            ]
          },
          "metadata": {},
          "output_type": "display_data"
        },
        {
          "name": "stdout",
          "output_type": "stream",
          "text": [
            "layer_sizes= [784, 64, 64, 64, 64, 64, 10]\n",
            "inint Xavier\n"
          ]
        },
        {
          "data": {
            "text/html": [
              "<style>\n",
              "    table.wandb td:nth-child(1) { padding: 0 10px; text-align: left ; width: auto;} td:nth-child(2) {text-align: left ; width: 100%}\n",
              "    .wandb-row { display: flex; flex-direction: row; flex-wrap: wrap; justify-content: flex-start; width: 100% }\n",
              "    .wandb-col { display: flex; flex-direction: column; flex-basis: 100%; flex: 1; padding: 10px; }\n",
              "    </style>\n",
              "<div class=\"wandb-row\"><div class=\"wandb-col\"><h3>Run history:</h3><br/><table class=\"wandb\"><tr><td>Epoch</td><td>▁▃▅▆█</td></tr><tr><td>Training_Accuracy</td><td>▁▄▆▇█</td></tr><tr><td>Training_Loss</td><td>█▅▃▂▁</td></tr><tr><td>Validation_Accuracy</td><td>▁▄▆▇█</td></tr><tr><td>Validation_Loss</td><td>█▅▃▂▁</td></tr><tr><td>validationaccuracy</td><td>▁</td></tr></table><br/></div><div class=\"wandb-col\"><h3>Run summary:</h3><br/><table class=\"wandb\"><tr><td>Epoch</td><td>5</td></tr><tr><td>Training_Accuracy</td><td>82.05556</td></tr><tr><td>Training_Loss</td><td>0.51118</td></tr><tr><td>Validation_Accuracy</td><td>80.93333</td></tr><tr><td>Validation_Loss</td><td>0.52387</td></tr><tr><td>validationaccuracy</td><td>80.93333</td></tr></table><br/></div></div>"
            ],
            "text/plain": [
              "<IPython.core.display.HTML object>"
            ]
          },
          "metadata": {},
          "output_type": "display_data"
        },
        {
          "data": {
            "text/html": [
              " View run <strong style=\"color:#cdcd00\">Question4</strong> at: <a href='https://wandb.ai/cs23m032/CS6910%20-%20Assignment%201/runs/o26qgvv0' target=\"_blank\">https://wandb.ai/cs23m032/CS6910%20-%20Assignment%201/runs/o26qgvv0</a><br/>Synced 5 W&B file(s), 0 media file(s), 0 artifact file(s) and 0 other file(s)"
            ],
            "text/plain": [
              "<IPython.core.display.HTML object>"
            ]
          },
          "metadata": {},
          "output_type": "display_data"
        },
        {
          "data": {
            "text/html": [
              "Find logs at: <code>.\\wandb\\run-20240317_124305-o26qgvv0\\logs</code>"
            ],
            "text/plain": [
              "<IPython.core.display.HTML object>"
            ]
          },
          "metadata": {},
          "output_type": "display_data"
        },
        {
          "name": "stderr",
          "output_type": "stream",
          "text": [
            "\u001b[34m\u001b[1mwandb\u001b[0m: Agent Starting Run: 8z894gty with config:\n",
            "\u001b[34m\u001b[1mwandb\u001b[0m: \tactivation: tanh\n",
            "\u001b[34m\u001b[1mwandb\u001b[0m: \tbatch_size: 16\n",
            "\u001b[34m\u001b[1mwandb\u001b[0m: \tepochs: 10\n",
            "\u001b[34m\u001b[1mwandb\u001b[0m: \tinitialization: Xavier\n",
            "\u001b[34m\u001b[1mwandb\u001b[0m: \tlearning_rate: 0.001\n",
            "\u001b[34m\u001b[1mwandb\u001b[0m: \tno_of_hidden_layer: 5\n",
            "\u001b[34m\u001b[1mwandb\u001b[0m: \toptimizer: nadam\n",
            "\u001b[34m\u001b[1mwandb\u001b[0m: \tsize_of_hidden_layerr: 32\n",
            "\u001b[34m\u001b[1mwandb\u001b[0m: \tweight_decay: 0\n",
            "Failed to detect the name of this notebook, you can set it manually with the WANDB_NOTEBOOK_NAME environment variable to enable code saving.\n",
            "\u001b[34m\u001b[1mwandb\u001b[0m: \u001b[33mWARNING\u001b[0m Ignored wandb.init() arg project when running a sweep.\n"
          ]
        },
        {
          "data": {
            "text/html": [
              "Tracking run with wandb version 0.16.4"
            ],
            "text/plain": [
              "<IPython.core.display.HTML object>"
            ]
          },
          "metadata": {},
          "output_type": "display_data"
        },
        {
          "data": {
            "text/html": [
              "Run data is saved locally in <code>c:\\Users\\Juhi\\OneDrive\\Documents\\IITM\\Sem2\\DL\\Assignment1\\wandb\\run-20240317_124342-8z894gty</code>"
            ],
            "text/plain": [
              "<IPython.core.display.HTML object>"
            ]
          },
          "metadata": {},
          "output_type": "display_data"
        },
        {
          "data": {
            "text/html": [
              "Syncing run <strong><a href='https://wandb.ai/cs23m032/CS6910%20-%20Assignment%201/runs/8z894gty' target=\"_blank\">Question4</a></strong> to <a href='https://wandb.ai/cs23m032/CS6910%20-%20Assignment%201' target=\"_blank\">Weights & Biases</a> (<a href='https://wandb.me/run' target=\"_blank\">docs</a>)<br/>Sweep page: <a href='https://wandb.ai/cs23m032/CS6910%20-%20Assignment%201/sweeps/ybdu0m2b' target=\"_blank\">https://wandb.ai/cs23m032/CS6910%20-%20Assignment%201/sweeps/ybdu0m2b</a>"
            ],
            "text/plain": [
              "<IPython.core.display.HTML object>"
            ]
          },
          "metadata": {},
          "output_type": "display_data"
        },
        {
          "data": {
            "text/html": [
              " View project at <a href='https://wandb.ai/cs23m032/CS6910%20-%20Assignment%201' target=\"_blank\">https://wandb.ai/cs23m032/CS6910%20-%20Assignment%201</a>"
            ],
            "text/plain": [
              "<IPython.core.display.HTML object>"
            ]
          },
          "metadata": {},
          "output_type": "display_data"
        },
        {
          "data": {
            "text/html": [
              " View sweep at <a href='https://wandb.ai/cs23m032/CS6910%20-%20Assignment%201/sweeps/ybdu0m2b' target=\"_blank\">https://wandb.ai/cs23m032/CS6910%20-%20Assignment%201/sweeps/ybdu0m2b</a>"
            ],
            "text/plain": [
              "<IPython.core.display.HTML object>"
            ]
          },
          "metadata": {},
          "output_type": "display_data"
        },
        {
          "data": {
            "text/html": [
              " View run at <a href='https://wandb.ai/cs23m032/CS6910%20-%20Assignment%201/runs/8z894gty' target=\"_blank\">https://wandb.ai/cs23m032/CS6910%20-%20Assignment%201/runs/8z894gty</a>"
            ],
            "text/plain": [
              "<IPython.core.display.HTML object>"
            ]
          },
          "metadata": {},
          "output_type": "display_data"
        },
        {
          "name": "stdout",
          "output_type": "stream",
          "text": [
            "layer_sizes= [784, 32, 32, 32, 32, 32, 10]\n",
            "inint Xavier\n"
          ]
        },
        {
          "data": {
            "text/html": [
              "<style>\n",
              "    table.wandb td:nth-child(1) { padding: 0 10px; text-align: left ; width: auto;} td:nth-child(2) {text-align: left ; width: 100%}\n",
              "    .wandb-row { display: flex; flex-direction: row; flex-wrap: wrap; justify-content: flex-start; width: 100% }\n",
              "    .wandb-col { display: flex; flex-direction: column; flex-basis: 100%; flex: 1; padding: 10px; }\n",
              "    </style>\n",
              "<div class=\"wandb-row\"><div class=\"wandb-col\"><h3>Run history:</h3><br/><table class=\"wandb\"><tr><td>Epoch</td><td>▁▂▃▃▄▅▆▆▇█</td></tr><tr><td>Training_Accuracy</td><td>▁▃▄▅▆▆▇▇██</td></tr><tr><td>Training_Loss</td><td>█▆▅▄▃▃▂▂▁▁</td></tr><tr><td>Validation_Accuracy</td><td>▁▃▄▆▆▇▇▇██</td></tr><tr><td>Validation_Loss</td><td>█▅▄▃▂▂▂▁▁▁</td></tr><tr><td>validationaccuracy</td><td>▁</td></tr></table><br/></div><div class=\"wandb-col\"><h3>Run summary:</h3><br/><table class=\"wandb\"><tr><td>Epoch</td><td>10</td></tr><tr><td>Training_Accuracy</td><td>89.65926</td></tr><tr><td>Training_Loss</td><td>0.28441</td></tr><tr><td>Validation_Accuracy</td><td>87.03333</td></tr><tr><td>Validation_Loss</td><td>0.357</td></tr><tr><td>validationaccuracy</td><td>87.03333</td></tr></table><br/></div></div>"
            ],
            "text/plain": [
              "<IPython.core.display.HTML object>"
            ]
          },
          "metadata": {},
          "output_type": "display_data"
        },
        {
          "data": {
            "text/html": [
              " View run <strong style=\"color:#cdcd00\">Question4</strong> at: <a href='https://wandb.ai/cs23m032/CS6910%20-%20Assignment%201/runs/8z894gty' target=\"_blank\">https://wandb.ai/cs23m032/CS6910%20-%20Assignment%201/runs/8z894gty</a><br/>Synced 5 W&B file(s), 0 media file(s), 0 artifact file(s) and 0 other file(s)"
            ],
            "text/plain": [
              "<IPython.core.display.HTML object>"
            ]
          },
          "metadata": {},
          "output_type": "display_data"
        },
        {
          "data": {
            "text/html": [
              "Find logs at: <code>.\\wandb\\run-20240317_124342-8z894gty\\logs</code>"
            ],
            "text/plain": [
              "<IPython.core.display.HTML object>"
            ]
          },
          "metadata": {},
          "output_type": "display_data"
        },
        {
          "name": "stderr",
          "output_type": "stream",
          "text": [
            "\u001b[34m\u001b[1mwandb\u001b[0m: Agent Starting Run: e6cwyluh with config:\n",
            "\u001b[34m\u001b[1mwandb\u001b[0m: \tactivation: sigmoid\n",
            "\u001b[34m\u001b[1mwandb\u001b[0m: \tbatch_size: 64\n",
            "\u001b[34m\u001b[1mwandb\u001b[0m: \tepochs: 10\n",
            "\u001b[34m\u001b[1mwandb\u001b[0m: \tinitialization: random\n",
            "\u001b[34m\u001b[1mwandb\u001b[0m: \tlearning_rate: 0.001\n",
            "\u001b[34m\u001b[1mwandb\u001b[0m: \tno_of_hidden_layer: 3\n",
            "\u001b[34m\u001b[1mwandb\u001b[0m: \toptimizer: rmsprop\n",
            "\u001b[34m\u001b[1mwandb\u001b[0m: \tsize_of_hidden_layerr: 256\n",
            "\u001b[34m\u001b[1mwandb\u001b[0m: \tweight_decay: 0.5\n",
            "Failed to detect the name of this notebook, you can set it manually with the WANDB_NOTEBOOK_NAME environment variable to enable code saving.\n",
            "\u001b[34m\u001b[1mwandb\u001b[0m: \u001b[33mWARNING\u001b[0m Ignored wandb.init() arg project when running a sweep.\n"
          ]
        },
        {
          "data": {
            "text/html": [
              "Tracking run with wandb version 0.16.4"
            ],
            "text/plain": [
              "<IPython.core.display.HTML object>"
            ]
          },
          "metadata": {},
          "output_type": "display_data"
        },
        {
          "data": {
            "text/html": [
              "Run data is saved locally in <code>c:\\Users\\Juhi\\OneDrive\\Documents\\IITM\\Sem2\\DL\\Assignment1\\wandb\\run-20240317_124528-e6cwyluh</code>"
            ],
            "text/plain": [
              "<IPython.core.display.HTML object>"
            ]
          },
          "metadata": {},
          "output_type": "display_data"
        },
        {
          "data": {
            "text/html": [
              "Syncing run <strong><a href='https://wandb.ai/cs23m032/CS6910%20-%20Assignment%201/runs/e6cwyluh' target=\"_blank\">Question4</a></strong> to <a href='https://wandb.ai/cs23m032/CS6910%20-%20Assignment%201' target=\"_blank\">Weights & Biases</a> (<a href='https://wandb.me/run' target=\"_blank\">docs</a>)<br/>Sweep page: <a href='https://wandb.ai/cs23m032/CS6910%20-%20Assignment%201/sweeps/ybdu0m2b' target=\"_blank\">https://wandb.ai/cs23m032/CS6910%20-%20Assignment%201/sweeps/ybdu0m2b</a>"
            ],
            "text/plain": [
              "<IPython.core.display.HTML object>"
            ]
          },
          "metadata": {},
          "output_type": "display_data"
        },
        {
          "data": {
            "text/html": [
              " View project at <a href='https://wandb.ai/cs23m032/CS6910%20-%20Assignment%201' target=\"_blank\">https://wandb.ai/cs23m032/CS6910%20-%20Assignment%201</a>"
            ],
            "text/plain": [
              "<IPython.core.display.HTML object>"
            ]
          },
          "metadata": {},
          "output_type": "display_data"
        },
        {
          "data": {
            "text/html": [
              " View sweep at <a href='https://wandb.ai/cs23m032/CS6910%20-%20Assignment%201/sweeps/ybdu0m2b' target=\"_blank\">https://wandb.ai/cs23m032/CS6910%20-%20Assignment%201/sweeps/ybdu0m2b</a>"
            ],
            "text/plain": [
              "<IPython.core.display.HTML object>"
            ]
          },
          "metadata": {},
          "output_type": "display_data"
        },
        {
          "data": {
            "text/html": [
              " View run at <a href='https://wandb.ai/cs23m032/CS6910%20-%20Assignment%201/runs/e6cwyluh' target=\"_blank\">https://wandb.ai/cs23m032/CS6910%20-%20Assignment%201/runs/e6cwyluh</a>"
            ],
            "text/plain": [
              "<IPython.core.display.HTML object>"
            ]
          },
          "metadata": {},
          "output_type": "display_data"
        },
        {
          "name": "stdout",
          "output_type": "stream",
          "text": [
            "layer_sizes= [784, 256, 256, 256, 10]\n"
          ]
        },
        {
          "data": {
            "text/html": [
              "<style>\n",
              "    table.wandb td:nth-child(1) { padding: 0 10px; text-align: left ; width: auto;} td:nth-child(2) {text-align: left ; width: 100%}\n",
              "    .wandb-row { display: flex; flex-direction: row; flex-wrap: wrap; justify-content: flex-start; width: 100% }\n",
              "    .wandb-col { display: flex; flex-direction: column; flex-basis: 100%; flex: 1; padding: 10px; }\n",
              "    </style>\n",
              "<div class=\"wandb-row\"><div class=\"wandb-col\"><h3>Run history:</h3><br/><table class=\"wandb\"><tr><td>Epoch</td><td>▁▅█</td></tr><tr><td>Training_Accuracy</td><td>█▅▁</td></tr><tr><td>Training_Loss</td><td>▁▆█</td></tr><tr><td>Validation_Accuracy</td><td>█▅▁</td></tr><tr><td>Validation_Loss</td><td>▁▆█</td></tr></table><br/></div><div class=\"wandb-col\"><h3>Run summary:</h3><br/><table class=\"wandb\"><tr><td>Epoch</td><td>3</td></tr><tr><td>Training_Accuracy</td><td>9.98519</td></tr><tr><td>Training_Loss</td><td>2.31286</td></tr><tr><td>Validation_Accuracy</td><td>10.13333</td></tr><tr><td>Validation_Loss</td><td>2.31366</td></tr></table><br/></div></div>"
            ],
            "text/plain": [
              "<IPython.core.display.HTML object>"
            ]
          },
          "metadata": {},
          "output_type": "display_data"
        },
        {
          "data": {
            "text/html": [
              " View run <strong style=\"color:#cdcd00\">Question4</strong> at: <a href='https://wandb.ai/cs23m032/CS6910%20-%20Assignment%201/runs/e6cwyluh' target=\"_blank\">https://wandb.ai/cs23m032/CS6910%20-%20Assignment%201/runs/e6cwyluh</a><br/>Synced 5 W&B file(s), 0 media file(s), 0 artifact file(s) and 0 other file(s)"
            ],
            "text/plain": [
              "<IPython.core.display.HTML object>"
            ]
          },
          "metadata": {},
          "output_type": "display_data"
        },
        {
          "data": {
            "text/html": [
              "Find logs at: <code>.\\wandb\\run-20240317_124528-e6cwyluh\\logs</code>"
            ],
            "text/plain": [
              "<IPython.core.display.HTML object>"
            ]
          },
          "metadata": {},
          "output_type": "display_data"
        }
      ],
      "source": [
        "sweep_id = wandb.sweep(sweep_config, project=\"CS6910 - Assignment 1\")\n",
        "wandb.agent(sweep_id, train, count=100)\n",
        "wandb.finish()"
      ]
    },
    {
      "cell_type": "markdown",
      "metadata": {
        "id": "qdWgGUe5uJ35"
      },
      "source": [
        "# Q4_bayesian_sweep"
      ]
    },
    {
      "cell_type": "code",
      "execution_count": null,
      "metadata": {
        "id": "XX9FZZEvuJ35"
      },
      "outputs": [],
      "source": [
        "sweep_config = {\n",
        "    # Bayesian Search for hyperparameters\n",
        "    \"name\" : \"Bayesian Sweep\",\n",
        "    \"method\": \"bayes\",\n",
        "    \"metric\": {\"goal\": \"maximize\", \"name\": \"validationaccuracy\"},\n",
        "    \"parameters\": {\n",
        "        \"activation\": {\"values\": [\"sigmoid\", \"tanh\", \"ReLU\"]},\n",
        "        \"batch_size\": {\"values\": [16,32, 64]},\n",
        "        \"optimizer\": {\"values\": [\"sgd\", \"momentum\", \"nag\", \"rmsprop\", \"adam\", \"nadam\"]},\n",
        "        \"no_of_hidden_layer\": {\"values\": [3,4,5]},\n",
        "        \"size_of_hidden_layerr\": {\"values\": [128,64,32,256]},\n",
        "        \"epochs\": {\"values\": [5, 10]},\n",
        "        \"weight_decay\": {\"values\": [0.0, 0.0005,0.5]},\n",
        "        \"learning_rate\": {\"values\": [1e-3, 1e-4]},\n",
        "        \"initialization\": {\"values\": [\"Xavier\", \"random\"]}\n",
        "    }\n",
        "}"
      ]
    },
    {
      "cell_type": "code",
      "execution_count": null,
      "metadata": {
        "id": "GSNjtHgguJ35"
      },
      "outputs": [],
      "source": [
        "def train():\n",
        "   init_sweep =  wandb.init(project=\"CS6910 - Assignment 1\", name=\"Question4_bayes\")\n",
        "   sweep_params = init_sweep.config\n",
        "\n",
        "   wandb.run.name = \"_ac_\" + sweep_params.activation + \"_bs_\" + str(sweep_params.batch_size) + \"_op_\" + sweep_params.optimizer +\"_hl_\" + str(sweep_params.no_of_hidden_layer)+ \"_neu_\" + str(sweep_params.size_of_hidden_layerr) +\"_ep_\" + str(sweep_params.epochs)+\"_wd_\" + str(sweep_params.weight_decay)+\"_lr_\" + str(sweep_params.learning_rate)+\"_ini_\"+sweep_params.initialization\n",
        "\n",
        "   loss_act_func = LossActFunc(\"cross_entropy\",sweep_params.activation)\n",
        "    # sigmoid, ReLU, tanh ,identity\n",
        "    #\"mean_squared_error\", \"cross_entropy\"\n",
        "   epochs=sweep_params.epochs\n",
        "   initialization=sweep_params.initialization #random , Xavier\n",
        "   learning_rate=sweep_params.learning_rate\n",
        "   momentum=0.9  #for momentum and nag\n",
        "   beta=0.9     #for rmsprop\n",
        "   beta1=0.9    #for adam and nadam\n",
        "   beta2=0.999    #for adam and nadam\n",
        "   epsilon=0.000001\n",
        "   weight_decay=sweep_params.weight_decay\n",
        "   batch_size=sweep_params.batch_size\n",
        "   optimizer=sweep_params.optimizer # sgd , momentum ,nag , rmsprop , adam , nadam   \n",
        "\n",
        "   # layer_sizes = [train_images.shape[1],5,10,15,10]\n",
        "   layer_sizes=[]\n",
        "   layer_sizes.append(train_images.shape[1])\n",
        "   for i in range(sweep_params.no_of_hidden_layer):\n",
        "      layer_sizes.append(sweep_params.size_of_hidden_layerr)\n",
        "   layer_sizes.append(10)\n",
        "\n",
        "   print(\"layer_sizes=\",layer_sizes)\n",
        "   printFlag=\"wandb\"\n",
        "   mlp = MultiLayerPerceptron(train_images, train_labels_one_hot,val_images,val_labels_one_hot, layer_sizes,initialization,loss_act_func,batch_size,epochs,learning_rate,weight_decay,optimizer,momentum,beta,beta1,beta2,epsilon,printFlag)\n",
        "   mlp.init_weights()\n",
        "   mlp.optimizer_func()\n",
        "   y_pred = mlp.feed_forwards(val_images)\n",
        "\n",
        "   val_accuracy=mlp.accuracy(y_pred,val_labels_one_hot)\n",
        "   wandb.log({\"validationaccuracy\": val_accuracy})\n"
      ]
    },
    {
      "cell_type": "code",
      "execution_count": null,
      "metadata": {
        "id": "p9In-KWZuJ35"
      },
      "outputs": [],
      "source": [
        "sweep_id = wandb.sweep(sweep_config, project=\"CS6910 - Assignment 1\")\n",
        "wandb.agent(sweep_id, train, count=100)\n",
        "wandb.finish()"
      ]
    },
    {
      "cell_type": "markdown",
      "metadata": {
        "id": "bSPpmDR6uJ35"
      },
      "source": [
        "# Question7"
      ]
    },
    {
      "cell_type": "code",
      "execution_count": 12,
      "metadata": {
        "colab": {
          "base_uri": "https://localhost:8080/"
        },
        "id": "EMeLNtJwuJ35",
        "outputId": "32a36415-43bc-4709-d005-725cf71fcfce"
      },
      "outputs": [
        {
          "name": "stdout",
          "output_type": "stream",
          "text": [
            "layer_sizes= [784, 256, 256, 256, 256, 10]\n",
            "inint Xavier\n",
            "Epoch 1, Training Loss: 0.3448078268933393 , Training Accuracy: 87.46666666666667 , Validation Loss: 0.3697558910452753 Validation Accuracy: 86.48333333333333\n",
            "Epoch 2, Training Loss: 0.31393492784344995 , Training Accuracy: 88.48888888888888 , Validation Loss: 0.35095701208135793 Validation Accuracy: 87.11666666666666\n",
            "Epoch 3, Training Loss: 0.2852698069115193 , Training Accuracy: 89.45925925925926 , Validation Loss: 0.3330529724065472 Validation Accuracy: 87.76666666666667\n",
            "Epoch 4, Training Loss: 0.26964106896211415 , Training Accuracy: 89.91666666666667 , Validation Loss: 0.32631131497879357 Validation Accuracy: 88.28333333333333\n",
            "Epoch 5, Training Loss: 0.25596636037095827 , Training Accuracy: 90.49259259259259 , Validation Loss: 0.3225979526191998 Validation Accuracy: 88.55\n",
            "Epoch 6, Training Loss: 0.24299166650933912 , Training Accuracy: 90.97407407407407 , Validation Loss: 0.31727248354786053 Validation Accuracy: 88.61666666666666\n",
            "Epoch 7, Training Loss: 0.23460617571569176 , Training Accuracy: 91.30555555555556 , Validation Loss: 0.3152930400525588 Validation Accuracy: 88.8\n",
            "Epoch 8, Training Loss: 0.22747894002247648 , Training Accuracy: 91.57592592592593 , Validation Loss: 0.31425550751924186 Validation Accuracy: 88.86666666666667\n",
            "Epoch 9, Training Loss: 0.21896014549169965 , Training Accuracy: 91.85740740740741 , Validation Loss: 0.3144397113786956 Validation Accuracy: 88.64999999999999\n",
            "Epoch 10, Training Loss: 0.21335404551331186 , Training Accuracy: 92.11481481481482 , Validation Loss: 0.31351785291344625 Validation Accuracy: 88.93333333333334\n",
            "TEST LOSS: 0.3333 TEST ACCURACY: 88.4400\n"
          ]
        }
      ],
      "source": [
        "\n",
        "#set best params\n",
        "# layer_sizes = [train_images.shape[1],256,256,256,128,128,10]  # Input, hidden1, hidden2,hidden3 output\n",
        "\n",
        "no_hidden_layers=4\n",
        "hidden_layer_size=256\n",
        "\n",
        "layer_sizes=[]\n",
        "layer_sizes.append(train_images.shape[1])\n",
        "for i in range(no_hidden_layers):\n",
        "    layer_sizes.append(hidden_layer_size)\n",
        "layer_sizes.append(10)\n",
        "\n",
        "print(\"layer_sizes=\",layer_sizes)\n",
        "\n",
        "loss_act_func = LossActFunc(\"cross_entropy\",\"ReLU\") # sigmoid, ReLU, tanh ,identity\n",
        "# loss_func = LossFunc(\"cross_entropy\") #\"mean_squared_error\", \"cross_entropy\"\n",
        "epochs=10\n",
        "initialization=\"Xavier\" #random , Xavier\n",
        "learning_rate=0.001\n",
        "momentum=0.9  #for momentum and nag\n",
        "beta=0.5     #for rmsprop\n",
        "beta1=0.9    #for adam and nadam\n",
        "beta2=0.999    #for adam and nadam\n",
        "epsilon=1e-8\n",
        "weight_decay=0.0005\n",
        "batch_size=32\n",
        "optimizer=\"nadam\" # sgd , momentum ,nag , rmsprop , adam , nadam\n",
        "\n",
        "printFlag=\"print\"\n",
        "mlp = MultiLayerPerceptron(train_images, train_labels_one_hot,val_images,val_labels_one_hot, layer_sizes,initialization,loss_act_func,batch_size,epochs,learning_rate,weight_decay,optimizer,momentum,beta,beta1,beta2,epsilon,printFlag)\n",
        "mlp.init_weights()\n",
        "mlp.optimizer_func()\n",
        "mlp.test(test_images, test_labels_one_hot)"
      ]
    },
    {
      "cell_type": "code",
      "execution_count": 14,
      "metadata": {
        "colab": {
          "base_uri": "https://localhost:8080/",
          "height": 871,
          "referenced_widgets": [
            "e94f66021c3844b1a76e4ab0a80cbc1b",
            "6e1b1f91f9884a72b36083aa2c708af0",
            "00da48534241485db5be19ce8baa0a75",
            "fd8d3b7b399947dea9dfb03a03ca1135",
            "d3f1690aa6cb495f81bd6f0588ce74a4",
            "3daa135aca774637922284c126e6d5e8",
            "638dc8a3d72445d4b47850a3df798f20",
            "40ff80430f48459b9692c29ae763b4ca"
          ]
        },
        "id": "w4ZrZwG5uJ36",
        "outputId": "c515b4d0-733e-4ae5-c17f-81073fb77398"
      },
      "outputs": [
        {
          "name": "stderr",
          "output_type": "stream",
          "text": [
            "\u001b[34m\u001b[1mwandb\u001b[0m: Currently logged in as: \u001b[33mcs23m032\u001b[0m. Use \u001b[1m`wandb login --relogin`\u001b[0m to force relogin\n"
          ]
        },
        {
          "data": {
            "text/html": [
              "Tracking run with wandb version 0.16.4"
            ],
            "text/plain": [
              "<IPython.core.display.HTML object>"
            ]
          },
          "metadata": {},
          "output_type": "display_data"
        },
        {
          "data": {
            "text/html": [
              "Run data is saved locally in <code>/content/wandb/run-20240316_201241-5pqp77sx</code>"
            ],
            "text/plain": [
              "<IPython.core.display.HTML object>"
            ]
          },
          "metadata": {},
          "output_type": "display_data"
        },
        {
          "data": {
            "text/html": [
              "Syncing run <strong><a href='https://wandb.ai/cs23m032/CS6910%20-%20Assignment%201/runs/5pqp77sx' target=\"_blank\">Question7_confusion</a></strong> to <a href='https://wandb.ai/cs23m032/CS6910%20-%20Assignment%201' target=\"_blank\">Weights & Biases</a> (<a href='https://wandb.me/run' target=\"_blank\">docs</a>)<br/>"
            ],
            "text/plain": [
              "<IPython.core.display.HTML object>"
            ]
          },
          "metadata": {},
          "output_type": "display_data"
        },
        {
          "data": {
            "text/html": [
              " View project at <a href='https://wandb.ai/cs23m032/CS6910%20-%20Assignment%201' target=\"_blank\">https://wandb.ai/cs23m032/CS6910%20-%20Assignment%201</a>"
            ],
            "text/plain": [
              "<IPython.core.display.HTML object>"
            ]
          },
          "metadata": {},
          "output_type": "display_data"
        },
        {
          "data": {
            "text/html": [
              " View run at <a href='https://wandb.ai/cs23m032/CS6910%20-%20Assignment%201/runs/5pqp77sx' target=\"_blank\">https://wandb.ai/cs23m032/CS6910%20-%20Assignment%201/runs/5pqp77sx</a>"
            ],
            "text/plain": [
              "<IPython.core.display.HTML object>"
            ]
          },
          "metadata": {},
          "output_type": "display_data"
        },
        {
          "data": {
            "application/vnd.jupyter.widget-view+json": {
              "model_id": "e94f66021c3844b1a76e4ab0a80cbc1b",
              "version_major": 2,
              "version_minor": 0
            },
            "text/plain": [
              "VBox(children=(Label(value='0.001 MB of 0.069 MB uploaded\\r'), FloatProgress(value=0.01477737532880693, max=1.…"
            ]
          },
          "metadata": {},
          "output_type": "display_data"
        },
        {
          "data": {
            "text/html": [
              " View run <strong style=\"color:#cdcd00\">Question7_confusion</strong> at: <a href='https://wandb.ai/cs23m032/CS6910%20-%20Assignment%201/runs/5pqp77sx' target=\"_blank\">https://wandb.ai/cs23m032/CS6910%20-%20Assignment%201/runs/5pqp77sx</a><br/>Synced 4 W&B file(s), 1 media file(s), 0 artifact file(s) and 0 other file(s)"
            ],
            "text/plain": [
              "<IPython.core.display.HTML object>"
            ]
          },
          "metadata": {},
          "output_type": "display_data"
        },
        {
          "data": {
            "text/html": [
              "Find logs at: <code>./wandb/run-20240316_201241-5pqp77sx/logs</code>"
            ],
            "text/plain": [
              "<IPython.core.display.HTML object>"
            ]
          },
          "metadata": {},
          "output_type": "display_data"
        },
        {
          "data": {
            "image/png": "[encoded data removed]",
            "text/plain": [
              "<Figure size 1000x800 with 2 Axes>"
            ]
          },
          "metadata": {},
          "output_type": "display_data"
        }
      ],
      "source": [
        "className_images = ['T-shirt/top', 'Trouser', 'Pullover', 'Dress', 'Coat', 'Sandal', 'Shirt', 'Sneaker', 'Bag', 'Ankle boot']\n",
        "\n",
        "pred_class = mlp.feed_forwards(test_images)\n",
        "\n",
        "wandb.init(project=\"CS6910 - Assignment 1\", name=\"Question7_confusion\")\n",
        "\n",
        "mat_predicted=[]\n",
        "mat_true=[]\n",
        "for i in range(len(pred_class)):\n",
        "  mat_predicted.append(np.argmax(pred_class[i]))\n",
        "for i in range(len(pred_class)):\n",
        "  mat_true.append(np.argmax(test_labels_one_hot[i]))\n",
        "\n",
        "fig, ax = plt.subplots(figsize=(10, 8))\n",
        "confusion_matrix = metrics.confusion_matrix(mat_true , mat_predicted)\n",
        "cm_display = metrics.ConfusionMatrixDisplay(confusion_matrix = confusion_matrix, display_labels = className_images)\n",
        "plt.title('Confusion Matrix Fashion', fontsize=10)\n",
        "cm_display.plot(ax=ax)\n",
        "# plt.show()\n",
        "\n",
        "wandb.log({\"Confusion_Matrix\": wandb.Image(plt)})\n",
        "wandb.finish()"
      ]
    },
    {
      "cell_type": "code",
      "execution_count": null,
      "metadata": {
        "id": "cYBNy11XuJ36"
      },
      "outputs": [],
      "source": [
        "wandb.finish()"
      ]
    },
    {
      "cell_type": "markdown",
      "metadata": {
        "id": "llDvHj-3uJ36"
      },
      "source": [
        "# Question 8\n"
      ]
    },
    {
      "cell_type": "code",
      "execution_count": null,
      "metadata": {
        "id": "-SINfTl6uJ36"
      },
      "outputs": [],
      "source": [
        "sweep_config = {\n",
        "    # RandomSearch over the hyperparameters\n",
        "    \"name\" : \"Question 8\",\n",
        "    \"method\": \"random\",\n",
        "    \"metric\": {\"goal\": \"maximize\", \"name\": \"validationaccuracy\"},\n",
        "    \"parameters\": {\n",
        "        \"loss_fun\":{\"values\": [\"cross_entropy\",\"mean_squared_error\"]}\n",
        "    }\n",
        "}\n",
        "\n",
        "def train():\n",
        "    init_sweep =  wandb.init(project=\"CS6910 - Assignment 1\", name=\"Question8\")\n",
        "    sweep_params = init_sweep.config\n",
        "\n",
        "    wandb.run.name = \"Loss_function\" + sweep_params.loss_fun\n",
        "\n",
        "    activation=\"tanh\"\n",
        "    loss=sweep_params.loss_fun\n",
        "    loss_act_func_square = LossActFunc(loss,activation)\n",
        "    no_hidden_layers=3\n",
        "    hidden_layer_size=128\n",
        "\n",
        "    layer_sizes=[]\n",
        "    layer_sizes.append(train_images.shape[1])\n",
        "    for i in range(no_hidden_layers):\n",
        "        layer_sizes.append(hidden_layer_size)\n",
        "    layer_sizes.append(10)\n",
        "\n",
        "    print(\"layer_sizes=\",layer_sizes)\n",
        "\n",
        "    # loss_func = LossFunc(\"cross_entropy\") #\"mean_squared_error\", \"cross_entropy\"\n",
        "    epochs=10\n",
        "    initialization=\"Xavier\" #random , Xavier\n",
        "    learning_rate=0.0001\n",
        "    momentum=0.9  #for momentum and nag\n",
        "    beta=0.5     #for rmsprop\n",
        "    beta1=0.9    #for adam and nadam\n",
        "    beta2=0.999    #for adam and nadam\n",
        "    epsilon=1e-8\n",
        "    weight_decay=0.0005\n",
        "    batch_size=32\n",
        "    optimizer=\"adam\" # sgd , momentum ,nag , rmsprop , adam , nadam\n",
        "    printFlag=\"wandb\"\n",
        "\n",
        "    mlp_cross = MultiLayerPerceptron(train_images, train_labels_one_hot,val_images,val_labels_one_hot, layer_sizes,initialization,loss_act_func,batch_size,epochs,learning_rate,weight_decay,optimizer,momentum,beta,beta1,beta2,epsilon,printFlag)\n",
        "    mlp_cross.init_weights()\n",
        "    mlp_cross.optimizer_func()\n",
        "    mlp_cross.test(test_images, test_labels_one_hot)"
      ]
    },
    {
      "cell_type": "code",
      "execution_count": null,
      "metadata": {
        "id": "LlSA2kE8uJ36"
      },
      "outputs": [],
      "source": [
        "sweep_id = wandb.sweep(sweep_config, project=\"CS6910 - Assignment 1\")\n",
        "wandb.agent(sweep_id, train, count=10)\n",
        "wandb.finish()"
      ]
    },
    {
      "cell_type": "markdown",
      "metadata": {
        "id": "CnLQarQIuJ36"
      },
      "source": [
        "# Question 10"
      ]
    },
    {
      "cell_type": "code",
      "execution_count": null,
      "metadata": {
        "id": "bxngor2zuJ36"
      },
      "outputs": [],
      "source": [
        "Test_losses=[]\n",
        "Test_Acuracy=[]\n",
        "Config_name=[\"config1\",\"config2\",\"config3\"]"
      ]
    },
    {
      "cell_type": "code",
      "execution_count": null,
      "metadata": {
        "id": "x4jc3GcguJ36",
        "outputId": "fd52a254-98ea-4dc4-ea5c-0f1b052a338f"
      },
      "outputs": [
        {
          "name": "stdout",
          "output_type": "stream",
          "text": [
            "Collecting plotly\n",
            "  Downloading plotly-5.20.0-py3-none-any.whl.metadata (7.0 kB)\n",
            "Collecting tenacity>=6.2.0 (from plotly)\n",
            "  Downloading tenacity-8.2.3-py3-none-any.whl.metadata (1.0 kB)\n",
            "Requirement already satisfied: packaging in c:\\users\\juhi\\appdata\\local\\programs\\python\\python312\\lib\\site-packages (from plotly) (23.2)\n",
            "Downloading plotly-5.20.0-py3-none-any.whl (15.7 MB)\n",
            "   ---------------------------------------- 0.0/15.7 MB ? eta -:--:--\n",
            "   ---------------------------------------- 0.0/15.7 MB ? eta -:--:--\n",
            "   ---------------------------------------- 0.0/15.7 MB ? eta -:--:--\n",
            "   ---------------------------------------- 0.0/15.7 MB 640.0 kB/s eta 0:00:25\n",
            "   ---------------------------------------- 0.1/15.7 MB 465.5 kB/s eta 0:00:34\n",
            "   ---------------------------------------- 0.1/15.7 MB 652.2 kB/s eta 0:00:24\n",
            "   ---------------------------------------- 0.2/15.7 MB 702.7 kB/s eta 0:00:23\n",
            "   ---------------------------------------- 0.2/15.7 MB 737.3 kB/s eta 0:00:22\n",
            "    --------------------------------------- 0.2/15.7 MB 762.6 kB/s eta 0:00:21\n",
            "    --------------------------------------- 0.3/15.7 MB 809.2 kB/s eta 0:00:20\n",
            "    --------------------------------------- 0.3/15.7 MB 838.1 kB/s eta 0:00:19\n",
            "    --------------------------------------- 0.4/15.7 MB 865.0 kB/s eta 0:00:18\n",
            "   - -------------------------------------- 0.4/15.7 MB 802.3 kB/s eta 0:00:20\n",
            "   - -------------------------------------- 0.5/15.7 MB 827.7 kB/s eta 0:00:19\n",
            "   - -------------------------------------- 0.5/15.7 MB 836.7 kB/s eta 0:00:19\n",
            "   - -------------------------------------- 0.5/15.7 MB 862.0 kB/s eta 0:00:18\n",
            "   - -------------------------------------- 0.6/15.7 MB 822.9 kB/s eta 0:00:19\n",
            "   - -------------------------------------- 0.6/15.7 MB 822.0 kB/s eta 0:00:19\n",
            "   - -------------------------------------- 0.7/15.7 MB 855.6 kB/s eta 0:00:18\n",
            "   - -------------------------------------- 0.7/15.7 MB 860.8 kB/s eta 0:00:18\n",
            "   - -------------------------------------- 0.7/15.7 MB 849.3 kB/s eta 0:00:18\n",
            "   - -------------------------------------- 0.8/15.7 MB 846.7 kB/s eta 0:00:18\n",
            "   -- ------------------------------------- 0.8/15.7 MB 840.6 kB/s eta 0:00:18\n",
            "   -- ------------------------------------- 0.8/15.7 MB 831.7 kB/s eta 0:00:18\n",
            "   -- ------------------------------------- 0.9/15.7 MB 811.8 kB/s eta 0:00:19\n",
            "   -- ------------------------------------- 0.9/15.7 MB 816.2 kB/s eta 0:00:19\n",
            "   -- ------------------------------------- 0.9/15.7 MB 811.8 kB/s eta 0:00:19\n",
            "   -- ------------------------------------- 0.9/15.7 MB 811.8 kB/s eta 0:00:19\n",
            "   -- ------------------------------------- 0.9/15.7 MB 754.5 kB/s eta 0:00:20\n",
            "   -- ------------------------------------- 0.9/15.7 MB 754.5 kB/s eta 0:00:20\n",
            "   -- ------------------------------------- 1.0/15.7 MB 725.3 kB/s eta 0:00:21\n",
            "   -- ------------------------------------- 1.0/15.7 MB 707.8 kB/s eta 0:00:21\n",
            "   -- ------------------------------------- 1.0/15.7 MB 698.7 kB/s eta 0:00:22\n",
            "   -- ------------------------------------- 1.0/15.7 MB 683.1 kB/s eta 0:00:22\n",
            "   -- ------------------------------------- 1.0/15.7 MB 682.7 kB/s eta 0:00:22\n",
            "   -- ------------------------------------- 1.0/15.7 MB 668.5 kB/s eta 0:00:22\n",
            "   -- ------------------------------------- 1.0/15.7 MB 668.5 kB/s eta 0:00:22\n",
            "   -- ------------------------------------- 1.1/15.7 MB 655.4 kB/s eta 0:00:23\n",
            "   -- ------------------------------------- 1.1/15.7 MB 649.1 kB/s eta 0:00:23\n",
            "   -- ------------------------------------- 1.1/15.7 MB 649.3 kB/s eta 0:00:23\n",
            "   -- ------------------------------------- 1.1/15.7 MB 632.1 kB/s eta 0:00:24\n",
            "   -- ------------------------------------- 1.1/15.7 MB 632.1 kB/s eta 0:00:24\n",
            "   -- ------------------------------------- 1.2/15.7 MB 622.0 kB/s eta 0:00:24\n",
            "   --- ------------------------------------ 1.2/15.7 MB 622.6 kB/s eta 0:00:24\n",
            "   --- ------------------------------------ 1.2/15.7 MB 607.6 kB/s eta 0:00:24\n",
            "   --- ------------------------------------ 1.2/15.7 MB 599.0 kB/s eta 0:00:25\n",
            "   --- ------------------------------------ 1.2/15.7 MB 594.6 kB/s eta 0:00:25\n",
            "   --- ------------------------------------ 1.2/15.7 MB 591.1 kB/s eta 0:00:25\n",
            "   --- ------------------------------------ 1.3/15.7 MB 587.9 kB/s eta 0:00:25\n",
            "   --- ------------------------------------ 1.3/15.7 MB 575.6 kB/s eta 0:00:26\n",
            "   --- ------------------------------------ 1.3/15.7 MB 572.7 kB/s eta 0:00:26\n",
            "   --- ------------------------------------ 1.3/15.7 MB 572.7 kB/s eta 0:00:26\n",
            "   --- ------------------------------------ 1.3/15.7 MB 555.4 kB/s eta 0:00:26\n",
            "   --- ------------------------------------ 1.3/15.7 MB 553.1 kB/s eta 0:00:26\n",
            "   --- ------------------------------------ 1.4/15.7 MB 546.6 kB/s eta 0:00:27\n",
            "   --- ------------------------------------ 1.4/15.7 MB 546.6 kB/s eta 0:00:27\n",
            "   --- ------------------------------------ 1.4/15.7 MB 544.8 kB/s eta 0:00:27\n",
            "   --- ------------------------------------ 1.4/15.7 MB 532.1 kB/s eta 0:00:27\n",
            "   --- ------------------------------------ 1.4/15.7 MB 535.1 kB/s eta 0:00:27\n",
            "   --- ------------------------------------ 1.4/15.7 MB 529.5 kB/s eta 0:00:27\n",
            "   --- ------------------------------------ 1.4/15.7 MB 529.5 kB/s eta 0:00:27\n",
            "   --- ------------------------------------ 1.5/15.7 MB 525.0 kB/s eta 0:00:28\n",
            "   --- ------------------------------------ 1.5/15.7 MB 519.9 kB/s eta 0:00:28\n",
            "   --- ------------------------------------ 1.5/15.7 MB 516.5 kB/s eta 0:00:28\n",
            "   --- ------------------------------------ 1.5/15.7 MB 515.2 kB/s eta 0:00:28\n",
            "   --- ------------------------------------ 1.5/15.7 MB 516.5 kB/s eta 0:00:28\n",
            "   --- ------------------------------------ 1.6/15.7 MB 518.8 kB/s eta 0:00:28\n",
            "   ---- ----------------------------------- 1.6/15.7 MB 517.5 kB/s eta 0:00:28\n",
            "   ---- ----------------------------------- 1.6/15.7 MB 516.9 kB/s eta 0:00:28\n",
            "   ---- ----------------------------------- 1.6/15.7 MB 517.7 kB/s eta 0:00:28\n",
            "   ---- ----------------------------------- 1.7/15.7 MB 517.8 kB/s eta 0:00:28\n",
            "   ---- ----------------------------------- 1.7/15.7 MB 519.9 kB/s eta 0:00:27\n",
            "   ---- ----------------------------------- 1.7/15.7 MB 519.9 kB/s eta 0:00:27\n",
            "   ---- ----------------------------------- 1.7/15.7 MB 519.9 kB/s eta 0:00:27\n",
            "   ---- ----------------------------------- 1.8/15.7 MB 519.4 kB/s eta 0:00:27\n",
            "   ---- ----------------------------------- 1.8/15.7 MB 526.7 kB/s eta 0:00:27\n",
            "   ---- ----------------------------------- 1.9/15.7 MB 531.3 kB/s eta 0:00:27\n",
            "   ---- ----------------------------------- 1.9/15.7 MB 533.0 kB/s eta 0:00:26\n",
            "   ---- ----------------------------------- 1.9/15.7 MB 534.6 kB/s eta 0:00:26\n",
            "   ---- ----------------------------------- 1.9/15.7 MB 534.6 kB/s eta 0:00:26\n",
            "   ---- ----------------------------------- 1.9/15.7 MB 531.5 kB/s eta 0:00:26\n",
            "   ----- ---------------------------------- 2.0/15.7 MB 530.3 kB/s eta 0:00:26\n",
            "   ----- ---------------------------------- 2.0/15.7 MB 526.4 kB/s eta 0:00:27\n",
            "   ----- ---------------------------------- 2.0/15.7 MB 527.5 kB/s eta 0:00:26\n",
            "   ----- ---------------------------------- 2.0/15.7 MB 526.4 kB/s eta 0:00:26\n",
            "   ----- ---------------------------------- 2.0/15.7 MB 520.6 kB/s eta 0:00:27\n",
            "   ----- ---------------------------------- 2.0/15.7 MB 512.8 kB/s eta 0:00:27\n",
            "   ----- ---------------------------------- 2.1/15.7 MB 519.1 kB/s eta 0:00:27\n",
            "   ----- ---------------------------------- 2.1/15.7 MB 518.1 kB/s eta 0:00:27\n",
            "   ----- ---------------------------------- 2.1/15.7 MB 516.7 kB/s eta 0:00:27\n",
            "   ----- ---------------------------------- 2.1/15.7 MB 515.7 kB/s eta 0:00:27\n",
            "   ----- ---------------------------------- 2.1/15.7 MB 512.4 kB/s eta 0:00:27\n",
            "   ----- ---------------------------------- 2.2/15.7 MB 512.6 kB/s eta 0:00:27\n",
            "   ----- ---------------------------------- 2.2/15.7 MB 509.4 kB/s eta 0:00:27\n",
            "   ----- ---------------------------------- 2.2/15.7 MB 510.5 kB/s eta 0:00:27\n",
            "   ----- ---------------------------------- 2.2/15.7 MB 510.5 kB/s eta 0:00:27\n",
            "   ----- ---------------------------------- 2.2/15.7 MB 503.7 kB/s eta 0:00:27\n",
            "   ----- ---------------------------------- 2.2/15.7 MB 503.0 kB/s eta 0:00:27\n",
            "   ----- ---------------------------------- 2.3/15.7 MB 502.3 kB/s eta 0:00:27\n",
            "   ----- ---------------------------------- 2.3/15.7 MB 498.7 kB/s eta 0:00:27\n",
            "   ----- ---------------------------------- 2.3/15.7 MB 497.6 kB/s eta 0:00:27\n",
            "   ----- ---------------------------------- 2.3/15.7 MB 498.7 kB/s eta 0:00:27\n",
            "   ------ --------------------------------- 2.4/15.7 MB 500.2 kB/s eta 0:00:27\n",
            "   ------ --------------------------------- 2.4/15.7 MB 501.3 kB/s eta 0:00:27\n",
            "   ------ --------------------------------- 2.4/15.7 MB 501.1 kB/s eta 0:00:27\n",
            "   ------ --------------------------------- 2.4/15.7 MB 502.1 kB/s eta 0:00:27\n",
            "   ------ --------------------------------- 2.5/15.7 MB 500.4 kB/s eta 0:00:27\n",
            "   ------ --------------------------------- 2.5/15.7 MB 499.3 kB/s eta 0:00:27\n",
            "   ------ --------------------------------- 2.5/15.7 MB 500.2 kB/s eta 0:00:27\n",
            "   ------ --------------------------------- 2.5/15.7 MB 499.7 kB/s eta 0:00:27\n",
            "   ------ --------------------------------- 2.5/15.7 MB 498.0 kB/s eta 0:00:27\n",
            "   ------ --------------------------------- 2.5/15.7 MB 497.0 kB/s eta 0:00:27\n",
            "   ------ --------------------------------- 2.6/15.7 MB 498.9 kB/s eta 0:00:27\n",
            "   ------ --------------------------------- 2.6/15.7 MB 497.8 kB/s eta 0:00:27\n",
            "   ------ --------------------------------- 2.6/15.7 MB 499.3 kB/s eta 0:00:27\n",
            "   ------ --------------------------------- 2.7/15.7 MB 502.6 kB/s eta 0:00:26\n",
            "   ------ --------------------------------- 2.7/15.7 MB 502.0 kB/s eta 0:00:26\n",
            "   ------ --------------------------------- 2.7/15.7 MB 505.7 kB/s eta 0:00:26\n",
            "   ------- -------------------------------- 2.8/15.7 MB 504.7 kB/s eta 0:00:26\n",
            "   ------- -------------------------------- 2.8/15.7 MB 509.3 kB/s eta 0:00:26\n",
            "   ------- -------------------------------- 2.8/15.7 MB 507.7 kB/s eta 0:00:26\n",
            "   ------- -------------------------------- 2.9/15.7 MB 508.9 kB/s eta 0:00:26\n",
            "   ------- -------------------------------- 2.9/15.7 MB 509.7 kB/s eta 0:00:26\n",
            "   ------- -------------------------------- 2.9/15.7 MB 509.5 kB/s eta 0:00:26\n",
            "   ------- -------------------------------- 2.9/15.7 MB 510.7 kB/s eta 0:00:25\n",
            "   ------- -------------------------------- 3.0/15.7 MB 511.8 kB/s eta 0:00:25\n",
            "   ------- -------------------------------- 3.0/15.7 MB 514.0 kB/s eta 0:00:25\n",
            "   ------- -------------------------------- 3.0/15.7 MB 515.9 kB/s eta 0:00:25\n",
            "   ------- -------------------------------- 3.1/15.7 MB 517.0 kB/s eta 0:00:25\n",
            "   ------- -------------------------------- 3.1/15.7 MB 516.0 kB/s eta 0:00:25\n",
            "   ------- -------------------------------- 3.1/15.7 MB 518.8 kB/s eta 0:00:25\n",
            "   -------- ------------------------------- 3.2/15.7 MB 518.5 kB/s eta 0:00:25\n",
            "   -------- ------------------------------- 3.2/15.7 MB 519.5 kB/s eta 0:00:25\n",
            "   -------- ------------------------------- 3.2/15.7 MB 521.6 kB/s eta 0:00:24\n",
            "   -------- ------------------------------- 3.2/15.7 MB 515.4 kB/s eta 0:00:25\n",
            "   -------- ------------------------------- 3.2/15.7 MB 519.0 kB/s eta 0:00:24\n",
            "   -------- ------------------------------- 3.2/15.7 MB 519.0 kB/s eta 0:00:24\n",
            "   -------- ------------------------------- 3.3/15.7 MB 515.8 kB/s eta 0:00:25\n",
            "   -------- ------------------------------- 3.3/15.7 MB 514.3 kB/s eta 0:00:25\n",
            "   -------- ------------------------------- 3.3/15.7 MB 513.7 kB/s eta 0:00:25\n",
            "   -------- ------------------------------- 3.4/15.7 MB 516.7 kB/s eta 0:00:24\n",
            "   -------- ------------------------------- 3.4/15.7 MB 517.0 kB/s eta 0:00:24\n",
            "   -------- ------------------------------- 3.4/15.7 MB 515.6 kB/s eta 0:00:24\n",
            "   -------- ------------------------------- 3.4/15.7 MB 517.4 kB/s eta 0:00:24\n",
            "   -------- ------------------------------- 3.5/15.7 MB 519.0 kB/s eta 0:00:24\n",
            "   -------- ------------------------------- 3.5/15.7 MB 520.6 kB/s eta 0:00:24\n",
            "   -------- ------------------------------- 3.5/15.7 MB 518.8 kB/s eta 0:00:24\n",
            "   --------- ------------------------------ 3.5/15.7 MB 518.3 kB/s eta 0:00:24\n",
            "   --------- ------------------------------ 3.5/15.7 MB 517.3 kB/s eta 0:00:24\n",
            "   --------- ------------------------------ 3.6/15.7 MB 514.8 kB/s eta 0:00:24\n",
            "   --------- ------------------------------ 3.6/15.7 MB 514.3 kB/s eta 0:00:24\n",
            "   --------- ------------------------------ 3.6/15.7 MB 514.9 kB/s eta 0:00:24\n",
            "   --------- ------------------------------ 3.6/15.7 MB 512.9 kB/s eta 0:00:24\n",
            "   --------- ------------------------------ 3.6/15.7 MB 512.9 kB/s eta 0:00:24\n",
            "   --------- ------------------------------ 3.7/15.7 MB 510.5 kB/s eta 0:00:24\n",
            "   --------- ------------------------------ 3.7/15.7 MB 508.6 kB/s eta 0:00:24\n",
            "   --------- ------------------------------ 3.7/15.7 MB 508.6 kB/s eta 0:00:24\n",
            "   --------- ------------------------------ 3.7/15.7 MB 507.1 kB/s eta 0:00:24\n",
            "   --------- ------------------------------ 3.7/15.7 MB 505.2 kB/s eta 0:00:24\n",
            "   --------- ------------------------------ 3.7/15.7 MB 503.7 kB/s eta 0:00:24\n",
            "   --------- ------------------------------ 3.7/15.7 MB 504.6 kB/s eta 0:00:24\n",
            "   --------- ------------------------------ 3.8/15.7 MB 504.5 kB/s eta 0:00:24\n",
            "   --------- ------------------------------ 3.8/15.7 MB 504.5 kB/s eta 0:00:24\n",
            "   --------- ------------------------------ 3.8/15.7 MB 504.7 kB/s eta 0:00:24\n",
            "   --------- ------------------------------ 3.8/15.7 MB 504.0 kB/s eta 0:00:24\n",
            "   --------- ------------------------------ 3.9/15.7 MB 503.6 kB/s eta 0:00:24\n",
            "   --------- ------------------------------ 3.9/15.7 MB 502.4 kB/s eta 0:00:24\n",
            "   --------- ------------------------------ 3.9/15.7 MB 503.4 kB/s eta 0:00:24\n",
            "   ---------- ----------------------------- 3.9/15.7 MB 505.0 kB/s eta 0:00:24\n",
            "   ---------- ----------------------------- 4.0/15.7 MB 504.9 kB/s eta 0:00:24\n",
            "   ---------- ----------------------------- 4.0/15.7 MB 504.5 kB/s eta 0:00:24\n",
            "   ---------- ----------------------------- 4.0/15.7 MB 502.8 kB/s eta 0:00:24\n",
            "   ---------- ----------------------------- 4.0/15.7 MB 504.7 kB/s eta 0:00:24\n",
            "   ---------- ----------------------------- 4.0/15.7 MB 504.7 kB/s eta 0:00:24\n",
            "   ---------- ----------------------------- 4.1/15.7 MB 505.7 kB/s eta 0:00:23\n",
            "   ---------- ----------------------------- 4.1/15.7 MB 504.1 kB/s eta 0:00:23\n",
            "   ---------- ----------------------------- 4.1/15.7 MB 504.7 kB/s eta 0:00:23\n",
            "   ---------- ----------------------------- 4.2/15.7 MB 503.6 kB/s eta 0:00:23\n",
            "   ---------- ----------------------------- 4.2/15.7 MB 504.2 kB/s eta 0:00:23\n",
            "   ---------- ----------------------------- 4.2/15.7 MB 504.1 kB/s eta 0:00:23\n",
            "   ---------- ----------------------------- 4.2/15.7 MB 504.6 kB/s eta 0:00:23\n",
            "   ---------- ----------------------------- 4.2/15.7 MB 504.0 kB/s eta 0:00:23\n",
            "   ---------- ----------------------------- 4.3/15.7 MB 505.4 kB/s eta 0:00:23\n",
            "   ---------- ----------------------------- 4.3/15.7 MB 506.0 kB/s eta 0:00:23\n",
            "   ----------- ---------------------------- 4.3/15.7 MB 505.8 kB/s eta 0:00:23\n",
            "   ----------- ---------------------------- 4.4/15.7 MB 507.6 kB/s eta 0:00:23\n",
            "   ----------- ---------------------------- 4.4/15.7 MB 508.1 kB/s eta 0:00:23\n",
            "   ----------- ---------------------------- 4.4/15.7 MB 508.9 kB/s eta 0:00:23\n",
            "   ----------- ---------------------------- 4.4/15.7 MB 506.4 kB/s eta 0:00:23\n",
            "   ----------- ---------------------------- 4.5/15.7 MB 507.5 kB/s eta 0:00:23\n",
            "   ----------- ---------------------------- 4.5/15.7 MB 507.8 kB/s eta 0:00:23\n",
            "   ----------- ---------------------------- 4.5/15.7 MB 507.7 kB/s eta 0:00:23\n",
            "   ----------- ---------------------------- 4.5/15.7 MB 508.1 kB/s eta 0:00:22\n",
            "   ----------- ---------------------------- 4.6/15.7 MB 507.2 kB/s eta 0:00:22\n",
            "   ----------- ---------------------------- 4.6/15.7 MB 508.6 kB/s eta 0:00:22\n",
            "   ----------- ---------------------------- 4.6/15.7 MB 509.6 kB/s eta 0:00:22\n",
            "   ----------- ---------------------------- 4.7/15.7 MB 510.3 kB/s eta 0:00:22\n",
            "   ----------- ---------------------------- 4.7/15.7 MB 510.3 kB/s eta 0:00:22\n",
            "   ----------- ---------------------------- 4.7/15.7 MB 508.2 kB/s eta 0:00:22\n",
            "   ----------- ---------------------------- 4.7/15.7 MB 506.7 kB/s eta 0:00:22\n",
            "   ------------ --------------------------- 4.7/15.7 MB 507.2 kB/s eta 0:00:22\n",
            "   ------------ --------------------------- 4.7/15.7 MB 506.9 kB/s eta 0:00:22\n",
            "   ------------ --------------------------- 4.7/15.7 MB 504.6 kB/s eta 0:00:22\n",
            "   ------------ --------------------------- 4.8/15.7 MB 504.5 kB/s eta 0:00:22\n",
            "   ------------ --------------------------- 4.8/15.7 MB 504.5 kB/s eta 0:00:22\n",
            "   ------------ --------------------------- 4.8/15.7 MB 504.2 kB/s eta 0:00:22\n",
            "   ------------ --------------------------- 4.8/15.7 MB 503.8 kB/s eta 0:00:22\n",
            "   ------------ --------------------------- 4.8/15.7 MB 501.6 kB/s eta 0:00:22\n",
            "   ------------ --------------------------- 4.8/15.7 MB 502.2 kB/s eta 0:00:22\n",
            "   ------------ --------------------------- 4.9/15.7 MB 500.8 kB/s eta 0:00:22\n",
            "   ------------ --------------------------- 4.9/15.7 MB 501.2 kB/s eta 0:00:22\n",
            "   ------------ --------------------------- 4.9/15.7 MB 501.0 kB/s eta 0:00:22\n",
            "   ------------ --------------------------- 4.9/15.7 MB 499.6 kB/s eta 0:00:22\n",
            "   ------------ --------------------------- 4.9/15.7 MB 500.1 kB/s eta 0:00:22\n",
            "   ------------ --------------------------- 4.9/15.7 MB 498.0 kB/s eta 0:00:22\n",
            "   ------------ --------------------------- 5.0/15.7 MB 496.9 kB/s eta 0:00:22\n",
            "   ------------ --------------------------- 5.0/15.7 MB 497.4 kB/s eta 0:00:22\n",
            "   ------------ --------------------------- 5.0/15.7 MB 495.3 kB/s eta 0:00:22\n",
            "   ------------ --------------------------- 5.0/15.7 MB 495.1 kB/s eta 0:00:22\n",
            "   ------------ --------------------------- 5.0/15.7 MB 493.8 kB/s eta 0:00:22\n",
            "   ------------ --------------------------- 5.0/15.7 MB 493.5 kB/s eta 0:00:22\n",
            "   ------------ --------------------------- 5.1/15.7 MB 492.5 kB/s eta 0:00:22\n",
            "   ------------ --------------------------- 5.1/15.7 MB 490.5 kB/s eta 0:00:22\n",
            "   ------------ --------------------------- 5.1/15.7 MB 490.5 kB/s eta 0:00:22\n",
            "   ------------ --------------------------- 5.1/15.7 MB 491.0 kB/s eta 0:00:22\n",
            "   ------------ --------------------------- 5.1/15.7 MB 489.0 kB/s eta 0:00:22\n",
            "   ------------- -------------------------- 5.1/15.7 MB 488.8 kB/s eta 0:00:22\n",
            "   ------------- -------------------------- 5.1/15.7 MB 487.9 kB/s eta 0:00:22\n",
            "   ------------- -------------------------- 5.2/15.7 MB 487.4 kB/s eta 0:00:22\n",
            "   ------------- -------------------------- 5.2/15.7 MB 487.2 kB/s eta 0:00:22\n",
            "   ------------- -------------------------- 5.2/15.7 MB 486.0 kB/s eta 0:00:22\n",
            "   ------------- -------------------------- 5.2/15.7 MB 485.7 kB/s eta 0:00:22\n",
            "   ------------- -------------------------- 5.2/15.7 MB 485.3 kB/s eta 0:00:22\n",
            "   ------------- -------------------------- 5.2/15.7 MB 484.4 kB/s eta 0:00:22\n",
            "   ------------- -------------------------- 5.2/15.7 MB 483.2 kB/s eta 0:00:22\n",
            "   ------------- -------------------------- 5.3/15.7 MB 483.0 kB/s eta 0:00:22\n",
            "   ------------- -------------------------- 5.3/15.7 MB 481.9 kB/s eta 0:00:22\n",
            "   ------------- -------------------------- 5.3/15.7 MB 482.4 kB/s eta 0:00:22\n",
            "   ------------- -------------------------- 5.3/15.7 MB 481.5 kB/s eta 0:00:22\n",
            "   ------------- -------------------------- 5.3/15.7 MB 480.4 kB/s eta 0:00:22\n",
            "   ------------- -------------------------- 5.3/15.7 MB 480.2 kB/s eta 0:00:22\n",
            "   ------------- -------------------------- 5.4/15.7 MB 479.1 kB/s eta 0:00:22\n",
            "   ------------- -------------------------- 5.4/15.7 MB 479.1 kB/s eta 0:00:22\n",
            "   ------------- -------------------------- 5.4/15.7 MB 479.4 kB/s eta 0:00:22\n",
            "   ------------- -------------------------- 5.4/15.7 MB 479.4 kB/s eta 0:00:22\n",
            "   ------------- -------------------------- 5.5/15.7 MB 479.5 kB/s eta 0:00:22\n",
            "   ------------- -------------------------- 5.5/15.7 MB 479.4 kB/s eta 0:00:22\n",
            "   ------------- -------------------------- 5.5/15.7 MB 479.0 kB/s eta 0:00:22\n",
            "   -------------- ------------------------- 5.5/15.7 MB 478.8 kB/s eta 0:00:22\n",
            "   -------------- ------------------------- 5.5/15.7 MB 478.4 kB/s eta 0:00:22\n",
            "   -------------- ------------------------- 5.5/15.7 MB 477.6 kB/s eta 0:00:22\n",
            "   -------------- ------------------------- 5.6/15.7 MB 478.0 kB/s eta 0:00:22\n",
            "   -------------- ------------------------- 5.6/15.7 MB 476.8 kB/s eta 0:00:22\n",
            "   -------------- ------------------------- 5.6/15.7 MB 475.8 kB/s eta 0:00:22\n",
            "   -------------- ------------------------- 5.6/15.7 MB 475.8 kB/s eta 0:00:22\n",
            "   -------------- ------------------------- 5.6/15.7 MB 475.0 kB/s eta 0:00:22\n",
            "   -------------- ------------------------- 5.6/15.7 MB 475.0 kB/s eta 0:00:22\n",
            "   -------------- ------------------------- 5.6/15.7 MB 473.0 kB/s eta 0:00:22\n",
            "   -------------- ------------------------- 5.7/15.7 MB 472.0 kB/s eta 0:00:22\n",
            "   -------------- ------------------------- 5.7/15.7 MB 472.0 kB/s eta 0:00:22\n",
            "   -------------- ------------------------- 5.7/15.7 MB 470.6 kB/s eta 0:00:22\n",
            "   -------------- ------------------------- 5.7/15.7 MB 468.5 kB/s eta 0:00:22\n",
            "   -------------- ------------------------- 5.7/15.7 MB 468.3 kB/s eta 0:00:22\n",
            "   -------------- ------------------------- 5.7/15.7 MB 468.0 kB/s eta 0:00:22\n",
            "   -------------- ------------------------- 5.7/15.7 MB 467.0 kB/s eta 0:00:22\n",
            "   -------------- ------------------------- 5.7/15.7 MB 466.9 kB/s eta 0:00:22\n",
            "   -------------- ------------------------- 5.8/15.7 MB 466.8 kB/s eta 0:00:22\n",
            "   -------------- ------------------------- 5.8/15.7 MB 465.9 kB/s eta 0:00:22\n",
            "   -------------- ------------------------- 5.8/15.7 MB 465.9 kB/s eta 0:00:22\n",
            "   -------------- ------------------------- 5.8/15.7 MB 464.0 kB/s eta 0:00:22\n",
            "   -------------- ------------------------- 5.8/15.7 MB 464.0 kB/s eta 0:00:22\n",
            "   -------------- ------------------------- 5.8/15.7 MB 461.3 kB/s eta 0:00:22\n",
            "   -------------- ------------------------- 5.8/15.7 MB 460.7 kB/s eta 0:00:22\n",
            "   -------------- ------------------------- 5.8/15.7 MB 460.6 kB/s eta 0:00:22\n",
            "   -------------- ------------------------- 5.9/15.7 MB 459.1 kB/s eta 0:00:22\n",
            "   -------------- ------------------------- 5.9/15.7 MB 459.1 kB/s eta 0:00:22\n",
            "   -------------- ------------------------- 5.9/15.7 MB 458.5 kB/s eta 0:00:22\n",
            "   --------------- ------------------------ 5.9/15.7 MB 456.5 kB/s eta 0:00:22\n",
            "   --------------- ------------------------ 5.9/15.7 MB 456.5 kB/s eta 0:00:22\n",
            "   --------------- ------------------------ 5.9/15.7 MB 455.3 kB/s eta 0:00:22\n",
            "   --------------- ------------------------ 5.9/15.7 MB 455.3 kB/s eta 0:00:22\n",
            "   --------------- ------------------------ 5.9/15.7 MB 454.4 kB/s eta 0:00:22\n",
            "   --------------- ------------------------ 6.0/15.7 MB 454.4 kB/s eta 0:00:22\n",
            "   --------------- ------------------------ 6.0/15.7 MB 454.6 kB/s eta 0:00:22\n",
            "   --------------- ------------------------ 6.0/15.7 MB 453.7 kB/s eta 0:00:22\n",
            "   --------------- ------------------------ 6.0/15.7 MB 453.7 kB/s eta 0:00:22\n",
            "   --------------- ------------------------ 6.0/15.7 MB 453.1 kB/s eta 0:00:22\n",
            "   --------------- ------------------------ 6.0/15.7 MB 452.8 kB/s eta 0:00:22\n",
            "   --------------- ------------------------ 6.1/15.7 MB 452.2 kB/s eta 0:00:22\n",
            "   --------------- ------------------------ 6.1/15.7 MB 452.2 kB/s eta 0:00:22\n",
            "   --------------- ------------------------ 6.1/15.7 MB 452.2 kB/s eta 0:00:22\n",
            "   --------------- ------------------------ 6.1/15.7 MB 450.3 kB/s eta 0:00:22\n",
            "   --------------- ------------------------ 6.1/15.7 MB 450.5 kB/s eta 0:00:22\n",
            "   --------------- ------------------------ 6.1/15.7 MB 451.0 kB/s eta 0:00:22\n",
            "   --------------- ------------------------ 6.2/15.7 MB 451.7 kB/s eta 0:00:22\n",
            "   --------------- ------------------------ 6.2/15.7 MB 451.7 kB/s eta 0:00:22\n",
            "   --------------- ------------------------ 6.2/15.7 MB 451.3 kB/s eta 0:00:22\n",
            "   --------------- ------------------------ 6.2/15.7 MB 451.5 kB/s eta 0:00:21\n",
            "   --------------- ------------------------ 6.2/15.7 MB 451.3 kB/s eta 0:00:21\n",
            "   --------------- ------------------------ 6.3/15.7 MB 450.7 kB/s eta 0:00:21\n",
            "   --------------- ------------------------ 6.3/15.7 MB 450.6 kB/s eta 0:00:21\n",
            "   ---------------- ----------------------- 6.3/15.7 MB 449.8 kB/s eta 0:00:21\n",
            "   ---------------- ----------------------- 6.3/15.7 MB 449.8 kB/s eta 0:00:21\n",
            "   ---------------- ----------------------- 6.3/15.7 MB 449.5 kB/s eta 0:00:21\n",
            "   ---------------- ----------------------- 6.3/15.7 MB 449.5 kB/s eta 0:00:21\n",
            "   ---------------- ----------------------- 6.3/15.7 MB 448.0 kB/s eta 0:00:21\n",
            "   ---------------- ----------------------- 6.3/15.7 MB 446.8 kB/s eta 0:00:21\n",
            "   ---------------- ----------------------- 6.3/15.7 MB 446.8 kB/s eta 0:00:21\n",
            "   ---------------- ----------------------- 6.3/15.7 MB 446.8 kB/s eta 0:00:21\n",
            "   ---------------- ----------------------- 6.4/15.7 MB 445.9 kB/s eta 0:00:21\n",
            "   ---------------- ----------------------- 6.5/15.7 MB 450.0 kB/s eta 0:00:21\n",
            "   ---------------- ----------------------- 6.5/15.7 MB 450.6 kB/s eta 0:00:21\n",
            "   ---------------- ----------------------- 6.5/15.7 MB 450.4 kB/s eta 0:00:21\n",
            "   ---------------- ----------------------- 6.5/15.7 MB 450.6 kB/s eta 0:00:21\n",
            "   ---------------- ----------------------- 6.6/15.7 MB 451.2 kB/s eta 0:00:21\n",
            "   ---------------- ----------------------- 6.6/15.7 MB 450.7 kB/s eta 0:00:21\n",
            "   ---------------- ----------------------- 6.6/15.7 MB 450.4 kB/s eta 0:00:21\n",
            "   ---------------- ----------------------- 6.6/15.7 MB 451.1 kB/s eta 0:00:21\n",
            "   ---------------- ----------------------- 6.7/15.7 MB 451.0 kB/s eta 0:00:21\n",
            "   ----------------- ---------------------- 6.7/15.7 MB 451.2 kB/s eta 0:00:20\n",
            "   ----------------- ---------------------- 6.7/15.7 MB 452.3 kB/s eta 0:00:20\n",
            "   ----------------- ---------------------- 6.7/15.7 MB 452.3 kB/s eta 0:00:20\n",
            "   ----------------- ---------------------- 6.8/15.7 MB 452.9 kB/s eta 0:00:20\n",
            "   ----------------- ---------------------- 6.8/15.7 MB 453.3 kB/s eta 0:00:20\n",
            "   ----------------- ---------------------- 6.8/15.7 MB 453.1 kB/s eta 0:00:20\n",
            "   ----------------- ---------------------- 6.8/15.7 MB 453.2 kB/s eta 0:00:20\n",
            "   ----------------- ---------------------- 6.9/15.7 MB 453.2 kB/s eta 0:00:20\n",
            "   ----------------- ---------------------- 6.9/15.7 MB 453.3 kB/s eta 0:00:20\n",
            "   ----------------- ---------------------- 6.9/15.7 MB 452.6 kB/s eta 0:00:20\n",
            "   ----------------- ---------------------- 6.9/15.7 MB 453.0 kB/s eta 0:00:20\n",
            "   ----------------- ---------------------- 6.9/15.7 MB 453.0 kB/s eta 0:00:20\n",
            "   ----------------- ---------------------- 6.9/15.7 MB 453.0 kB/s eta 0:00:20\n",
            "   ----------------- ---------------------- 6.9/15.7 MB 451.8 kB/s eta 0:00:20\n",
            "   ----------------- ---------------------- 7.0/15.7 MB 451.8 kB/s eta 0:00:20\n",
            "   ----------------- ---------------------- 7.0/15.7 MB 450.6 kB/s eta 0:00:20\n",
            "   ----------------- ---------------------- 7.0/15.7 MB 450.1 kB/s eta 0:00:20\n",
            "   ----------------- ---------------------- 7.0/15.7 MB 450.5 kB/s eta 0:00:20\n",
            "   ----------------- ---------------------- 7.0/15.7 MB 449.8 kB/s eta 0:00:20\n",
            "   ----------------- ---------------------- 7.0/15.7 MB 449.8 kB/s eta 0:00:20\n",
            "   ----------------- ---------------------- 7.0/15.7 MB 449.8 kB/s eta 0:00:20\n",
            "   ------------------ --------------------- 7.1/15.7 MB 448.0 kB/s eta 0:00:20\n",
            "   ------------------ --------------------- 7.1/15.7 MB 448.0 kB/s eta 0:00:20\n",
            "   ------------------ --------------------- 7.1/15.7 MB 447.0 kB/s eta 0:00:20\n",
            "   ------------------ --------------------- 7.1/15.7 MB 447.0 kB/s eta 0:00:20\n",
            "   ------------------ --------------------- 7.1/15.7 MB 446.1 kB/s eta 0:00:20\n",
            "   ------------------ --------------------- 7.1/15.7 MB 445.7 kB/s eta 0:00:20\n",
            "   ------------------ --------------------- 7.1/15.7 MB 444.6 kB/s eta 0:00:20\n",
            "   ------------------ --------------------- 7.1/15.7 MB 444.6 kB/s eta 0:00:20\n",
            "   ------------------ --------------------- 7.2/15.7 MB 444.1 kB/s eta 0:00:20\n",
            "   ------------------ --------------------- 7.2/15.7 MB 443.0 kB/s eta 0:00:20\n",
            "   ------------------ --------------------- 7.2/15.7 MB 443.0 kB/s eta 0:00:20\n",
            "   ------------------ --------------------- 7.2/15.7 MB 443.0 kB/s eta 0:00:20\n",
            "   ------------------ --------------------- 7.2/15.7 MB 443.0 kB/s eta 0:00:20\n",
            "   ------------------ --------------------- 7.2/15.7 MB 441.1 kB/s eta 0:00:20\n",
            "   ------------------ --------------------- 7.2/15.7 MB 441.1 kB/s eta 0:00:20\n",
            "   ------------------ --------------------- 7.2/15.7 MB 440.4 kB/s eta 0:00:20\n",
            "   ------------------ --------------------- 7.2/15.7 MB 440.4 kB/s eta 0:00:20\n",
            "   ------------------ --------------------- 7.3/15.7 MB 440.0 kB/s eta 0:00:20\n",
            "   ------------------ --------------------- 7.3/15.7 MB 439.6 kB/s eta 0:00:20\n",
            "   ------------------ --------------------- 7.3/15.7 MB 438.9 kB/s eta 0:00:20\n",
            "   ------------------ --------------------- 7.3/15.7 MB 438.9 kB/s eta 0:00:20\n",
            "   ------------------ --------------------- 7.3/15.7 MB 437.9 kB/s eta 0:00:20\n",
            "   ------------------ --------------------- 7.3/15.7 MB 437.9 kB/s eta 0:00:20\n",
            "   ------------------ --------------------- 7.4/15.7 MB 437.9 kB/s eta 0:00:20\n",
            "   ------------------ --------------------- 7.4/15.7 MB 437.5 kB/s eta 0:00:20\n",
            "   ------------------ --------------------- 7.4/15.7 MB 437.3 kB/s eta 0:00:20\n",
            "   ------------------ --------------------- 7.4/15.7 MB 437.3 kB/s eta 0:00:19\n",
            "   ------------------ --------------------- 7.4/15.7 MB 436.7 kB/s eta 0:00:19\n",
            "   ------------------ --------------------- 7.4/15.7 MB 435.9 kB/s eta 0:00:19\n",
            "   ------------------- -------------------- 7.5/15.7 MB 435.9 kB/s eta 0:00:19\n",
            "   ------------------- -------------------- 7.5/15.7 MB 435.7 kB/s eta 0:00:19\n",
            "   ------------------- -------------------- 7.5/15.7 MB 435.7 kB/s eta 0:00:19\n",
            "   ------------------- -------------------- 7.5/15.7 MB 434.9 kB/s eta 0:00:19\n",
            "   ------------------- -------------------- 7.5/15.7 MB 434.3 kB/s eta 0:00:19\n",
            "   ------------------- -------------------- 7.5/15.7 MB 433.9 kB/s eta 0:00:19\n",
            "   ------------------- -------------------- 7.5/15.7 MB 433.9 kB/s eta 0:00:19\n",
            "   ------------------- -------------------- 7.5/15.7 MB 433.5 kB/s eta 0:00:19\n",
            "   ------------------- -------------------- 7.5/15.7 MB 432.6 kB/s eta 0:00:19\n",
            "   ------------------- -------------------- 7.5/15.7 MB 432.6 kB/s eta 0:00:19\n",
            "   ------------------- -------------------- 7.5/15.7 MB 432.6 kB/s eta 0:00:19\n",
            "   ------------------- -------------------- 7.6/15.7 MB 430.5 kB/s eta 0:00:19\n",
            "   ------------------- -------------------- 7.6/15.7 MB 430.5 kB/s eta 0:00:19\n",
            "   ------------------- -------------------- 7.6/15.7 MB 430.5 kB/s eta 0:00:19\n",
            "   ------------------- -------------------- 7.6/15.7 MB 430.1 kB/s eta 0:00:19\n",
            "   ------------------- -------------------- 7.6/15.7 MB 429.2 kB/s eta 0:00:19\n",
            "   ------------------- -------------------- 7.6/15.7 MB 429.2 kB/s eta 0:00:19\n",
            "   ------------------- -------------------- 7.6/15.7 MB 428.5 kB/s eta 0:00:19\n",
            "   ------------------- -------------------- 7.7/15.7 MB 427.9 kB/s eta 0:00:19\n",
            "   ------------------- -------------------- 7.7/15.7 MB 427.9 kB/s eta 0:00:19\n",
            "   ------------------- -------------------- 7.7/15.7 MB 426.8 kB/s eta 0:00:19\n",
            "   ------------------- -------------------- 7.7/15.7 MB 426.5 kB/s eta 0:00:19\n",
            "   ------------------- -------------------- 7.7/15.7 MB 426.5 kB/s eta 0:00:19\n",
            "   ------------------- -------------------- 7.7/15.7 MB 425.2 kB/s eta 0:00:19\n",
            "   ------------------- -------------------- 7.7/15.7 MB 425.2 kB/s eta 0:00:19\n",
            "   ------------------- -------------------- 7.7/15.7 MB 424.7 kB/s eta 0:00:19\n",
            "   ------------------- -------------------- 7.8/15.7 MB 424.4 kB/s eta 0:00:19\n",
            "   ------------------- -------------------- 7.8/15.7 MB 424.4 kB/s eta 0:00:19\n",
            "   ------------------- -------------------- 7.8/15.7 MB 424.4 kB/s eta 0:00:19\n",
            "   ------------------- -------------------- 7.8/15.7 MB 424.4 kB/s eta 0:00:19\n",
            "   ------------------- -------------------- 7.8/15.7 MB 422.8 kB/s eta 0:00:19\n",
            "   ------------------- -------------------- 7.8/15.7 MB 422.3 kB/s eta 0:00:19\n",
            "   ------------------- -------------------- 7.8/15.7 MB 422.3 kB/s eta 0:00:19\n",
            "   ------------------- -------------------- 7.8/15.7 MB 422.0 kB/s eta 0:00:19\n",
            "   ------------------- -------------------- 7.8/15.7 MB 422.0 kB/s eta 0:00:19\n",
            "   ------------------- -------------------- 7.8/15.7 MB 422.0 kB/s eta 0:00:19\n",
            "   ------------------- -------------------- 7.8/15.7 MB 422.0 kB/s eta 0:00:19\n",
            "   -------------------- ------------------- 7.9/15.7 MB 419.4 kB/s eta 0:00:19\n",
            "   -------------------- ------------------- 7.9/15.7 MB 419.4 kB/s eta 0:00:19\n",
            "   -------------------- ------------------- 7.9/15.7 MB 419.4 kB/s eta 0:00:19\n",
            "   -------------------- ------------------- 7.9/15.7 MB 418.7 kB/s eta 0:00:19\n",
            "   -------------------- ------------------- 7.9/15.7 MB 418.7 kB/s eta 0:00:19\n",
            "   -------------------- ------------------- 7.9/15.7 MB 418.7 kB/s eta 0:00:19\n",
            "   -------------------- ------------------- 7.9/15.7 MB 418.7 kB/s eta 0:00:19\n",
            "   -------------------- ------------------- 8.0/15.7 MB 416.5 kB/s eta 0:00:19\n",
            "   -------------------- ------------------- 8.0/15.7 MB 416.5 kB/s eta 0:00:19\n",
            "   -------------------- ------------------- 8.0/15.7 MB 416.5 kB/s eta 0:00:19\n",
            "   -------------------- ------------------- 8.0/15.7 MB 414.0 kB/s eta 0:00:19\n",
            "   -------------------- ------------------- 8.0/15.7 MB 414.0 kB/s eta 0:00:19\n",
            "   -------------------- ------------------- 8.0/15.7 MB 414.0 kB/s eta 0:00:19\n",
            "   -------------------- ------------------- 8.0/15.7 MB 414.0 kB/s eta 0:00:19\n",
            "   -------------------- ------------------- 8.0/15.7 MB 412.4 kB/s eta 0:00:19\n",
            "   -------------------- ------------------- 8.0/15.7 MB 412.4 kB/s eta 0:00:19\n",
            "   -------------------- ------------------- 8.0/15.7 MB 412.4 kB/s eta 0:00:19\n",
            "   -------------------- ------------------- 8.0/15.7 MB 410.4 kB/s eta 0:00:19\n",
            "   -------------------- ------------------- 8.0/15.7 MB 410.4 kB/s eta 0:00:19\n",
            "   -------------------- ------------------- 8.0/15.7 MB 410.4 kB/s eta 0:00:19\n",
            "   -------------------- ------------------- 8.0/15.7 MB 410.4 kB/s eta 0:00:19\n",
            "   -------------------- ------------------- 8.1/15.7 MB 408.4 kB/s eta 0:00:19\n",
            "   -------------------- ------------------- 8.1/15.7 MB 408.8 kB/s eta 0:00:19\n",
            "   -------------------- ------------------- 8.1/15.7 MB 408.8 kB/s eta 0:00:19\n",
            "   -------------------- ------------------- 8.1/15.7 MB 408.8 kB/s eta 0:00:19\n",
            "   -------------------- ------------------- 8.1/15.7 MB 407.4 kB/s eta 0:00:19\n",
            "   -------------------- ------------------- 8.1/15.7 MB 407.4 kB/s eta 0:00:19\n",
            "   -------------------- ------------------- 8.1/15.7 MB 407.4 kB/s eta 0:00:19\n",
            "   -------------------- ------------------- 8.2/15.7 MB 405.4 kB/s eta 0:00:19\n",
            "   -------------------- ------------------- 8.2/15.7 MB 405.4 kB/s eta 0:00:19\n",
            "   -------------------- ------------------- 8.2/15.7 MB 405.4 kB/s eta 0:00:19\n",
            "   -------------------- ------------------- 8.2/15.7 MB 405.4 kB/s eta 0:00:19\n",
            "   -------------------- ------------------- 8.2/15.7 MB 403.5 kB/s eta 0:00:19\n",
            "   -------------------- ------------------- 8.2/15.7 MB 403.5 kB/s eta 0:00:19\n",
            "   -------------------- ------------------- 8.2/15.7 MB 403.5 kB/s eta 0:00:19\n",
            "   -------------------- ------------------- 8.2/15.7 MB 403.5 kB/s eta 0:00:19\n",
            "   -------------------- ------------------- 8.2/15.7 MB 401.9 kB/s eta 0:00:19\n",
            "   -------------------- ------------------- 8.2/15.7 MB 401.7 kB/s eta 0:00:19\n",
            "   --------------------- ------------------ 8.3/15.7 MB 401.2 kB/s eta 0:00:19\n",
            "   --------------------- ------------------ 8.3/15.7 MB 401.2 kB/s eta 0:00:19\n",
            "   --------------------- ------------------ 8.3/15.7 MB 400.2 kB/s eta 0:00:19\n",
            "   --------------------- ------------------ 8.3/15.7 MB 400.2 kB/s eta 0:00:19\n",
            "   --------------------- ------------------ 8.3/15.7 MB 399.3 kB/s eta 0:00:19\n",
            "   --------------------- ------------------ 8.3/15.7 MB 399.3 kB/s eta 0:00:19\n",
            "   --------------------- ------------------ 8.3/15.7 MB 398.6 kB/s eta 0:00:19\n",
            "   --------------------- ------------------ 8.3/15.7 MB 398.6 kB/s eta 0:00:19\n",
            "   --------------------- ------------------ 8.3/15.7 MB 397.8 kB/s eta 0:00:19\n",
            "   --------------------- ------------------ 8.3/15.7 MB 397.6 kB/s eta 0:00:19\n",
            "   --------------------- ------------------ 8.3/15.7 MB 397.6 kB/s eta 0:00:19\n",
            "   --------------------- ------------------ 8.3/15.7 MB 396.6 kB/s eta 0:00:19\n",
            "   --------------------- ------------------ 8.4/15.7 MB 396.4 kB/s eta 0:00:19\n",
            "   --------------------- ------------------ 8.4/15.7 MB 396.4 kB/s eta 0:00:19\n",
            "   --------------------- ------------------ 8.4/15.7 MB 395.3 kB/s eta 0:00:19\n",
            "   --------------------- ------------------ 8.4/15.7 MB 395.3 kB/s eta 0:00:19\n",
            "   --------------------- ------------------ 8.4/15.7 MB 394.9 kB/s eta 0:00:19\n",
            "   --------------------- ------------------ 8.4/15.7 MB 394.5 kB/s eta 0:00:19\n",
            "   --------------------- ------------------ 8.4/15.7 MB 394.5 kB/s eta 0:00:19\n",
            "   --------------------- ------------------ 8.4/15.7 MB 394.5 kB/s eta 0:00:19\n",
            "   --------------------- ------------------ 8.4/15.7 MB 393.6 kB/s eta 0:00:19\n",
            "   --------------------- ------------------ 8.5/15.7 MB 393.4 kB/s eta 0:00:19\n",
            "   --------------------- ------------------ 8.5/15.7 MB 393.0 kB/s eta 0:00:19\n",
            "   --------------------- ------------------ 8.5/15.7 MB 392.6 kB/s eta 0:00:19\n",
            "   --------------------- ------------------ 8.5/15.7 MB 392.6 kB/s eta 0:00:19\n",
            "   --------------------- ------------------ 8.5/15.7 MB 392.1 kB/s eta 0:00:19\n",
            "   --------------------- ------------------ 8.5/15.7 MB 392.1 kB/s eta 0:00:19\n",
            "   --------------------- ------------------ 8.5/15.7 MB 391.1 kB/s eta 0:00:19\n",
            "   --------------------- ------------------ 8.5/15.7 MB 391.1 kB/s eta 0:00:19\n",
            "   --------------------- ------------------ 8.6/15.7 MB 390.4 kB/s eta 0:00:19\n",
            "   --------------------- ------------------ 8.6/15.7 MB 390.4 kB/s eta 0:00:19\n",
            "   --------------------- ------------------ 8.6/15.7 MB 388.9 kB/s eta 0:00:19\n",
            "   --------------------- ------------------ 8.6/15.7 MB 388.9 kB/s eta 0:00:19\n",
            "   --------------------- ------------------ 8.6/15.7 MB 388.9 kB/s eta 0:00:19\n",
            "   --------------------- ------------------ 8.6/15.7 MB 387.9 kB/s eta 0:00:19\n",
            "   --------------------- ------------------ 8.6/15.7 MB 387.9 kB/s eta 0:00:19\n",
            "   --------------------- ------------------ 8.6/15.7 MB 386.7 kB/s eta 0:00:19\n",
            "   --------------------- ------------------ 8.6/15.7 MB 386.7 kB/s eta 0:00:19\n",
            "   --------------------- ------------------ 8.6/15.7 MB 385.8 kB/s eta 0:00:19\n",
            "   --------------------- ------------------ 8.6/15.7 MB 385.8 kB/s eta 0:00:19\n",
            "   ---------------------- ----------------- 8.6/15.7 MB 384.8 kB/s eta 0:00:19\n",
            "   ---------------------- ----------------- 8.6/15.7 MB 384.8 kB/s eta 0:00:19\n",
            "   ---------------------- ----------------- 8.6/15.7 MB 384.4 kB/s eta 0:00:19\n",
            "   ---------------------- ----------------- 8.7/15.7 MB 383.3 kB/s eta 0:00:19\n",
            "   ---------------------- ----------------- 8.7/15.7 MB 383.3 kB/s eta 0:00:19\n",
            "   ---------------------- ----------------- 8.7/15.7 MB 382.9 kB/s eta 0:00:19\n",
            "   ---------------------- ----------------- 8.7/15.7 MB 382.9 kB/s eta 0:00:19\n",
            "   ---------------------- ----------------- 8.7/15.7 MB 381.5 kB/s eta 0:00:19\n",
            "   ---------------------- ----------------- 8.7/15.7 MB 381.5 kB/s eta 0:00:19\n",
            "   ---------------------- ----------------- 8.7/15.7 MB 380.8 kB/s eta 0:00:19\n",
            "   ---------------------- ----------------- 8.7/15.7 MB 380.8 kB/s eta 0:00:19\n",
            "   ---------------------- ----------------- 8.7/15.7 MB 380.4 kB/s eta 0:00:19\n",
            "   ---------------------- ----------------- 8.7/15.7 MB 380.1 kB/s eta 0:00:19\n",
            "   ---------------------- ----------------- 8.8/15.7 MB 379.7 kB/s eta 0:00:19\n",
            "   ---------------------- ----------------- 8.8/15.7 MB 379.4 kB/s eta 0:00:19\n",
            "   ---------------------- ----------------- 8.8/15.7 MB 379.5 kB/s eta 0:00:19\n",
            "   ---------------------- ----------------- 8.8/15.7 MB 379.6 kB/s eta 0:00:19\n",
            "   ---------------------- ----------------- 8.8/15.7 MB 380.3 kB/s eta 0:00:18\n",
            "   ---------------------- ----------------- 8.9/15.7 MB 380.4 kB/s eta 0:00:18\n",
            "   ---------------------- ----------------- 8.9/15.7 MB 380.6 kB/s eta 0:00:18\n",
            "   ---------------------- ----------------- 8.9/15.7 MB 380.9 kB/s eta 0:00:18\n",
            "   ---------------------- ----------------- 8.9/15.7 MB 381.2 kB/s eta 0:00:18\n",
            "   ---------------------- ----------------- 9.0/15.7 MB 381.1 kB/s eta 0:00:18\n",
            "   ---------------------- ----------------- 9.0/15.7 MB 381.4 kB/s eta 0:00:18\n",
            "   ---------------------- ----------------- 9.0/15.7 MB 381.9 kB/s eta 0:00:18\n",
            "   ----------------------- ---------------- 9.0/15.7 MB 382.0 kB/s eta 0:00:18\n",
            "   ----------------------- ---------------- 9.0/15.7 MB 382.0 kB/s eta 0:00:18\n",
            "   ----------------------- ---------------- 9.1/15.7 MB 381.6 kB/s eta 0:00:18\n",
            "   ----------------------- ---------------- 9.1/15.7 MB 382.2 kB/s eta 0:00:18\n",
            "   ----------------------- ---------------- 9.1/15.7 MB 382.5 kB/s eta 0:00:18\n",
            "   ----------------------- ---------------- 9.1/15.7 MB 382.5 kB/s eta 0:00:18\n",
            "   ----------------------- ---------------- 9.1/15.7 MB 382.5 kB/s eta 0:00:18\n",
            "   ----------------------- ---------------- 9.2/15.7 MB 383.7 kB/s eta 0:00:17\n",
            "   ----------------------- ---------------- 9.2/15.7 MB 383.7 kB/s eta 0:00:17\n",
            "   ----------------------- ---------------- 9.3/15.7 MB 385.4 kB/s eta 0:00:17\n",
            "   ----------------------- ---------------- 9.3/15.7 MB 386.8 kB/s eta 0:00:17\n",
            "   ----------------------- ---------------- 9.4/15.7 MB 387.9 kB/s eta 0:00:17\n",
            "   ------------------------ --------------- 9.4/15.7 MB 389.2 kB/s eta 0:00:17\n",
            "   ------------------------ --------------- 9.5/15.7 MB 389.8 kB/s eta 0:00:16\n",
            "   ------------------------ --------------- 9.5/15.7 MB 390.5 kB/s eta 0:00:16\n",
            "   ------------------------ --------------- 9.5/15.7 MB 390.8 kB/s eta 0:00:16\n",
            "   ------------------------ --------------- 9.6/15.7 MB 391.7 kB/s eta 0:00:16\n",
            "   ------------------------ --------------- 9.6/15.7 MB 391.9 kB/s eta 0:00:16\n",
            "   ------------------------ --------------- 9.6/15.7 MB 392.2 kB/s eta 0:00:16\n",
            "   ------------------------ --------------- 9.6/15.7 MB 391.8 kB/s eta 0:00:16\n",
            "   ------------------------ --------------- 9.6/15.7 MB 391.7 kB/s eta 0:00:16\n",
            "   ------------------------ --------------- 9.6/15.7 MB 391.8 kB/s eta 0:00:16\n",
            "   ------------------------ --------------- 9.7/15.7 MB 391.7 kB/s eta 0:00:16\n",
            "   ------------------------ --------------- 9.7/15.7 MB 392.1 kB/s eta 0:00:16\n",
            "   ------------------------ --------------- 9.7/15.7 MB 391.8 kB/s eta 0:00:16\n",
            "   ------------------------ --------------- 9.7/15.7 MB 391.9 kB/s eta 0:00:16\n",
            "   ------------------------ --------------- 9.7/15.7 MB 391.8 kB/s eta 0:00:16\n",
            "   ------------------------ --------------- 9.8/15.7 MB 391.4 kB/s eta 0:00:16\n",
            "   ------------------------ --------------- 9.8/15.7 MB 391.9 kB/s eta 0:00:16\n",
            "   ------------------------ --------------- 9.8/15.7 MB 391.9 kB/s eta 0:00:16\n",
            "   ------------------------- -------------- 9.8/15.7 MB 391.7 kB/s eta 0:00:16\n",
            "   ------------------------- -------------- 9.8/15.7 MB 391.4 kB/s eta 0:00:16\n",
            "   ------------------------- -------------- 9.8/15.7 MB 391.3 kB/s eta 0:00:15\n",
            "   ------------------------- -------------- 9.8/15.7 MB 391.3 kB/s eta 0:00:15\n",
            "   ------------------------- -------------- 9.9/15.7 MB 391.1 kB/s eta 0:00:15\n",
            "   ------------------------- -------------- 9.9/15.7 MB 390.5 kB/s eta 0:00:15\n",
            "   ------------------------- -------------- 9.9/15.7 MB 390.4 kB/s eta 0:00:15\n",
            "   ------------------------- -------------- 9.9/15.7 MB 390.4 kB/s eta 0:00:15\n",
            "   ------------------------- -------------- 9.9/15.7 MB 389.6 kB/s eta 0:00:15\n",
            "   ------------------------- -------------- 9.9/15.7 MB 389.7 kB/s eta 0:00:15\n",
            "   ------------------------- -------------- 9.9/15.7 MB 389.3 kB/s eta 0:00:15\n",
            "   ------------------------- -------------- 10.0/15.7 MB 389.2 kB/s eta 0:00:15\n",
            "   ------------------------- -------------- 10.0/15.7 MB 389.2 kB/s eta 0:00:15\n",
            "   ------------------------- -------------- 10.0/15.7 MB 388.8 kB/s eta 0:00:15\n",
            "   ------------------------- -------------- 10.0/15.7 MB 388.5 kB/s eta 0:00:15\n",
            "   ------------------------- -------------- 10.0/15.7 MB 388.5 kB/s eta 0:00:15\n",
            "   ------------------------- -------------- 10.0/15.7 MB 388.2 kB/s eta 0:00:15\n",
            "   ------------------------- -------------- 10.0/15.7 MB 388.2 kB/s eta 0:00:15\n",
            "   ------------------------- -------------- 10.1/15.7 MB 388.2 kB/s eta 0:00:15\n",
            "   ------------------------- -------------- 10.1/15.7 MB 387.7 kB/s eta 0:00:15\n",
            "   ------------------------- -------------- 10.1/15.7 MB 387.7 kB/s eta 0:00:15\n",
            "   ------------------------- -------------- 10.1/15.7 MB 387.8 kB/s eta 0:00:15\n",
            "   ------------------------- -------------- 10.1/15.7 MB 387.4 kB/s eta 0:00:15\n",
            "   ------------------------- -------------- 10.1/15.7 MB 387.1 kB/s eta 0:00:15\n",
            "   ------------------------- -------------- 10.1/15.7 MB 387.2 kB/s eta 0:00:15\n",
            "   ------------------------- -------------- 10.1/15.7 MB 387.2 kB/s eta 0:00:15\n",
            "   ------------------------- -------------- 10.1/15.7 MB 386.2 kB/s eta 0:00:15\n",
            "   ------------------------- -------------- 10.2/15.7 MB 386.0 kB/s eta 0:00:15\n",
            "   ------------------------- -------------- 10.2/15.7 MB 386.0 kB/s eta 0:00:15\n",
            "   ------------------------- -------------- 10.2/15.7 MB 385.7 kB/s eta 0:00:15\n",
            "   ------------------------- -------------- 10.2/15.7 MB 385.2 kB/s eta 0:00:15\n",
            "   ------------------------- -------------- 10.2/15.7 MB 385.2 kB/s eta 0:00:15\n",
            "   ------------------------- -------------- 10.2/15.7 MB 385.2 kB/s eta 0:00:15\n",
            "   -------------------------- ------------- 10.2/15.7 MB 384.6 kB/s eta 0:00:15\n",
            "   -------------------------- ------------- 10.2/15.7 MB 384.6 kB/s eta 0:00:15\n",
            "   -------------------------- ------------- 10.2/15.7 MB 384.6 kB/s eta 0:00:15\n",
            "   -------------------------- ------------- 10.2/15.7 MB 383.4 kB/s eta 0:00:15\n",
            "   -------------------------- ------------- 10.2/15.7 MB 383.4 kB/s eta 0:00:15\n",
            "   -------------------------- ------------- 10.3/15.7 MB 382.6 kB/s eta 0:00:15\n",
            "   -------------------------- ------------- 10.3/15.7 MB 382.6 kB/s eta 0:00:15\n",
            "   -------------------------- ------------- 10.3/15.7 MB 381.5 kB/s eta 0:00:15\n",
            "   -------------------------- ------------- 10.3/15.7 MB 381.5 kB/s eta 0:00:15\n",
            "   -------------------------- ------------- 10.3/15.7 MB 381.5 kB/s eta 0:00:15\n",
            "   -------------------------- ------------- 10.3/15.7 MB 381.5 kB/s eta 0:00:15\n",
            "   -------------------------- ------------- 10.3/15.7 MB 381.5 kB/s eta 0:00:15\n",
            "   -------------------------- ------------- 10.3/15.7 MB 378.9 kB/s eta 0:00:15\n",
            "   -------------------------- ------------- 10.3/15.7 MB 378.9 kB/s eta 0:00:15\n",
            "   -------------------------- ------------- 10.3/15.7 MB 378.9 kB/s eta 0:00:15\n",
            "   -------------------------- ------------- 10.3/15.7 MB 377.4 kB/s eta 0:00:15\n",
            "   -------------------------- ------------- 10.3/15.7 MB 377.4 kB/s eta 0:00:15\n",
            "   -------------------------- ------------- 10.3/15.7 MB 376.1 kB/s eta 0:00:15\n",
            "   -------------------------- ------------- 10.3/15.7 MB 376.1 kB/s eta 0:00:15\n",
            "   -------------------------- ------------- 10.3/15.7 MB 376.1 kB/s eta 0:00:15\n",
            "   -------------------------- ------------- 10.3/15.7 MB 376.1 kB/s eta 0:00:15\n",
            "   -------------------------- ------------- 10.4/15.7 MB 374.1 kB/s eta 0:00:15\n",
            "   -------------------------- ------------- 10.4/15.7 MB 373.3 kB/s eta 0:00:15\n",
            "   -------------------------- ------------- 10.4/15.7 MB 373.3 kB/s eta 0:00:15\n",
            "   -------------------------- ------------- 10.4/15.7 MB 373.3 kB/s eta 0:00:15\n",
            "   -------------------------- ------------- 10.4/15.7 MB 373.3 kB/s eta 0:00:15\n",
            "   -------------------------- ------------- 10.4/15.7 MB 373.3 kB/s eta 0:00:15\n",
            "   -------------------------- ------------- 10.4/15.7 MB 373.3 kB/s eta 0:00:15\n",
            "   -------------------------- ------------- 10.4/15.7 MB 373.3 kB/s eta 0:00:15\n",
            "   -------------------------- ------------- 10.4/15.7 MB 373.3 kB/s eta 0:00:15\n",
            "   -------------------------- ------------- 10.4/15.7 MB 373.3 kB/s eta 0:00:15\n",
            "   -------------------------- ------------- 10.4/15.7 MB 373.3 kB/s eta 0:00:15\n",
            "   -------------------------- ------------- 10.4/15.7 MB 373.3 kB/s eta 0:00:15\n",
            "   -------------------------- ------------- 10.4/15.7 MB 373.3 kB/s eta 0:00:15\n",
            "   -------------------------- ------------- 10.4/15.7 MB 373.3 kB/s eta 0:00:15\n",
            "   -------------------------- ------------- 10.4/15.7 MB 373.3 kB/s eta 0:00:15\n",
            "   -------------------------- ------------- 10.4/15.7 MB 373.3 kB/s eta 0:00:15\n",
            "   -------------------------- ------------- 10.4/15.7 MB 373.3 kB/s eta 0:00:15\n",
            "   -------------------------- ------------- 10.4/15.7 MB 373.3 kB/s eta 0:00:15\n",
            "   -------------------------- ------------- 10.4/15.7 MB 373.3 kB/s eta 0:00:15\n",
            "   -------------------------- ------------- 10.4/15.7 MB 373.3 kB/s eta 0:00:15\n",
            "   -------------------------- ------------- 10.4/15.7 MB 373.3 kB/s eta 0:00:15\n",
            "   -------------------------- ------------- 10.4/15.7 MB 373.3 kB/s eta 0:00:15\n",
            "   -------------------------- ------------- 10.4/15.7 MB 373.3 kB/s eta 0:00:15\n",
            "   -------------------------- ------------- 10.4/15.7 MB 373.3 kB/s eta 0:00:15\n",
            "   -------------------------- ------------- 10.4/15.7 MB 373.3 kB/s eta 0:00:15\n",
            "   -------------------------- ------------- 10.4/15.7 MB 373.3 kB/s eta 0:00:15\n",
            "   -------------------------- ------------- 10.4/15.7 MB 373.3 kB/s eta 0:00:15\n",
            "   -------------------------- ------------- 10.4/15.7 MB 373.3 kB/s eta 0:00:15\n",
            "   -------------------------- ------------- 10.4/15.7 MB 373.3 kB/s eta 0:00:15\n",
            "   -------------------------- ------------- 10.4/15.7 MB 356.8 kB/s eta 0:00:15\n",
            "   -------------------------- ------------- 10.4/15.7 MB 356.8 kB/s eta 0:00:15\n",
            "   -------------------------- ------------- 10.4/15.7 MB 356.8 kB/s eta 0:00:15\n",
            "   -------------------------- ------------- 10.4/15.7 MB 356.8 kB/s eta 0:00:15\n",
            "   -------------------------- ------------- 10.5/15.7 MB 355.8 kB/s eta 0:00:15\n",
            "   --------------------------- ------------ 10.6/15.7 MB 358.0 kB/s eta 0:00:15\n",
            "   --------------------------- ------------ 10.6/15.7 MB 358.0 kB/s eta 0:00:15\n",
            "   --------------------------- ------------ 10.6/15.7 MB 357.4 kB/s eta 0:00:15\n",
            "   --------------------------- ------------ 10.6/15.7 MB 357.4 kB/s eta 0:00:15\n",
            "   --------------------------- ------------ 10.7/15.7 MB 356.4 kB/s eta 0:00:15\n",
            "   --------------------------- ------------ 10.7/15.7 MB 356.4 kB/s eta 0:00:15\n",
            "   --------------------------- ------------ 10.7/15.7 MB 354.9 kB/s eta 0:00:15\n",
            "   --------------------------- ------------ 10.7/15.7 MB 354.9 kB/s eta 0:00:15\n",
            "   --------------------------- ------------ 10.7/15.7 MB 354.9 kB/s eta 0:00:15\n",
            "   --------------------------- ------------ 10.7/15.7 MB 353.9 kB/s eta 0:00:15\n",
            "   --------------------------- ------------ 10.7/15.7 MB 353.9 kB/s eta 0:00:15\n",
            "   --------------------------- ------------ 10.7/15.7 MB 352.6 kB/s eta 0:00:15\n",
            "   --------------------------- ------------ 10.7/15.7 MB 352.6 kB/s eta 0:00:15\n",
            "   --------------------------- ------------ 10.7/15.7 MB 351.8 kB/s eta 0:00:15\n",
            "   --------------------------- ------------ 10.7/15.7 MB 351.8 kB/s eta 0:00:15\n",
            "   --------------------------- ------------ 10.7/15.7 MB 351.8 kB/s eta 0:00:15\n",
            "   --------------------------- ------------ 10.7/15.7 MB 350.5 kB/s eta 0:00:15\n",
            "   --------------------------- ------------ 10.8/15.7 MB 350.1 kB/s eta 0:00:15\n",
            "   --------------------------- ------------ 10.8/15.7 MB 350.1 kB/s eta 0:00:15\n",
            "   --------------------------- ------------ 10.8/15.7 MB 349.2 kB/s eta 0:00:15\n",
            "   --------------------------- ------------ 10.8/15.7 MB 349.2 kB/s eta 0:00:15\n",
            "   --------------------------- ------------ 10.8/15.7 MB 348.4 kB/s eta 0:00:15\n",
            "   --------------------------- ------------ 10.8/15.7 MB 347.9 kB/s eta 0:00:15\n",
            "   --------------------------- ------------ 10.8/15.7 MB 347.9 kB/s eta 0:00:15\n",
            "   --------------------------- ------------ 10.8/15.7 MB 347.0 kB/s eta 0:00:15\n",
            "   --------------------------- ------------ 10.8/15.7 MB 347.0 kB/s eta 0:00:15\n",
            "   --------------------------- ------------ 10.8/15.7 MB 346.4 kB/s eta 0:00:14\n",
            "   --------------------------- ------------ 10.8/15.7 MB 346.4 kB/s eta 0:00:14\n",
            "   --------------------------- ------------ 10.9/15.7 MB 345.5 kB/s eta 0:00:14\n",
            "   --------------------------- ------------ 10.9/15.7 MB 344.8 kB/s eta 0:00:14\n",
            "   --------------------------- ------------ 10.9/15.7 MB 344.8 kB/s eta 0:00:14\n",
            "   --------------------------- ------------ 10.9/15.7 MB 343.9 kB/s eta 0:00:14\n",
            "   --------------------------- ------------ 10.9/15.7 MB 343.9 kB/s eta 0:00:14\n",
            "   --------------------------- ------------ 10.9/15.7 MB 343.0 kB/s eta 0:00:14\n",
            "   --------------------------- ------------ 10.9/15.7 MB 343.0 kB/s eta 0:00:14\n",
            "   --------------------------- ------------ 10.9/15.7 MB 342.1 kB/s eta 0:00:14\n",
            "   --------------------------- ------------ 10.9/15.7 MB 342.1 kB/s eta 0:00:14\n",
            "   --------------------------- ------------ 10.9/15.7 MB 341.4 kB/s eta 0:00:14\n",
            "   --------------------------- ------------ 10.9/15.7 MB 341.4 kB/s eta 0:00:14\n",
            "   --------------------------- ------------ 11.0/15.7 MB 339.3 kB/s eta 0:00:14\n",
            "   --------------------------- ------------ 11.0/15.7 MB 339.3 kB/s eta 0:00:14\n",
            "   --------------------------- ------------ 11.0/15.7 MB 337.9 kB/s eta 0:00:14\n",
            "   ---------------------------- ----------- 11.0/15.7 MB 336.7 kB/s eta 0:00:14\n",
            "   ---------------------------- ----------- 11.0/15.7 MB 336.7 kB/s eta 0:00:14\n",
            "   ---------------------------- ----------- 11.0/15.7 MB 337.1 kB/s eta 0:00:14\n",
            "   ---------------------------- ----------- 11.0/15.7 MB 337.1 kB/s eta 0:00:14\n",
            "   ---------------------------- ----------- 11.0/15.7 MB 336.2 kB/s eta 0:00:14\n",
            "   ---------------------------- ----------- 11.0/15.7 MB 336.2 kB/s eta 0:00:14\n",
            "   ---------------------------- ----------- 11.0/15.7 MB 336.2 kB/s eta 0:00:14\n",
            "   ---------------------------- ----------- 11.0/15.7 MB 336.2 kB/s eta 0:00:14\n",
            "   ---------------------------- ----------- 11.0/15.7 MB 336.2 kB/s eta 0:00:14\n",
            "   ---------------------------- ----------- 11.1/15.7 MB 335.4 kB/s eta 0:00:14\n",
            "   ---------------------------- ----------- 11.1/15.7 MB 335.0 kB/s eta 0:00:14\n",
            "   ---------------------------- ----------- 11.1/15.7 MB 335.0 kB/s eta 0:00:14\n",
            "   ---------------------------- ----------- 11.1/15.7 MB 334.7 kB/s eta 0:00:14\n",
            "   ---------------------------- ----------- 11.1/15.7 MB 334.0 kB/s eta 0:00:14\n",
            "   ---------------------------- ----------- 11.1/15.7 MB 334.0 kB/s eta 0:00:14\n",
            "   ---------------------------- ----------- 11.1/15.7 MB 333.6 kB/s eta 0:00:14\n",
            "   ---------------------------- ----------- 11.1/15.7 MB 333.6 kB/s eta 0:00:14\n",
            "   ---------------------------- ----------- 11.1/15.7 MB 333.3 kB/s eta 0:00:14\n",
            "   ---------------------------- ----------- 11.1/15.7 MB 333.3 kB/s eta 0:00:14\n",
            "   ---------------------------- ----------- 11.2/15.7 MB 332.8 kB/s eta 0:00:14\n",
            "   ---------------------------- ----------- 11.2/15.7 MB 333.0 kB/s eta 0:00:14\n",
            "   ---------------------------- ----------- 11.2/15.7 MB 333.0 kB/s eta 0:00:14\n",
            "   ---------------------------- ----------- 11.2/15.7 MB 332.1 kB/s eta 0:00:14\n",
            "   ---------------------------- ----------- 11.2/15.7 MB 332.1 kB/s eta 0:00:14\n",
            "   ---------------------------- ----------- 11.2/15.7 MB 332.1 kB/s eta 0:00:14\n",
            "   ---------------------------- ----------- 11.2/15.7 MB 332.0 kB/s eta 0:00:14\n",
            "   ---------------------------- ----------- 11.2/15.7 MB 332.1 kB/s eta 0:00:14\n",
            "   ---------------------------- ----------- 11.2/15.7 MB 332.1 kB/s eta 0:00:14\n",
            "   ---------------------------- ----------- 11.3/15.7 MB 332.0 kB/s eta 0:00:14\n",
            "   ---------------------------- ----------- 11.3/15.7 MB 331.4 kB/s eta 0:00:14\n",
            "   ---------------------------- ----------- 11.3/15.7 MB 331.4 kB/s eta 0:00:14\n",
            "   ---------------------------- ----------- 11.3/15.7 MB 331.3 kB/s eta 0:00:14\n",
            "   ---------------------------- ----------- 11.3/15.7 MB 331.1 kB/s eta 0:00:14\n",
            "   ---------------------------- ----------- 11.3/15.7 MB 331.1 kB/s eta 0:00:14\n",
            "   ---------------------------- ----------- 11.3/15.7 MB 330.8 kB/s eta 0:00:14\n",
            "   ---------------------------- ----------- 11.3/15.7 MB 330.8 kB/s eta 0:00:14\n",
            "   ---------------------------- ----------- 11.3/15.7 MB 330.1 kB/s eta 0:00:14\n",
            "   ---------------------------- ----------- 11.3/15.7 MB 330.1 kB/s eta 0:00:14\n",
            "   ---------------------------- ----------- 11.3/15.7 MB 329.7 kB/s eta 0:00:14\n",
            "   ---------------------------- ----------- 11.3/15.7 MB 329.7 kB/s eta 0:00:14\n",
            "   ---------------------------- ----------- 11.4/15.7 MB 329.7 kB/s eta 0:00:14\n",
            "   ---------------------------- ----------- 11.4/15.7 MB 329.7 kB/s eta 0:00:14\n",
            "   ---------------------------- ----------- 11.4/15.7 MB 328.7 kB/s eta 0:00:14\n",
            "   ---------------------------- ----------- 11.4/15.7 MB 328.7 kB/s eta 0:00:14\n",
            "   ----------------------------- ---------- 11.4/15.7 MB 328.0 kB/s eta 0:00:14\n",
            "   ----------------------------- ---------- 11.4/15.7 MB 327.5 kB/s eta 0:00:14\n",
            "   ----------------------------- ---------- 11.4/15.7 MB 327.5 kB/s eta 0:00:14\n",
            "   ----------------------------- ---------- 11.4/15.7 MB 326.7 kB/s eta 0:00:14\n",
            "   ----------------------------- ---------- 11.4/15.7 MB 326.7 kB/s eta 0:00:14\n",
            "   ----------------------------- ---------- 11.4/15.7 MB 325.6 kB/s eta 0:00:14\n",
            "   ----------------------------- ---------- 11.4/15.7 MB 325.6 kB/s eta 0:00:14\n",
            "   ----------------------------- ---------- 11.4/15.7 MB 325.6 kB/s eta 0:00:14\n",
            "   ----------------------------- ---------- 11.5/15.7 MB 325.5 kB/s eta 0:00:14\n",
            "   ----------------------------- ---------- 11.5/15.7 MB 322.2 kB/s eta 0:00:14\n",
            "   ----------------------------- ---------- 11.5/15.7 MB 322.2 kB/s eta 0:00:14\n",
            "   ----------------------------- ---------- 11.5/15.7 MB 322.2 kB/s eta 0:00:14\n",
            "   ----------------------------- ---------- 11.5/15.7 MB 321.2 kB/s eta 0:00:14\n",
            "   ----------------------------- ---------- 11.5/15.7 MB 319.8 kB/s eta 0:00:14\n",
            "   ----------------------------- ---------- 11.5/15.7 MB 319.8 kB/s eta 0:00:14\n",
            "   ----------------------------- ---------- 11.5/15.7 MB 319.1 kB/s eta 0:00:14\n",
            "   ----------------------------- ---------- 11.5/15.7 MB 319.1 kB/s eta 0:00:14\n",
            "   ----------------------------- ---------- 11.5/15.7 MB 318.5 kB/s eta 0:00:14\n",
            "   ----------------------------- ---------- 11.5/15.7 MB 318.5 kB/s eta 0:00:14\n",
            "   ----------------------------- ---------- 11.5/15.7 MB 318.5 kB/s eta 0:00:14\n",
            "   ----------------------------- ---------- 11.5/15.7 MB 318.5 kB/s eta 0:00:14\n",
            "   ----------------------------- ---------- 11.5/15.7 MB 318.5 kB/s eta 0:00:14\n",
            "   ----------------------------- ---------- 11.6/15.7 MB 317.1 kB/s eta 0:00:13\n",
            "   ----------------------------- ---------- 11.6/15.7 MB 316.2 kB/s eta 0:00:13\n",
            "   ----------------------------- ---------- 11.6/15.7 MB 316.2 kB/s eta 0:00:13\n",
            "   ----------------------------- ---------- 11.6/15.7 MB 316.4 kB/s eta 0:00:13\n",
            "   ----------------------------- ---------- 11.6/15.7 MB 316.4 kB/s eta 0:00:13\n",
            "   ----------------------------- ---------- 11.6/15.7 MB 316.4 kB/s eta 0:00:13\n",
            "   ----------------------------- ---------- 11.6/15.7 MB 316.4 kB/s eta 0:00:13\n",
            "   ----------------------------- ---------- 11.6/15.7 MB 316.4 kB/s eta 0:00:13\n",
            "   ----------------------------- ---------- 11.6/15.7 MB 316.4 kB/s eta 0:00:13\n",
            "   ----------------------------- ---------- 11.6/15.7 MB 316.4 kB/s eta 0:00:13\n",
            "   ----------------------------- ---------- 11.7/15.7 MB 314.7 kB/s eta 0:00:13\n",
            "   ----------------------------- ---------- 11.7/15.7 MB 314.7 kB/s eta 0:00:13\n",
            "   ----------------------------- ---------- 11.7/15.7 MB 314.7 kB/s eta 0:00:13\n",
            "   ----------------------------- ---------- 11.7/15.7 MB 313.9 kB/s eta 0:00:13\n",
            "   ----------------------------- ---------- 11.7/15.7 MB 313.9 kB/s eta 0:00:13\n",
            "   ----------------------------- ---------- 11.7/15.7 MB 313.9 kB/s eta 0:00:13\n",
            "   ----------------------------- ---------- 11.7/15.7 MB 313.9 kB/s eta 0:00:13\n",
            "   ------------------------------ --------- 11.8/15.7 MB 312.1 kB/s eta 0:00:13\n",
            "   ------------------------------ --------- 11.8/15.7 MB 312.1 kB/s eta 0:00:13\n",
            "   ------------------------------ --------- 11.8/15.7 MB 312.1 kB/s eta 0:00:13\n",
            "   ------------------------------ --------- 11.8/15.7 MB 312.1 kB/s eta 0:00:13\n",
            "   ------------------------------ --------- 11.8/15.7 MB 311.1 kB/s eta 0:00:13\n",
            "   ------------------------------ --------- 11.8/15.7 MB 311.1 kB/s eta 0:00:13\n",
            "   ------------------------------ --------- 11.8/15.7 MB 311.1 kB/s eta 0:00:13\n",
            "   ------------------------------ --------- 11.9/15.7 MB 310.3 kB/s eta 0:00:13\n",
            "   ------------------------------ --------- 11.9/15.7 MB 310.3 kB/s eta 0:00:13\n",
            "   ------------------------------ --------- 11.9/15.7 MB 310.3 kB/s eta 0:00:13\n",
            "   ------------------------------ --------- 11.9/15.7 MB 310.3 kB/s eta 0:00:13\n",
            "   ------------------------------ --------- 11.9/15.7 MB 308.2 kB/s eta 0:00:13\n",
            "   ------------------------------ --------- 11.9/15.7 MB 308.2 kB/s eta 0:00:13\n",
            "   ------------------------------ --------- 11.9/15.7 MB 308.2 kB/s eta 0:00:13\n",
            "   ------------------------------ --------- 12.0/15.7 MB 306.2 kB/s eta 0:00:13\n",
            "   ------------------------------ --------- 12.0/15.7 MB 306.9 kB/s eta 0:00:13\n",
            "   ------------------------------ --------- 12.0/15.7 MB 306.9 kB/s eta 0:00:13\n",
            "   ------------------------------ --------- 12.0/15.7 MB 306.9 kB/s eta 0:00:13\n",
            "   ------------------------------ --------- 12.0/15.7 MB 304.1 kB/s eta 0:00:13\n",
            "   ------------------------------ --------- 12.0/15.7 MB 304.1 kB/s eta 0:00:13\n",
            "   ------------------------------ --------- 12.0/15.7 MB 304.1 kB/s eta 0:00:13\n",
            "   ------------------------------ --------- 12.0/15.7 MB 304.1 kB/s eta 0:00:13\n",
            "   ------------------------------ --------- 12.0/15.7 MB 301.2 kB/s eta 0:00:13\n",
            "   ------------------------------ --------- 12.0/15.7 MB 301.2 kB/s eta 0:00:13\n",
            "   ------------------------------ --------- 12.0/15.7 MB 301.2 kB/s eta 0:00:13\n",
            "   ------------------------------ --------- 12.0/15.7 MB 301.2 kB/s eta 0:00:13\n",
            "   ------------------------------ --------- 12.1/15.7 MB 299.5 kB/s eta 0:00:13\n",
            "   ------------------------------ --------- 12.1/15.7 MB 298.5 kB/s eta 0:00:13\n",
            "   ------------------------------ --------- 12.1/15.7 MB 297.2 kB/s eta 0:00:13\n",
            "   ------------------------------ --------- 12.1/15.7 MB 297.1 kB/s eta 0:00:13\n",
            "   ------------------------------ --------- 12.1/15.7 MB 297.1 kB/s eta 0:00:13\n",
            "   ------------------------------ --------- 12.1/15.7 MB 296.7 kB/s eta 0:00:12\n",
            "   ------------------------------ --------- 12.1/15.7 MB 296.7 kB/s eta 0:00:12\n",
            "   ------------------------------ --------- 12.2/15.7 MB 296.1 kB/s eta 0:00:12\n",
            "   ------------------------------- -------- 12.2/15.7 MB 295.9 kB/s eta 0:00:12\n",
            "   ------------------------------- -------- 12.2/15.7 MB 295.9 kB/s eta 0:00:12\n",
            "   ------------------------------- -------- 12.2/15.7 MB 295.3 kB/s eta 0:00:12\n",
            "   ------------------------------- -------- 12.2/15.7 MB 294.0 kB/s eta 0:00:12\n",
            "   ------------------------------- -------- 12.2/15.7 MB 294.0 kB/s eta 0:00:12\n",
            "   ------------------------------- -------- 12.2/15.7 MB 293.0 kB/s eta 0:00:12\n",
            "   ------------------------------- -------- 12.2/15.7 MB 293.0 kB/s eta 0:00:12\n",
            "   ------------------------------- -------- 12.2/15.7 MB 291.6 kB/s eta 0:00:12\n",
            "   ------------------------------- -------- 12.2/15.7 MB 291.6 kB/s eta 0:00:12\n",
            "   ------------------------------- -------- 12.3/15.7 MB 291.3 kB/s eta 0:00:12\n",
            "   ------------------------------- -------- 12.3/15.7 MB 291.2 kB/s eta 0:00:12\n",
            "   ------------------------------- -------- 12.3/15.7 MB 291.2 kB/s eta 0:00:12\n",
            "   ------------------------------- -------- 12.3/15.7 MB 291.1 kB/s eta 0:00:12\n",
            "   ------------------------------- -------- 12.3/15.7 MB 290.6 kB/s eta 0:00:12\n",
            "   ------------------------------- -------- 12.3/15.7 MB 290.6 kB/s eta 0:00:12\n",
            "   ------------------------------- -------- 12.3/15.7 MB 290.6 kB/s eta 0:00:12\n",
            "   ------------------------------- -------- 12.4/15.7 MB 291.1 kB/s eta 0:00:12\n",
            "   ------------------------------- -------- 12.4/15.7 MB 290.5 kB/s eta 0:00:12\n",
            "   ------------------------------- -------- 12.4/15.7 MB 290.8 kB/s eta 0:00:12\n",
            "   ------------------------------- -------- 12.4/15.7 MB 290.8 kB/s eta 0:00:12\n",
            "   ------------------------------- -------- 12.4/15.7 MB 290.3 kB/s eta 0:00:12\n",
            "   ------------------------------- -------- 12.4/15.7 MB 290.8 kB/s eta 0:00:12\n",
            "   ------------------------------- -------- 12.4/15.7 MB 290.8 kB/s eta 0:00:12\n",
            "   ------------------------------- -------- 12.4/15.7 MB 289.8 kB/s eta 0:00:12\n",
            "   ------------------------------- -------- 12.5/15.7 MB 289.2 kB/s eta 0:00:12\n",
            "   ------------------------------- -------- 12.5/15.7 MB 289.2 kB/s eta 0:00:12\n",
            "   ------------------------------- -------- 12.5/15.7 MB 288.1 kB/s eta 0:00:12\n",
            "   ------------------------------- -------- 12.5/15.7 MB 288.1 kB/s eta 0:00:12\n",
            "   ------------------------------- -------- 12.5/15.7 MB 287.6 kB/s eta 0:00:12\n",
            "   ------------------------------- -------- 12.5/15.7 MB 287.6 kB/s eta 0:00:12\n",
            "   ------------------------------- -------- 12.5/15.7 MB 286.5 kB/s eta 0:00:12\n",
            "   ------------------------------- -------- 12.5/15.7 MB 286.5 kB/s eta 0:00:12\n",
            "   ------------------------------- -------- 12.5/15.7 MB 285.7 kB/s eta 0:00:12\n",
            "   ------------------------------- -------- 12.5/15.7 MB 285.7 kB/s eta 0:00:12\n",
            "   ------------------------------- -------- 12.5/15.7 MB 284.3 kB/s eta 0:00:12\n",
            "   ------------------------------- -------- 12.6/15.7 MB 284.6 kB/s eta 0:00:12\n",
            "   ------------------------------- -------- 12.6/15.7 MB 284.6 kB/s eta 0:00:12\n",
            "   -------------------------------- ------- 12.6/15.7 MB 282.2 kB/s eta 0:00:12\n",
            "   -------------------------------- ------- 12.6/15.7 MB 282.2 kB/s eta 0:00:12\n",
            "   -------------------------------- ------- 12.6/15.7 MB 281.6 kB/s eta 0:00:12\n",
            "   -------------------------------- ------- 12.6/15.7 MB 281.6 kB/s eta 0:00:12\n",
            "   -------------------------------- ------- 12.6/15.7 MB 280.6 kB/s eta 0:00:12\n",
            "   -------------------------------- ------- 12.6/15.7 MB 279.9 kB/s eta 0:00:11\n",
            "   -------------------------------- ------- 12.6/15.7 MB 279.9 kB/s eta 0:00:11\n",
            "   -------------------------------- ------- 12.6/15.7 MB 279.6 kB/s eta 0:00:11\n",
            "   -------------------------------- ------- 12.6/15.7 MB 279.6 kB/s eta 0:00:11\n",
            "   -------------------------------- ------- 12.6/15.7 MB 277.2 kB/s eta 0:00:11\n",
            "   -------------------------------- ------- 12.6/15.7 MB 277.2 kB/s eta 0:00:11\n",
            "   -------------------------------- ------- 12.7/15.7 MB 276.1 kB/s eta 0:00:11\n",
            "   -------------------------------- ------- 12.7/15.7 MB 276.1 kB/s eta 0:00:11\n",
            "   -------------------------------- ------- 12.7/15.7 MB 275.4 kB/s eta 0:00:11\n",
            "   -------------------------------- ------- 12.7/15.7 MB 275.4 kB/s eta 0:00:11\n",
            "   -------------------------------- ------- 12.7/15.7 MB 274.1 kB/s eta 0:00:11\n",
            "   -------------------------------- ------- 12.7/15.7 MB 274.2 kB/s eta 0:00:11\n",
            "   -------------------------------- ------- 12.7/15.7 MB 273.4 kB/s eta 0:00:11\n",
            "   -------------------------------- ------- 12.8/15.7 MB 274.1 kB/s eta 0:00:11\n",
            "   -------------------------------- ------- 12.8/15.7 MB 273.4 kB/s eta 0:00:11\n",
            "   -------------------------------- ------- 12.8/15.7 MB 273.4 kB/s eta 0:00:11\n",
            "   -------------------------------- ------- 12.8/15.7 MB 273.4 kB/s eta 0:00:11\n",
            "   -------------------------------- ------- 12.8/15.7 MB 271.3 kB/s eta 0:00:11\n",
            "   -------------------------------- ------- 12.8/15.7 MB 272.3 kB/s eta 0:00:11\n",
            "   -------------------------------- ------- 12.9/15.7 MB 272.0 kB/s eta 0:00:11\n",
            "   -------------------------------- ------- 12.9/15.7 MB 271.6 kB/s eta 0:00:11\n",
            "   -------------------------------- ------- 12.9/15.7 MB 271.6 kB/s eta 0:00:11\n",
            "   -------------------------------- ------- 12.9/15.7 MB 271.4 kB/s eta 0:00:11\n",
            "   -------------------------------- ------- 12.9/15.7 MB 271.4 kB/s eta 0:00:11\n",
            "   -------------------------------- ------- 12.9/15.7 MB 270.5 kB/s eta 0:00:11\n",
            "   -------------------------------- ------- 12.9/15.7 MB 270.5 kB/s eta 0:00:11\n",
            "   -------------------------------- ------- 12.9/15.7 MB 270.1 kB/s eta 0:00:11\n",
            "   -------------------------------- ------- 12.9/15.7 MB 270.1 kB/s eta 0:00:11\n",
            "   -------------------------------- ------- 12.9/15.7 MB 269.6 kB/s eta 0:00:11\n",
            "   -------------------------------- ------- 12.9/15.7 MB 269.6 kB/s eta 0:00:11\n",
            "   -------------------------------- ------- 12.9/15.7 MB 268.8 kB/s eta 0:00:11\n",
            "   -------------------------------- ------- 12.9/15.7 MB 268.8 kB/s eta 0:00:11\n",
            "   --------------------------------- ------ 13.0/15.7 MB 268.0 kB/s eta 0:00:11\n",
            "   --------------------------------- ------ 13.0/15.7 MB 268.0 kB/s eta 0:00:11\n",
            "   --------------------------------- ------ 13.0/15.7 MB 268.0 kB/s eta 0:00:11\n",
            "   --------------------------------- ------ 13.0/15.7 MB 268.0 kB/s eta 0:00:11\n",
            "   --------------------------------- ------ 13.0/15.7 MB 266.9 kB/s eta 0:00:11\n",
            "   --------------------------------- ------ 13.0/15.7 MB 266.9 kB/s eta 0:00:11\n",
            "   --------------------------------- ------ 13.0/15.7 MB 266.6 kB/s eta 0:00:11\n",
            "   --------------------------------- ------ 13.0/15.7 MB 266.6 kB/s eta 0:00:11\n",
            "   --------------------------------- ------ 13.0/15.7 MB 266.6 kB/s eta 0:00:11\n",
            "   --------------------------------- ------ 13.0/15.7 MB 265.8 kB/s eta 0:00:11\n",
            "   --------------------------------- ------ 13.0/15.7 MB 265.8 kB/s eta 0:00:11\n",
            "   --------------------------------- ------ 13.0/15.7 MB 265.2 kB/s eta 0:00:11\n",
            "   --------------------------------- ------ 13.0/15.7 MB 265.0 kB/s eta 0:00:10\n",
            "   --------------------------------- ------ 13.0/15.7 MB 265.0 kB/s eta 0:00:10\n",
            "   --------------------------------- ------ 13.1/15.7 MB 264.9 kB/s eta 0:00:10\n",
            "   --------------------------------- ------ 13.1/15.7 MB 264.9 kB/s eta 0:00:10\n",
            "   --------------------------------- ------ 13.1/15.7 MB 263.6 kB/s eta 0:00:10\n",
            "   --------------------------------- ------ 13.1/15.7 MB 263.6 kB/s eta 0:00:10\n",
            "   --------------------------------- ------ 13.1/15.7 MB 263.4 kB/s eta 0:00:10\n",
            "   --------------------------------- ------ 13.1/15.7 MB 263.4 kB/s eta 0:00:10\n",
            "   --------------------------------- ------ 13.1/15.7 MB 262.8 kB/s eta 0:00:10\n",
            "   --------------------------------- ------ 13.1/15.7 MB 262.8 kB/s eta 0:00:10\n",
            "   --------------------------------- ------ 13.1/15.7 MB 262.8 kB/s eta 0:00:10\n",
            "   --------------------------------- ------ 13.1/15.7 MB 262.1 kB/s eta 0:00:10\n",
            "   --------------------------------- ------ 13.1/15.7 MB 262.1 kB/s eta 0:00:10\n",
            "   --------------------------------- ------ 13.1/15.7 MB 261.8 kB/s eta 0:00:10\n",
            "   --------------------------------- ------ 13.1/15.7 MB 261.8 kB/s eta 0:00:10\n",
            "   --------------------------------- ------ 13.1/15.7 MB 261.8 kB/s eta 0:00:10\n",
            "   --------------------------------- ------ 13.1/15.7 MB 261.8 kB/s eta 0:00:10\n",
            "   --------------------------------- ------ 13.1/15.7 MB 261.8 kB/s eta 0:00:10\n",
            "   --------------------------------- ------ 13.1/15.7 MB 261.8 kB/s eta 0:00:10\n",
            "   --------------------------------- ------ 13.1/15.7 MB 261.8 kB/s eta 0:00:10\n",
            "   --------------------------------- ------ 13.1/15.7 MB 261.8 kB/s eta 0:00:10\n",
            "   --------------------------------- ------ 13.1/15.7 MB 261.8 kB/s eta 0:00:10\n",
            "   --------------------------------- ------ 13.1/15.7 MB 261.8 kB/s eta 0:00:10\n",
            "   --------------------------------- ------ 13.1/15.7 MB 261.8 kB/s eta 0:00:10\n",
            "   --------------------------------- ------ 13.1/15.7 MB 261.8 kB/s eta 0:00:10\n",
            "   --------------------------------- ------ 13.1/15.7 MB 261.8 kB/s eta 0:00:10\n",
            "   --------------------------------- ------ 13.1/15.7 MB 261.8 kB/s eta 0:00:10\n",
            "   --------------------------------- ------ 13.1/15.7 MB 261.8 kB/s eta 0:00:10\n",
            "   --------------------------------- ------ 13.1/15.7 MB 261.8 kB/s eta 0:00:10\n",
            "   --------------------------------- ------ 13.1/15.7 MB 261.8 kB/s eta 0:00:10\n",
            "   --------------------------------- ------ 13.1/15.7 MB 261.8 kB/s eta 0:00:10\n",
            "   --------------------------------- ------ 13.1/15.7 MB 261.8 kB/s eta 0:00:10\n",
            "   --------------------------------- ------ 13.1/15.7 MB 261.8 kB/s eta 0:00:10\n",
            "   --------------------------------- ------ 13.1/15.7 MB 261.8 kB/s eta 0:00:10\n",
            "   --------------------------------- ------ 13.1/15.7 MB 261.8 kB/s eta 0:00:10\n",
            "   --------------------------------- ------ 13.1/15.7 MB 261.8 kB/s eta 0:00:10\n",
            "   --------------------------------- ------ 13.1/15.7 MB 261.8 kB/s eta 0:00:10\n",
            "   --------------------------------- ------ 13.1/15.7 MB 261.8 kB/s eta 0:00:10\n",
            "   --------------------------------- ------ 13.1/15.7 MB 261.8 kB/s eta 0:00:10\n",
            "   --------------------------------- ------ 13.1/15.7 MB 261.8 kB/s eta 0:00:10\n",
            "   --------------------------------- ------ 13.1/15.7 MB 261.8 kB/s eta 0:00:10\n",
            "   --------------------------------- ------ 13.1/15.7 MB 261.8 kB/s eta 0:00:10\n",
            "   --------------------------------- ------ 13.1/15.7 MB 261.8 kB/s eta 0:00:10\n",
            "   --------------------------------- ------ 13.1/15.7 MB 261.8 kB/s eta 0:00:10\n",
            "   --------------------------------- ------ 13.1/15.7 MB 245.4 kB/s eta 0:00:11\n",
            "   --------------------------------- ------ 13.2/15.7 MB 245.8 kB/s eta 0:00:11\n",
            "   ---------------------------------- ----- 13.4/15.7 MB 253.5 kB/s eta 0:00:09\n",
            "   ---------------------------------- ----- 13.4/15.7 MB 253.5 kB/s eta 0:00:09\n",
            "   ---------------------------------- ----- 13.4/15.7 MB 253.5 kB/s eta 0:00:09\n",
            "   ---------------------------------- ----- 13.4/15.7 MB 252.5 kB/s eta 0:00:09\n",
            "   ---------------------------------- ----- 13.4/15.7 MB 252.5 kB/s eta 0:00:09\n",
            "   ---------------------------------- ----- 13.4/15.7 MB 252.5 kB/s eta 0:00:09\n",
            "   ---------------------------------- ----- 13.4/15.7 MB 252.3 kB/s eta 0:00:09\n",
            "   ---------------------------------- ----- 13.4/15.7 MB 252.3 kB/s eta 0:00:09\n",
            "   ---------------------------------- ----- 13.4/15.7 MB 252.3 kB/s eta 0:00:09\n",
            "   ---------------------------------- ----- 13.5/15.7 MB 251.8 kB/s eta 0:00:09\n",
            "   ---------------------------------- ----- 13.5/15.7 MB 251.8 kB/s eta 0:00:09\n",
            "   ---------------------------------- ----- 13.5/15.7 MB 251.1 kB/s eta 0:00:09\n",
            "   ---------------------------------- ----- 13.5/15.7 MB 251.1 kB/s eta 0:00:09\n",
            "   ---------------------------------- ----- 13.5/15.7 MB 250.5 kB/s eta 0:00:09\n",
            "   ---------------------------------- ----- 13.5/15.7 MB 250.5 kB/s eta 0:00:09\n",
            "   ---------------------------------- ----- 13.5/15.7 MB 250.5 kB/s eta 0:00:09\n",
            "   ---------------------------------- ----- 13.5/15.7 MB 249.3 kB/s eta 0:00:09\n",
            "   ---------------------------------- ----- 13.5/15.7 MB 249.3 kB/s eta 0:00:09\n",
            "   ---------------------------------- ----- 13.5/15.7 MB 249.7 kB/s eta 0:00:09\n",
            "   ---------------------------------- ----- 13.5/15.7 MB 249.7 kB/s eta 0:00:09\n",
            "   ---------------------------------- ----- 13.5/15.7 MB 249.5 kB/s eta 0:00:09\n",
            "   ---------------------------------- ----- 13.5/15.7 MB 249.5 kB/s eta 0:00:09\n",
            "   ---------------------------------- ----- 13.6/15.7 MB 247.3 kB/s eta 0:00:09\n",
            "   ---------------------------------- ----- 13.6/15.7 MB 247.3 kB/s eta 0:00:09\n",
            "   ---------------------------------- ----- 13.6/15.7 MB 247.3 kB/s eta 0:00:09\n",
            "   ---------------------------------- ----- 13.6/15.7 MB 246.9 kB/s eta 0:00:09\n",
            "   ---------------------------------- ----- 13.6/15.7 MB 246.9 kB/s eta 0:00:09\n",
            "   ---------------------------------- ----- 13.6/15.7 MB 245.4 kB/s eta 0:00:09\n",
            "   ---------------------------------- ----- 13.6/15.7 MB 245.5 kB/s eta 0:00:09\n",
            "   ---------------------------------- ----- 13.6/15.7 MB 245.4 kB/s eta 0:00:09\n",
            "   ---------------------------------- ----- 13.6/15.7 MB 245.4 kB/s eta 0:00:09\n",
            "   ---------------------------------- ----- 13.6/15.7 MB 244.7 kB/s eta 0:00:09\n",
            "   ---------------------------------- ----- 13.6/15.7 MB 244.7 kB/s eta 0:00:09\n",
            "   ---------------------------------- ----- 13.6/15.7 MB 244.7 kB/s eta 0:00:09\n",
            "   ---------------------------------- ----- 13.7/15.7 MB 244.5 kB/s eta 0:00:09\n",
            "   ---------------------------------- ----- 13.7/15.7 MB 244.6 kB/s eta 0:00:09\n",
            "   ---------------------------------- ----- 13.7/15.7 MB 244.6 kB/s eta 0:00:09\n",
            "   ---------------------------------- ----- 13.7/15.7 MB 244.5 kB/s eta 0:00:09\n",
            "   ---------------------------------- ----- 13.7/15.7 MB 244.5 kB/s eta 0:00:09\n",
            "   ---------------------------------- ----- 13.7/15.7 MB 244.5 kB/s eta 0:00:09\n",
            "   ---------------------------------- ----- 13.7/15.7 MB 241.0 kB/s eta 0:00:09\n",
            "   ---------------------------------- ----- 13.7/15.7 MB 241.0 kB/s eta 0:00:09\n",
            "   ---------------------------------- ----- 13.7/15.7 MB 240.0 kB/s eta 0:00:09\n",
            "   ---------------------------------- ----- 13.7/15.7 MB 240.0 kB/s eta 0:00:09\n",
            "   ----------------------------------- ---- 13.7/15.7 MB 239.0 kB/s eta 0:00:09\n",
            "   ----------------------------------- ---- 13.7/15.7 MB 239.0 kB/s eta 0:00:09\n",
            "   ----------------------------------- ---- 13.8/15.7 MB 238.0 kB/s eta 0:00:09\n",
            "   ----------------------------------- ---- 13.8/15.7 MB 238.0 kB/s eta 0:00:09\n",
            "   ----------------------------------- ---- 13.8/15.7 MB 237.0 kB/s eta 0:00:09\n",
            "   ----------------------------------- ---- 13.8/15.7 MB 237.0 kB/s eta 0:00:09\n",
            "   ----------------------------------- ---- 13.8/15.7 MB 237.0 kB/s eta 0:00:09\n",
            "   ----------------------------------- ---- 13.8/15.7 MB 235.5 kB/s eta 0:00:09\n",
            "   ----------------------------------- ---- 13.8/15.7 MB 235.5 kB/s eta 0:00:09\n",
            "   ----------------------------------- ---- 13.8/15.7 MB 233.5 kB/s eta 0:00:09\n",
            "   ----------------------------------- ---- 13.8/15.7 MB 233.5 kB/s eta 0:00:09\n",
            "   ----------------------------------- ---- 13.8/15.7 MB 233.5 kB/s eta 0:00:09\n",
            "   ----------------------------------- ---- 13.8/15.7 MB 232.1 kB/s eta 0:00:09\n",
            "   ----------------------------------- ---- 13.8/15.7 MB 232.1 kB/s eta 0:00:09\n",
            "   ----------------------------------- ---- 13.8/15.7 MB 232.1 kB/s eta 0:00:09\n",
            "   ----------------------------------- ---- 13.8/15.7 MB 230.5 kB/s eta 0:00:09\n",
            "   ----------------------------------- ---- 13.8/15.7 MB 230.5 kB/s eta 0:00:09\n",
            "   ----------------------------------- ---- 13.8/15.7 MB 230.5 kB/s eta 0:00:09\n",
            "   ----------------------------------- ---- 13.9/15.7 MB 229.6 kB/s eta 0:00:09\n",
            "   ----------------------------------- ---- 13.9/15.7 MB 229.6 kB/s eta 0:00:09\n",
            "   ----------------------------------- ---- 13.9/15.7 MB 229.6 kB/s eta 0:00:09\n",
            "   ----------------------------------- ---- 13.9/15.7 MB 229.0 kB/s eta 0:00:08\n",
            "   ----------------------------------- ---- 13.9/15.7 MB 229.0 kB/s eta 0:00:08\n",
            "   ----------------------------------- ---- 13.9/15.7 MB 229.0 kB/s eta 0:00:08\n",
            "   ----------------------------------- ---- 13.9/15.7 MB 228.0 kB/s eta 0:00:08\n",
            "   ----------------------------------- ---- 13.9/15.7 MB 228.0 kB/s eta 0:00:08\n",
            "   ----------------------------------- ---- 13.9/15.7 MB 228.0 kB/s eta 0:00:08\n",
            "   ----------------------------------- ---- 13.9/15.7 MB 227.8 kB/s eta 0:00:08\n",
            "   ----------------------------------- ---- 13.9/15.7 MB 227.8 kB/s eta 0:00:08\n",
            "   ----------------------------------- ---- 13.9/15.7 MB 226.9 kB/s eta 0:00:08\n",
            "   ----------------------------------- ---- 13.9/15.7 MB 226.9 kB/s eta 0:00:08\n",
            "   ----------------------------------- ---- 13.9/15.7 MB 226.9 kB/s eta 0:00:08\n",
            "   ----------------------------------- ---- 13.9/15.7 MB 226.9 kB/s eta 0:00:08\n",
            "   ----------------------------------- ---- 13.9/15.7 MB 226.9 kB/s eta 0:00:08\n",
            "   ----------------------------------- ---- 13.9/15.7 MB 226.9 kB/s eta 0:00:08\n",
            "   ----------------------------------- ---- 13.9/15.7 MB 226.9 kB/s eta 0:00:08\n",
            "   ----------------------------------- ---- 13.9/15.7 MB 226.9 kB/s eta 0:00:08\n",
            "   ----------------------------------- ---- 13.9/15.7 MB 226.9 kB/s eta 0:00:08\n",
            "   ----------------------------------- ---- 13.9/15.7 MB 226.9 kB/s eta 0:00:08\n",
            "   ----------------------------------- ---- 13.9/15.7 MB 226.9 kB/s eta 0:00:08\n",
            "   ----------------------------------- ---- 13.9/15.7 MB 226.9 kB/s eta 0:00:08\n",
            "   ----------------------------------- ---- 13.9/15.7 MB 226.9 kB/s eta 0:00:08\n",
            "   ----------------------------------- ---- 13.9/15.7 MB 226.9 kB/s eta 0:00:08\n",
            "   ----------------------------------- ---- 13.9/15.7 MB 226.9 kB/s eta 0:00:08\n",
            "   ----------------------------------- ---- 13.9/15.7 MB 226.9 kB/s eta 0:00:08\n",
            "   ----------------------------------- ---- 13.9/15.7 MB 226.9 kB/s eta 0:00:08\n",
            "   ----------------------------------- ---- 13.9/15.7 MB 226.9 kB/s eta 0:00:08\n",
            "   ----------------------------------- ---- 13.9/15.7 MB 226.9 kB/s eta 0:00:08\n",
            "   ----------------------------------- ---- 13.9/15.7 MB 226.9 kB/s eta 0:00:08\n",
            "   ----------------------------------- ---- 13.9/15.7 MB 226.9 kB/s eta 0:00:08\n",
            "   ----------------------------------- ---- 13.9/15.7 MB 226.9 kB/s eta 0:00:08\n",
            "   ----------------------------------- ---- 13.9/15.7 MB 226.9 kB/s eta 0:00:08\n",
            "   ----------------------------------- ---- 13.9/15.7 MB 226.9 kB/s eta 0:00:08\n",
            "   ----------------------------------- ---- 13.9/15.7 MB 226.9 kB/s eta 0:00:08\n",
            "   ----------------------------------- ---- 13.9/15.7 MB 226.9 kB/s eta 0:00:08\n",
            "   ----------------------------------- ---- 13.9/15.7 MB 226.9 kB/s eta 0:00:08\n",
            "   ----------------------------------- ---- 13.9/15.7 MB 226.9 kB/s eta 0:00:08\n",
            "   ----------------------------------- ---- 13.9/15.7 MB 226.9 kB/s eta 0:00:08\n",
            "   ----------------------------------- ---- 13.9/15.7 MB 226.9 kB/s eta 0:00:08\n",
            "   ----------------------------------- ---- 13.9/15.7 MB 226.9 kB/s eta 0:00:08\n",
            "   ----------------------------------- ---- 13.9/15.7 MB 226.9 kB/s eta 0:00:08\n",
            "   ----------------------------------- ---- 13.9/15.7 MB 226.9 kB/s eta 0:00:08\n",
            "   ----------------------------------- ---- 13.9/15.7 MB 226.9 kB/s eta 0:00:08\n",
            "   ----------------------------------- ---- 13.9/15.7 MB 226.9 kB/s eta 0:00:08\n",
            "   ----------------------------------- ---- 13.9/15.7 MB 226.9 kB/s eta 0:00:08\n",
            "   ----------------------------------- ---- 13.9/15.7 MB 212.8 kB/s eta 0:00:09\n",
            "   ----------------------------------- ---- 14.0/15.7 MB 212.4 kB/s eta 0:00:09\n",
            "   ----------------------------------- ---- 14.0/15.7 MB 212.4 kB/s eta 0:00:09\n",
            "   ----------------------------------- ---- 14.0/15.7 MB 212.8 kB/s eta 0:00:09\n",
            "   ----------------------------------- ---- 14.0/15.7 MB 212.8 kB/s eta 0:00:09\n",
            "   ----------------------------------- ---- 14.0/15.7 MB 212.8 kB/s eta 0:00:09\n",
            "   ------------------------------------ --- 14.2/15.7 MB 217.4 kB/s eta 0:00:08\n",
            "   ------------------------------------ --- 14.2/15.7 MB 217.1 kB/s eta 0:00:08\n",
            "   ------------------------------------ --- 14.2/15.7 MB 217.1 kB/s eta 0:00:08\n",
            "   ------------------------------------ --- 14.2/15.7 MB 217.1 kB/s eta 0:00:08\n",
            "   ------------------------------------ --- 14.2/15.7 MB 217.0 kB/s eta 0:00:07\n",
            "   ------------------------------------ --- 14.2/15.7 MB 217.0 kB/s eta 0:00:07\n",
            "   ------------------------------------ --- 14.2/15.7 MB 217.0 kB/s eta 0:00:07\n",
            "   ------------------------------------ --- 14.2/15.7 MB 217.0 kB/s eta 0:00:07\n",
            "   ------------------------------------ --- 14.2/15.7 MB 216.0 kB/s eta 0:00:07\n",
            "   ------------------------------------ --- 14.2/15.7 MB 216.0 kB/s eta 0:00:07\n",
            "   ------------------------------------ --- 14.2/15.7 MB 216.0 kB/s eta 0:00:07\n",
            "   ------------------------------------ --- 14.2/15.7 MB 215.9 kB/s eta 0:00:07\n",
            "   ------------------------------------ --- 14.2/15.7 MB 215.9 kB/s eta 0:00:07\n",
            "   ------------------------------------ --- 14.2/15.7 MB 215.9 kB/s eta 0:00:07\n",
            "   ------------------------------------ --- 14.2/15.7 MB 214.2 kB/s eta 0:00:07\n",
            "   ------------------------------------ --- 14.2/15.7 MB 214.2 kB/s eta 0:00:07\n",
            "   ------------------------------------ --- 14.3/15.7 MB 214.1 kB/s eta 0:00:07\n",
            "   ------------------------------------ --- 14.3/15.7 MB 214.1 kB/s eta 0:00:07\n",
            "   ------------------------------------ --- 14.3/15.7 MB 214.6 kB/s eta 0:00:07\n",
            "   ------------------------------------ --- 14.3/15.7 MB 214.6 kB/s eta 0:00:07\n",
            "   ------------------------------------ --- 14.3/15.7 MB 214.5 kB/s eta 0:00:07\n",
            "   ------------------------------------ --- 14.3/15.7 MB 214.5 kB/s eta 0:00:07\n",
            "   ------------------------------------ --- 14.3/15.7 MB 214.3 kB/s eta 0:00:07\n",
            "   ------------------------------------ --- 14.3/15.7 MB 214.3 kB/s eta 0:00:07\n",
            "   ------------------------------------ --- 14.3/15.7 MB 214.0 kB/s eta 0:00:07\n",
            "   ------------------------------------ --- 14.3/15.7 MB 214.0 kB/s eta 0:00:07\n",
            "   ------------------------------------ --- 14.3/15.7 MB 213.8 kB/s eta 0:00:07\n",
            "   ------------------------------------ --- 14.3/15.7 MB 213.8 kB/s eta 0:00:07\n",
            "   ------------------------------------ --- 14.4/15.7 MB 213.8 kB/s eta 0:00:07\n",
            "   ------------------------------------ --- 14.4/15.7 MB 213.8 kB/s eta 0:00:07\n",
            "   ------------------------------------ --- 14.4/15.7 MB 213.7 kB/s eta 0:00:07\n",
            "   ------------------------------------ --- 14.4/15.7 MB 213.7 kB/s eta 0:00:07\n",
            "   ------------------------------------ --- 14.4/15.7 MB 213.7 kB/s eta 0:00:07\n",
            "   ------------------------------------ --- 14.4/15.7 MB 213.7 kB/s eta 0:00:07\n",
            "   ------------------------------------ --- 14.4/15.7 MB 213.1 kB/s eta 0:00:07\n",
            "   ------------------------------------ --- 14.4/15.7 MB 213.1 kB/s eta 0:00:07\n",
            "   ------------------------------------ --- 14.4/15.7 MB 213.1 kB/s eta 0:00:07\n",
            "   ------------------------------------ --- 14.4/15.7 MB 213.4 kB/s eta 0:00:07\n",
            "   ------------------------------------ --- 14.4/15.7 MB 213.4 kB/s eta 0:00:07\n",
            "   ------------------------------------ --- 14.4/15.7 MB 213.4 kB/s eta 0:00:07\n",
            "   ------------------------------------ --- 14.4/15.7 MB 213.4 kB/s eta 0:00:07\n",
            "   ------------------------------------ --- 14.4/15.7 MB 212.5 kB/s eta 0:00:06\n",
            "   ------------------------------------ --- 14.4/15.7 MB 212.5 kB/s eta 0:00:06\n",
            "   ------------------------------------ --- 14.4/15.7 MB 212.5 kB/s eta 0:00:06\n",
            "   ------------------------------------ --- 14.4/15.7 MB 211.8 kB/s eta 0:00:06\n",
            "   ------------------------------------ --- 14.4/15.7 MB 211.8 kB/s eta 0:00:06\n",
            "   ------------------------------------ --- 14.4/15.7 MB 211.8 kB/s eta 0:00:06\n",
            "   ------------------------------------ --- 14.4/15.7 MB 211.8 kB/s eta 0:00:06\n",
            "   ------------------------------------ --- 14.5/15.7 MB 211.3 kB/s eta 0:00:06\n",
            "   ------------------------------------ --- 14.5/15.7 MB 211.3 kB/s eta 0:00:06\n",
            "   ------------------------------------ --- 14.5/15.7 MB 211.3 kB/s eta 0:00:06\n",
            "   ------------------------------------ --- 14.5/15.7 MB 211.3 kB/s eta 0:00:06\n",
            "   ------------------------------------ --- 14.5/15.7 MB 210.7 kB/s eta 0:00:06\n",
            "   ------------------------------------ --- 14.5/15.7 MB 210.7 kB/s eta 0:00:06\n",
            "   ------------------------------------ --- 14.5/15.7 MB 210.7 kB/s eta 0:00:06\n",
            "   ------------------------------------ --- 14.5/15.7 MB 210.5 kB/s eta 0:00:06\n",
            "   ------------------------------------ --- 14.5/15.7 MB 210.5 kB/s eta 0:00:06\n",
            "   ------------------------------------ --- 14.5/15.7 MB 209.5 kB/s eta 0:00:06\n",
            "   ------------------------------------ --- 14.5/15.7 MB 209.5 kB/s eta 0:00:06\n",
            "   ------------------------------------ --- 14.5/15.7 MB 209.5 kB/s eta 0:00:06\n",
            "   ------------------------------------- -- 14.5/15.7 MB 209.0 kB/s eta 0:00:06\n",
            "   ------------------------------------- -- 14.5/15.7 MB 209.0 kB/s eta 0:00:06\n",
            "   ------------------------------------- -- 14.5/15.7 MB 209.0 kB/s eta 0:00:06\n",
            "   ------------------------------------- -- 14.5/15.7 MB 209.0 kB/s eta 0:00:06\n",
            "   ------------------------------------- -- 14.5/15.7 MB 208.9 kB/s eta 0:00:06\n",
            "   ------------------------------------- -- 14.5/15.7 MB 208.9 kB/s eta 0:00:06\n",
            "   ------------------------------------- -- 14.5/15.7 MB 208.9 kB/s eta 0:00:06\n",
            "   ------------------------------------- -- 14.6/15.7 MB 208.3 kB/s eta 0:00:06\n",
            "   ------------------------------------- -- 14.6/15.7 MB 208.3 kB/s eta 0:00:06\n",
            "   ------------------------------------- -- 14.6/15.7 MB 208.3 kB/s eta 0:00:06\n",
            "   ------------------------------------- -- 14.6/15.7 MB 207.6 kB/s eta 0:00:06\n",
            "   ------------------------------------- -- 14.6/15.7 MB 207.6 kB/s eta 0:00:06\n",
            "   ------------------------------------- -- 14.6/15.7 MB 207.6 kB/s eta 0:00:06\n",
            "   ------------------------------------- -- 14.6/15.7 MB 207.6 kB/s eta 0:00:06\n",
            "   ------------------------------------- -- 14.6/15.7 MB 207.6 kB/s eta 0:00:06\n",
            "   ------------------------------------- -- 14.6/15.7 MB 207.6 kB/s eta 0:00:06\n",
            "   ------------------------------------- -- 14.6/15.7 MB 207.6 kB/s eta 0:00:06\n",
            "   ------------------------------------- -- 14.6/15.7 MB 207.6 kB/s eta 0:00:06\n",
            "   ------------------------------------- -- 14.6/15.7 MB 207.6 kB/s eta 0:00:06\n",
            "   ------------------------------------- -- 14.6/15.7 MB 207.6 kB/s eta 0:00:06\n",
            "   ------------------------------------- -- 14.6/15.7 MB 207.6 kB/s eta 0:00:06\n",
            "   ------------------------------------- -- 14.6/15.7 MB 207.6 kB/s eta 0:00:06\n",
            "   ------------------------------------- -- 14.6/15.7 MB 207.6 kB/s eta 0:00:06\n",
            "   ------------------------------------- -- 14.6/15.7 MB 207.6 kB/s eta 0:00:06\n",
            "   ------------------------------------- -- 14.6/15.7 MB 207.6 kB/s eta 0:00:06\n",
            "   ------------------------------------- -- 14.6/15.7 MB 207.6 kB/s eta 0:00:06\n",
            "   ------------------------------------- -- 14.6/15.7 MB 207.6 kB/s eta 0:00:06\n",
            "   ------------------------------------- -- 14.6/15.7 MB 207.6 kB/s eta 0:00:06\n",
            "   ------------------------------------- -- 14.6/15.7 MB 207.6 kB/s eta 0:00:06\n",
            "   ------------------------------------- -- 14.6/15.7 MB 207.6 kB/s eta 0:00:06\n",
            "   ------------------------------------- -- 14.6/15.7 MB 207.6 kB/s eta 0:00:06\n",
            "   ------------------------------------- -- 14.6/15.7 MB 207.6 kB/s eta 0:00:06\n",
            "   ------------------------------------- -- 14.6/15.7 MB 207.6 kB/s eta 0:00:06\n",
            "   ------------------------------------- -- 14.6/15.7 MB 207.6 kB/s eta 0:00:06\n",
            "   ------------------------------------- -- 14.6/15.7 MB 207.6 kB/s eta 0:00:06\n",
            "   ------------------------------------- -- 14.8/15.7 MB 206.4 kB/s eta 0:00:05\n",
            "   ------------------------------------- -- 14.8/15.7 MB 206.4 kB/s eta 0:00:05\n",
            "   ------------------------------------- -- 14.8/15.7 MB 206.4 kB/s eta 0:00:05\n",
            "   ------------------------------------- -- 14.8/15.7 MB 206.4 kB/s eta 0:00:05\n",
            "   ------------------------------------- -- 14.8/15.7 MB 206.4 kB/s eta 0:00:05\n",
            "   ------------------------------------- -- 14.8/15.7 MB 206.4 kB/s eta 0:00:05\n",
            "   ------------------------------------- -- 14.8/15.7 MB 206.4 kB/s eta 0:00:05\n",
            "   ------------------------------------- -- 14.8/15.7 MB 206.4 kB/s eta 0:00:05\n",
            "   ------------------------------------- -- 14.8/15.7 MB 206.4 kB/s eta 0:00:05\n",
            "   ------------------------------------- -- 14.8/15.7 MB 206.4 kB/s eta 0:00:05\n",
            "   ------------------------------------- -- 14.8/15.7 MB 206.4 kB/s eta 0:00:05\n",
            "   ------------------------------------- -- 14.9/15.7 MB 206.6 kB/s eta 0:00:04\n",
            "   ------------------------------------- -- 14.9/15.7 MB 206.6 kB/s eta 0:00:04\n",
            "   ------------------------------------- -- 14.9/15.7 MB 206.6 kB/s eta 0:00:04\n",
            "   ------------------------------------- -- 14.9/15.7 MB 206.3 kB/s eta 0:00:04\n",
            "   -------------------------------------- - 14.9/15.7 MB 206.7 kB/s eta 0:00:04\n",
            "   -------------------------------------- - 14.9/15.7 MB 206.7 kB/s eta 0:00:04\n",
            "   -------------------------------------- - 14.9/15.7 MB 206.7 kB/s eta 0:00:04\n",
            "   -------------------------------------- - 14.9/15.7 MB 206.7 kB/s eta 0:00:04\n",
            "   -------------------------------------- - 14.9/15.7 MB 206.7 kB/s eta 0:00:04\n",
            "   -------------------------------------- - 14.9/15.7 MB 206.7 kB/s eta 0:00:04\n",
            "   -------------------------------------- - 14.9/15.7 MB 206.7 kB/s eta 0:00:04\n",
            "   -------------------------------------- - 15.0/15.7 MB 204.8 kB/s eta 0:00:04\n",
            "   -------------------------------------- - 15.0/15.7 MB 203.8 kB/s eta 0:00:04\n",
            "   -------------------------------------- - 15.0/15.7 MB 203.8 kB/s eta 0:00:04\n",
            "   -------------------------------------- - 15.0/15.7 MB 202.8 kB/s eta 0:00:04\n",
            "   -------------------------------------- - 15.0/15.7 MB 202.8 kB/s eta 0:00:04\n",
            "   -------------------------------------- - 15.0/15.7 MB 201.8 kB/s eta 0:00:04\n",
            "   -------------------------------------- - 15.0/15.7 MB 201.8 kB/s eta 0:00:04\n",
            "   -------------------------------------- - 15.0/15.7 MB 201.0 kB/s eta 0:00:04\n",
            "   -------------------------------------- - 15.0/15.7 MB 201.0 kB/s eta 0:00:04\n",
            "   -------------------------------------- - 15.0/15.7 MB 200.1 kB/s eta 0:00:04\n",
            "   -------------------------------------- - 15.0/15.7 MB 200.1 kB/s eta 0:00:04\n",
            "   -------------------------------------- - 15.0/15.7 MB 200.1 kB/s eta 0:00:04\n",
            "   -------------------------------------- - 15.0/15.7 MB 200.1 kB/s eta 0:00:04\n",
            "   -------------------------------------- - 15.1/15.7 MB 198.0 kB/s eta 0:00:04\n",
            "   -------------------------------------- - 15.1/15.7 MB 198.0 kB/s eta 0:00:04\n",
            "   -------------------------------------- - 15.1/15.7 MB 197.3 kB/s eta 0:00:04\n",
            "   -------------------------------------- - 15.1/15.7 MB 197.3 kB/s eta 0:00:04\n",
            "   -------------------------------------- - 15.1/15.7 MB 197.3 kB/s eta 0:00:04\n",
            "   -------------------------------------- - 15.1/15.7 MB 193.4 kB/s eta 0:00:04\n",
            "   -------------------------------------- - 15.1/15.7 MB 193.4 kB/s eta 0:00:04\n",
            "   -------------------------------------- - 15.1/15.7 MB 189.8 kB/s eta 0:00:04\n",
            "   -------------------------------------- - 15.1/15.7 MB 189.8 kB/s eta 0:00:04\n",
            "   -------------------------------------- - 15.1/15.7 MB 188.1 kB/s eta 0:00:04\n",
            "   -------------------------------------- - 15.1/15.7 MB 188.1 kB/s eta 0:00:04\n",
            "   -------------------------------------- - 15.1/15.7 MB 186.7 kB/s eta 0:00:03\n",
            "   -------------------------------------- - 15.1/15.7 MB 186.7 kB/s eta 0:00:03\n",
            "   -------------------------------------- - 15.1/15.7 MB 186.7 kB/s eta 0:00:03\n",
            "   -------------------------------------- - 15.1/15.7 MB 184.9 kB/s eta 0:00:03\n",
            "   -------------------------------------- - 15.1/15.7 MB 184.9 kB/s eta 0:00:03\n",
            "   -------------------------------------- - 15.2/15.7 MB 184.4 kB/s eta 0:00:03\n",
            "   -------------------------------------- - 15.2/15.7 MB 184.4 kB/s eta 0:00:03\n",
            "   -------------------------------------- - 15.2/15.7 MB 183.1 kB/s eta 0:00:03\n",
            "   -------------------------------------- - 15.2/15.7 MB 183.1 kB/s eta 0:00:03\n",
            "   -------------------------------------- - 15.2/15.7 MB 183.1 kB/s eta 0:00:03\n",
            "   -------------------------------------- - 15.2/15.7 MB 181.9 kB/s eta 0:00:03\n",
            "   -------------------------------------- - 15.2/15.7 MB 181.9 kB/s eta 0:00:03\n",
            "   -------------------------------------- - 15.2/15.7 MB 181.0 kB/s eta 0:00:03\n",
            "   -------------------------------------- - 15.2/15.7 MB 181.0 kB/s eta 0:00:03\n",
            "   -------------------------------------- - 15.2/15.7 MB 180.4 kB/s eta 0:00:03\n",
            "   -------------------------------------- - 15.2/15.7 MB 180.4 kB/s eta 0:00:03\n",
            "   -------------------------------------- - 15.2/15.7 MB 180.7 kB/s eta 0:00:03\n",
            "   -------------------------------------- - 15.2/15.7 MB 180.7 kB/s eta 0:00:03\n",
            "   -------------------------------------- - 15.3/15.7 MB 179.8 kB/s eta 0:00:03\n",
            "   -------------------------------------- - 15.3/15.7 MB 179.8 kB/s eta 0:00:03\n",
            "   -------------------------------------- - 15.3/15.7 MB 180.0 kB/s eta 0:00:03\n",
            "   -------------------------------------- - 15.3/15.7 MB 180.0 kB/s eta 0:00:03\n",
            "   -------------------------------------- - 15.3/15.7 MB 180.0 kB/s eta 0:00:03\n",
            "   -------------------------------------- - 15.3/15.7 MB 180.0 kB/s eta 0:00:03\n",
            "   ---------------------------------------  15.3/15.7 MB 179.5 kB/s eta 0:00:03\n",
            "   ---------------------------------------  15.3/15.7 MB 179.5 kB/s eta 0:00:03\n",
            "   ---------------------------------------  15.3/15.7 MB 179.2 kB/s eta 0:00:03\n",
            "   ---------------------------------------  15.3/15.7 MB 178.5 kB/s eta 0:00:02\n",
            "   ---------------------------------------  15.3/15.7 MB 178.5 kB/s eta 0:00:02\n",
            "   ---------------------------------------  15.3/15.7 MB 178.5 kB/s eta 0:00:02\n",
            "   ---------------------------------------  15.4/15.7 MB 178.3 kB/s eta 0:00:02\n",
            "   ---------------------------------------  15.4/15.7 MB 177.9 kB/s eta 0:00:02\n",
            "   ---------------------------------------  15.4/15.7 MB 177.9 kB/s eta 0:00:02\n",
            "   ---------------------------------------  15.4/15.7 MB 177.9 kB/s eta 0:00:02\n",
            "   ---------------------------------------  15.4/15.7 MB 177.3 kB/s eta 0:00:02\n",
            "   ---------------------------------------  15.4/15.7 MB 177.3 kB/s eta 0:00:02\n",
            "   ---------------------------------------  15.4/15.7 MB 177.3 kB/s eta 0:00:02\n",
            "   ---------------------------------------  15.4/15.7 MB 176.1 kB/s eta 0:00:02\n",
            "   ---------------------------------------  15.4/15.7 MB 176.2 kB/s eta 0:00:02\n",
            "   ---------------------------------------  15.4/15.7 MB 176.2 kB/s eta 0:00:02\n",
            "   ---------------------------------------  15.4/15.7 MB 176.2 kB/s eta 0:00:02\n",
            "   ---------------------------------------  15.4/15.7 MB 175.5 kB/s eta 0:00:02\n",
            "   ---------------------------------------  15.4/15.7 MB 175.5 kB/s eta 0:00:02\n",
            "   ---------------------------------------  15.5/15.7 MB 175.2 kB/s eta 0:00:02\n",
            "   ---------------------------------------  15.5/15.7 MB 175.2 kB/s eta 0:00:02\n",
            "   ---------------------------------------  15.5/15.7 MB 175.2 kB/s eta 0:00:02\n",
            "   ---------------------------------------  15.5/15.7 MB 175.5 kB/s eta 0:00:02\n",
            "   ---------------------------------------  15.5/15.7 MB 175.5 kB/s eta 0:00:02\n",
            "   ---------------------------------------  15.5/15.7 MB 175.1 kB/s eta 0:00:02\n",
            "   ---------------------------------------  15.5/15.7 MB 175.1 kB/s eta 0:00:02\n",
            "   ---------------------------------------  15.5/15.7 MB 175.5 kB/s eta 0:00:02\n",
            "   ---------------------------------------  15.5/15.7 MB 175.5 kB/s eta 0:00:02\n",
            "   ---------------------------------------  15.5/15.7 MB 175.5 kB/s eta 0:00:02\n",
            "   ---------------------------------------  15.5/15.7 MB 175.2 kB/s eta 0:00:02\n",
            "   ---------------------------------------  15.5/15.7 MB 175.2 kB/s eta 0:00:02\n",
            "   ---------------------------------------  15.5/15.7 MB 176.0 kB/s eta 0:00:01\n",
            "   ---------------------------------------  15.5/15.7 MB 176.0 kB/s eta 0:00:01\n",
            "   ---------------------------------------  15.6/15.7 MB 175.4 kB/s eta 0:00:01\n",
            "   ---------------------------------------  15.6/15.7 MB 175.4 kB/s eta 0:00:01\n",
            "   ---------------------------------------  15.6/15.7 MB 175.4 kB/s eta 0:00:01\n",
            "   ---------------------------------------  15.6/15.7 MB 175.4 kB/s eta 0:00:01\n",
            "   ---------------------------------------  15.6/15.7 MB 175.7 kB/s eta 0:00:01\n",
            "   ---------------------------------------  15.6/15.7 MB 175.7 kB/s eta 0:00:01\n",
            "   ---------------------------------------  15.6/15.7 MB 175.7 kB/s eta 0:00:01\n",
            "   ---------------------------------------  15.6/15.7 MB 175.7 kB/s eta 0:00:01\n",
            "   ---------------------------------------  15.6/15.7 MB 175.5 kB/s eta 0:00:01\n",
            "   ---------------------------------------  15.6/15.7 MB 175.5 kB/s eta 0:00:01\n",
            "   ---------------------------------------  15.6/15.7 MB 175.5 kB/s eta 0:00:01\n",
            "   ---------------------------------------  15.6/15.7 MB 182.9 kB/s eta 0:00:01\n",
            "   ---------------------------------------  15.6/15.7 MB 182.9 kB/s eta 0:00:01\n",
            "   ---------------------------------------  15.6/15.7 MB 182.5 kB/s eta 0:00:01\n",
            "   ---------------------------------------  15.6/15.7 MB 182.5 kB/s eta 0:00:01\n",
            "   ---------------------------------------  15.7/15.7 MB 182.6 kB/s eta 0:00:01\n",
            "   ---------------------------------------  15.7/15.7 MB 182.6 kB/s eta 0:00:01\n",
            "   ---------------------------------------  15.7/15.7 MB 182.6 kB/s eta 0:00:01\n",
            "   ---------------------------------------  15.7/15.7 MB 182.2 kB/s eta 0:00:01\n",
            "   ---------------------------------------  15.7/15.7 MB 182.1 kB/s eta 0:00:01\n",
            "   ---------------------------------------  15.7/15.7 MB 182.1 kB/s eta 0:00:01\n",
            "   ---------------------------------------  15.7/15.7 MB 182.1 kB/s eta 0:00:01\n",
            "   ---------------------------------------- 15.7/15.7 MB 181.6 kB/s eta 0:00:00\n",
            "Downloading tenacity-8.2.3-py3-none-any.whl (24 kB)\n",
            "Installing collected packages: tenacity, plotly\n",
            "Successfully installed plotly-5.20.0 tenacity-8.2.3\n",
            "Note: you may need to restart the kernel to use updated packages.\n"
          ]
        }
      ],
      "source": [
        "pip install plotly"
      ]
    },
    {
      "cell_type": "code",
      "execution_count": null,
      "metadata": {
        "id": "-_9-4fEJuJ36"
      },
      "outputs": [],
      "source": [
        "import plotly.graph_objects as go"
      ]
    },
    {
      "cell_type": "code",
      "execution_count": null,
      "metadata": {
        "id": "K2wsMIjVuJ36"
      },
      "outputs": [],
      "source": [
        "#Load mnist dataset\n",
        "(train_images, train_labels), (test_images, test_labels) = mnist.load_data()\n",
        "total_class=max(train_labels)\n",
        "\n",
        "train_images = train_images.reshape(train_images.shape[0], -1) / 255.0\n",
        "test_images = test_images.reshape(test_images.shape[0], -1) / 255.0\n",
        "\n",
        "#change trainlabel=2 to oneHot=[0 0 1 0 0 0 0 0 0 0]\n",
        "train_labels_one_hot = np.eye(10)[train_labels]\n",
        "test_labels_one_hot = np.eye(10)[test_labels]\n",
        "\n",
        "\n",
        "train_images, val_images, train_labels_one_hot, val_labels_one_hot = train_test_split(train_images, train_labels_one_hot, test_size=0.1, random_state=42)\n"
      ]
    },
    {
      "cell_type": "code",
      "execution_count": null,
      "metadata": {
        "id": "vYA86395uJ37",
        "outputId": "13e60d93-3ad5-4bae-98e1-7ccec9905d9a"
      },
      "outputs": [
        {
          "name": "stdout",
          "output_type": "stream",
          "text": [
            "inint Xavier\n",
            "Epoch 1, Training Loss: 0.09509645596194392 , Training Accuracy: 97.24814814814815 , Validation Loss: 0.12254791730618145 Validation Accuracy: 96.3\n",
            "Epoch 2, Training Loss: 0.06535030954607594 , Training Accuracy: 98.0425925925926 , Validation Loss: 0.10295487731233668 Validation Accuracy: 96.86666666666667\n",
            "Epoch 3, Training Loss: 0.051415180605237185 , Training Accuracy: 98.45 , Validation Loss: 0.09497121359288942 Validation Accuracy: 97.16666666666667\n",
            "Epoch 4, Training Loss: 0.04084168505235606 , Training Accuracy: 98.72407407407408 , Validation Loss: 0.08807824350370845 Validation Accuracy: 97.36666666666667\n",
            "Epoch 5, Training Loss: 0.03378115585565662 , Training Accuracy: 98.94074074074074 , Validation Loss: 0.08548119811932021 Validation Accuracy: 97.6\n",
            "Epoch 6, Training Loss: 0.023336133927649955 , Training Accuracy: 99.3037037037037 , Validation Loss: 0.07571871035267946 Validation Accuracy: 97.88333333333334\n",
            "Epoch 7, Training Loss: 0.019140807889430858 , Training Accuracy: 99.45555555555555 , Validation Loss: 0.07315998265756296 Validation Accuracy: 98.05\n",
            "Epoch 8, Training Loss: 0.017432474243281235 , Training Accuracy: 99.48518518518519 , Validation Loss: 0.07379495177965614 Validation Accuracy: 98.05\n",
            "Epoch 9, Training Loss: 0.016404327019939026 , Training Accuracy: 99.55925925925926 , Validation Loss: 0.0729141783611614 Validation Accuracy: 97.93333333333332\n",
            "Epoch 10, Training Loss: 0.016014922286919756 , Training Accuracy: 99.52777777777779 , Validation Loss: 0.07377138506672613 Validation Accuracy: 97.86666666666667\n",
            "0.07924878784991034\n",
            "97.78999999999999\n"
          ]
        }
      ],
      "source": [
        "#Configuration 1\n",
        "\n",
        "no_hidden_layers=4\n",
        "hidden_layer_size=256\n",
        "\n",
        "layer_sizes=[]\n",
        "layer_sizes.append(train_images.shape[1])\n",
        "for i in range(no_hidden_layers):\n",
        "    layer_sizes.append(hidden_layer_size)\n",
        "layer_sizes.append(10)\n",
        "\n",
        "\n",
        "loss_act_func = LossActFunc(\"cross_entropy\",\"ReLU\") # sigmoid, ReLU, tanh ,identity\n",
        "epochs=10\n",
        "initialization=\"Xavier\" #random , Xavier\n",
        "learning_rate=0.001\n",
        "momentum=0.9  #for momentum and nag\n",
        "beta=0.5     #for rmsprop\n",
        "beta1=0.9    #for adam and nadam\n",
        "beta2=0.999    #for adam and nadam\n",
        "epsilon=1e-8\n",
        "weight_decay=0.0005\n",
        "batch_size=32\n",
        "optimizer=\"nadam\"\n",
        "printFlag=\"print\"\n",
        "\n",
        "#make object of MultiLayerPerceptron and call optimizer function\n",
        "mlp = MultiLayerPerceptron(train_images, train_labels_one_hot,val_images,val_labels_one_hot, layer_sizes,initialization,loss_act_func,batch_size,epochs,learning_rate,weight_decay,optimizer,momentum,beta,beta1,beta2,epsilon,printFlag)\n",
        "mlp.init_weights()\n",
        "mlp.optimizer_func()\n",
        "\n",
        "#Find accuracy for Test data and append the result in Test_accuracy list\n",
        "pred_labels = mlp.feed_forwards(test_images)\n",
        "test_acc = mlp.accuracy(pred_labels,test_labels_one_hot)\n",
        "test_loss = mlp.loss_act_func.loss_functions(pred_labels, test_labels_one_hot)\n",
        "print(test_loss)\n",
        "print(test_acc)\n",
        "Test_losses.append(test_loss)\n",
        "Test_Acuracy.append(test_acc)\n"
      ]
    },
    {
      "cell_type": "code",
      "execution_count": null,
      "metadata": {
        "id": "ADGwhPK_uJ37",
        "outputId": "fa37fc5a-6b16-4aeb-d18c-c5f22b7ec1a6"
      },
      "outputs": [
        {
          "name": "stdout",
          "output_type": "stream",
          "text": [
            "inint Xavier\n",
            "Epoch 1, Training Loss: 0.10011260928746327 , Training Accuracy: 97.01111111111112 , Validation Loss: 0.13291222175912243 Validation Accuracy: 96.06666666666666\n",
            "Epoch 2, Training Loss: 0.06862968344438934 , Training Accuracy: 97.94074074074074 , Validation Loss: 0.10989846624971893 Validation Accuracy: 96.61666666666666\n",
            "Epoch 3, Training Loss: 0.059868247958899674 , Training Accuracy: 98.07222222222222 , Validation Loss: 0.10328090345661117 Validation Accuracy: 96.81666666666666\n",
            "Epoch 4, Training Loss: 0.05666057498821276 , Training Accuracy: 98.17777777777778 , Validation Loss: 0.10242990030489231 Validation Accuracy: 96.86666666666667\n",
            "Epoch 5, Training Loss: 0.05154632873571092 , Training Accuracy: 98.33518518518518 , Validation Loss: 0.09883162742748153 Validation Accuracy: 96.98333333333333\n",
            "Epoch 6, Training Loss: 0.04819708847509852 , Training Accuracy: 98.48333333333333 , Validation Loss: 0.09616045609208569 Validation Accuracy: 97.13333333333334\n",
            "Epoch 7, Training Loss: 0.04343368257506181 , Training Accuracy: 98.57407407407408 , Validation Loss: 0.09188448080282122 Validation Accuracy: 97.26666666666667\n",
            "Epoch 8, Training Loss: 0.04419200349912671 , Training Accuracy: 98.51851851851852 , Validation Loss: 0.09329560500148687 Validation Accuracy: 97.31666666666666\n",
            "Epoch 9, Training Loss: 0.03993057652696143 , Training Accuracy: 98.66666666666667 , Validation Loss: 0.0878994594826361 Validation Accuracy: 97.46666666666667\n",
            "Epoch 10, Training Loss: 0.03507639722100698 , Training Accuracy: 98.8462962962963 , Validation Loss: 0.08363882901519129 Validation Accuracy: 97.61666666666666\n",
            "0.09131268628378236\n",
            "97.13000000000001\n"
          ]
        }
      ],
      "source": [
        "#Configuration 2\n",
        "\n",
        "no_hidden_layers=5\n",
        "hidden_layer_size=256\n",
        "\n",
        "layer_sizes=[]\n",
        "layer_sizes.append(train_images.shape[1])\n",
        "for i in range(no_hidden_layers):\n",
        "    layer_sizes.append(hidden_layer_size)\n",
        "layer_sizes.append(10)\n",
        "\n",
        "\n",
        "loss_act_func = LossActFunc(\"cross_entropy\",\"tanh\") # sigmoid, ReLU, tanh\n",
        "# loss_func = LossFunc(\"cross_entropy\") #\"mean_squared_error\", \"cross_entropy\"\n",
        "epochs=10\n",
        "initialization=\"Xavier\" #random , Xavier\n",
        "learning_rate=0.001\n",
        "momentum=0.9  #for momentum and nag\n",
        "beta=0.5     #for rmsprop\n",
        "beta1=0.9    #for adam and nadam\n",
        "beta2=0.999    #for adam and nadam\n",
        "epsilon=1e-8\n",
        "weight_decay=0.0005\n",
        "batch_size=32\n",
        "optimizer=\"adam\"\n",
        "printFlag=\"print\"\n",
        "\n",
        "mlp = MultiLayerPerceptron(train_images, train_labels_one_hot,val_images,val_labels_one_hot, layer_sizes,initialization,loss_act_func,batch_size,epochs,learning_rate,weight_decay,optimizer,momentum,beta,beta1,beta2,epsilon,printFlag)\n",
        "mlp.init_weights()\n",
        "mlp.optimizer_func()\n",
        "\n",
        "\n",
        "pred_labels = mlp.feed_forwards(test_images)\n",
        "test_acc = mlp.accuracy(pred_labels,test_labels_one_hot)\n",
        "test_loss = mlp.loss_act_func.loss_functions(pred_labels, test_labels_one_hot)\n",
        "print(test_loss)\n",
        "print(test_acc)\n",
        "Test_losses.append(test_loss)\n",
        "Test_Acuracy.append(test_acc)"
      ]
    },
    {
      "cell_type": "code",
      "execution_count": null,
      "metadata": {
        "id": "0ot6mnSLuJ37",
        "outputId": "f1c252b4-0dce-4a4a-c1b2-c4f4be8ad2d7"
      },
      "outputs": [
        {
          "name": "stdout",
          "output_type": "stream",
          "text": [
            "inint Xavier\n",
            "Epoch 1, Training Loss: 0.08714121774890239 , Training Accuracy: 97.38703703703703 , Validation Loss: 0.11053959547859805 Validation Accuracy: 96.83333333333334\n",
            "Epoch 2, Training Loss: 0.0603568614102387 , Training Accuracy: 98.12592592592593 , Validation Loss: 0.09656645414883258 Validation Accuracy: 97.18333333333334\n",
            "Epoch 3, Training Loss: 0.046366061721185375 , Training Accuracy: 98.52592592592593 , Validation Loss: 0.09058370226683023 Validation Accuracy: 97.38333333333333\n",
            "Epoch 4, Training Loss: 0.03600374866678071 , Training Accuracy: 98.8537037037037 , Validation Loss: 0.08228509422614545 Validation Accuracy: 97.61666666666666\n",
            "Epoch 5, Training Loss: 0.0342737242508912 , Training Accuracy: 98.86111111111111 , Validation Loss: 0.08954031679457752 Validation Accuracy: 97.35000000000001\n",
            "Epoch 6, Training Loss: 0.02398532044081439 , Training Accuracy: 99.21481481481482 , Validation Loss: 0.07737047947478067 Validation Accuracy: 97.68333333333334\n",
            "Epoch 7, Training Loss: 0.021492113571666187 , Training Accuracy: 99.32592592592593 , Validation Loss: 0.06930959925927196 Validation Accuracy: 98.01666666666667\n",
            "Epoch 8, Training Loss: 0.017014112070594875 , Training Accuracy: 99.46111111111111 , Validation Loss: 0.07559920700519514 Validation Accuracy: 97.85000000000001\n",
            "Epoch 9, Training Loss: 0.03050520769464539 , Training Accuracy: 99.02777777777779 , Validation Loss: 0.09593020867115498 Validation Accuracy: 97.56666666666666\n",
            "Epoch 10, Training Loss: 0.0166230974897159 , Training Accuracy: 99.49444444444444 , Validation Loss: 0.07343981924724714 Validation Accuracy: 97.95\n",
            "0.07179512924937528\n",
            "97.81\n"
          ]
        }
      ],
      "source": [
        "#Configuration 3\n",
        "\n",
        "no_hidden_layers=4\n",
        "hidden_layer_size=512\n",
        "\n",
        "layer_sizes=[]\n",
        "layer_sizes.append(train_images.shape[1])\n",
        "for i in range(no_hidden_layers):\n",
        "    layer_sizes.append(hidden_layer_size)\n",
        "layer_sizes.append(10)\n",
        "\n",
        "\n",
        "loss_act_func = LossActFunc(\"cross_entropy\",\"ReLU\") # sigmoid, ReLU, tanh\n",
        "epochs=10\n",
        "initialization=\"Xavier\" #random , Xavier\n",
        "learning_rate=0.001\n",
        "momentum=0.9  #for momentum and nag\n",
        "beta=0.5     #for rmsprop\n",
        "beta1=0.9    #for adam and nadam\n",
        "beta2=0.999    #for adam and nadam\n",
        "epsilon=1e-8\n",
        "weight_decay=0.0005\n",
        "batch_size=32\n",
        "optimizer=\"adam\"\n",
        "printFlag=\"print\"\n",
        "\n",
        "mlp = MultiLayerPerceptron(train_images, train_labels_one_hot,val_images,val_labels_one_hot, layer_sizes,initialization,loss_act_func,batch_size,epochs,learning_rate,weight_decay,optimizer,momentum,beta,beta1,beta2,epsilon,printFlag)\n",
        "mlp.init_weights()\n",
        "mlp.optimizer_func()\n",
        "\n",
        "pred_labels = mlp.feed_forwards(test_images)\n",
        "test_acc = mlp.accuracy(pred_labels,test_labels_one_hot)\n",
        "test_loss = mlp.loss_act_func.loss_functions(pred_labels, test_labels_one_hot)\n",
        "print(test_loss)\n",
        "print(test_acc)\n",
        "Test_losses.append(test_loss)\n",
        "Test_Acuracy.append(test_acc)\n"
      ]
    },
    {
      "cell_type": "code",
      "execution_count": null,
      "metadata": {
        "id": "dEU446ZXuJ37",
        "outputId": "86b89eaa-c73c-43c6-8f33-728a44d22671"
      },
      "outputs": [
        {
          "data": {
            "text/html": [
              "Tracking run with wandb version 0.16.4"
            ],
            "text/plain": [
              "<IPython.core.display.HTML object>"
            ]
          },
          "metadata": {},
          "output_type": "display_data"
        },
        {
          "data": {
            "text/html": [
              "Run data is saved locally in <code>c:\\Users\\Juhi\\OneDrive\\Documents\\IITM\\Sem2\\DL\\Assignment1\\wandb\\run-20240317_002016-nxaun4x0</code>"
            ],
            "text/plain": [
              "<IPython.core.display.HTML object>"
            ]
          },
          "metadata": {},
          "output_type": "display_data"
        },
        {
          "data": {
            "text/html": [
              "Syncing run <strong><a href='https://wandb.ai/cs23m032/CS6910%20-%20Assignment%201/runs/nxaun4x0' target=\"_blank\">Question10</a></strong> to <a href='https://wandb.ai/cs23m032/CS6910%20-%20Assignment%201' target=\"_blank\">Weights & Biases</a> (<a href='https://wandb.me/run' target=\"_blank\">docs</a>)<br/>"
            ],
            "text/plain": [
              "<IPython.core.display.HTML object>"
            ]
          },
          "metadata": {},
          "output_type": "display_data"
        },
        {
          "data": {
            "text/html": [
              " View project at <a href='https://wandb.ai/cs23m032/CS6910%20-%20Assignment%201' target=\"_blank\">https://wandb.ai/cs23m032/CS6910%20-%20Assignment%201</a>"
            ],
            "text/plain": [
              "<IPython.core.display.HTML object>"
            ]
          },
          "metadata": {},
          "output_type": "display_data"
        },
        {
          "data": {
            "text/html": [
              " View run at <a href='https://wandb.ai/cs23m032/CS6910%20-%20Assignment%201/runs/nxaun4x0' target=\"_blank\">https://wandb.ai/cs23m032/CS6910%20-%20Assignment%201/runs/nxaun4x0</a>"
            ],
            "text/plain": [
              "<IPython.core.display.HTML object>"
            ]
          },
          "metadata": {},
          "output_type": "display_data"
        },
        {
          "data": {
            "text/html": [
              "<button onClick=\"this.nextSibling.style.display='block';this.style.display='none';\">Display W&B run</button><iframe src='https://wandb.ai/cs23m032/CS6910%20-%20Assignment%201/runs/nxaun4x0?jupyter=true' style='border:none;width:100%;height:420px;display:none;'></iframe>"
            ],
            "text/plain": [
              "<wandb.sdk.wandb_run.Run at 0x282e5cec6b0>"
            ]
          },
          "execution_count": 25,
          "metadata": {},
          "output_type": "execute_result"
        }
      ],
      "source": [
        "wandb.init(project=\"CS6910 - Assignment 1\", name=\"Question10\")"
      ]
    },
    {
      "cell_type": "code",
      "execution_count": null,
      "metadata": {
        "id": "qWTuJ35uuJ38"
      },
      "outputs": [],
      "source": [
        "#ploting bar-plot for aquired Test_losses for given 3 configuration\n",
        "\n",
        "fig = go.Figure(data=[go.Bar(x=Test_Acuracy, y=Config_name,orientation='h')])\n",
        "fig.update_layout(title='Test_Acuuracy_For_3_Configurations',xaxis_title='Test Accuracy', yaxis_title='Configuration')\n",
        "wandb.log({'bar_plot': fig})"
      ]
    },
    {
      "cell_type": "code",
      "execution_count": null,
      "metadata": {
        "id": "wat3uaXcuJ38",
        "outputId": "38e1610f-94dc-4c28-a543-70e5b3b4b0a8"
      },
      "outputs": [
        {
          "data": {
            "text/html": [
              " View run <strong style=\"color:#cdcd00\">Question10</strong> at: <a href='https://wandb.ai/cs23m032/CS6910%20-%20Assignment%201/runs/nxaun4x0' target=\"_blank\">https://wandb.ai/cs23m032/CS6910%20-%20Assignment%201/runs/nxaun4x0</a><br/>Synced 4 W&B file(s), 1 media file(s), 0 artifact file(s) and 0 other file(s)"
            ],
            "text/plain": [
              "<IPython.core.display.HTML object>"
            ]
          },
          "metadata": {},
          "output_type": "display_data"
        },
        {
          "data": {
            "text/html": [
              "Find logs at: <code>.\\wandb\\run-20240317_002016-nxaun4x0\\logs</code>"
            ],
            "text/plain": [
              "<IPython.core.display.HTML object>"
            ]
          },
          "metadata": {},
          "output_type": "display_data"
        }
      ],
      "source": [
        "wandb.finish()"
      ]
    }
  ],
  "metadata": {
    "colab": {
      "collapsed_sections": [
        "UubqMD07uJ30",
        "Z_yGhEJhudsq",
        "xJyL5QtL13MS",
        "YPC_Gjc3uJ34",
        "R1ly6qJDuJ34",
        "hW9TQhcwuJ35",
        "3ZglDSVYuJ35",
        "qdWgGUe5uJ35",
        "bSPpmDR6uJ35",
        "llDvHj-3uJ36",
        "CnLQarQIuJ36"
      ],
      "provenance": []
    },
    "kernelspec": {
      "display_name": "Python 3",
      "name": "python3"
    },
    "language_info": {
      "codemirror_mode": {
        "name": "ipython",
        "version": 3
      },
      "file_extension": ".py",
      "mimetype": "text/x-python",
      "name": "python",
      "nbconvert_exporter": "python",
      "pygments_lexer": "ipython3",
      "version": "3.12.2"
    },
    "widgets": {
      "application/vnd.jupyter.widget-state+json": {
        "00da48534241485db5be19ce8baa0a75": {
          "model_module": "@jupyter-widgets/controls",
          "model_module_version": "1.5.0",
          "model_name": "FloatProgressModel",
          "state": {
            "_dom_classes": [],
            "_model_module": "@jupyter-widgets/controls",
            "_model_module_version": "1.5.0",
            "_model_name": "FloatProgressModel",
            "_view_count": null,
            "_view_module": "@jupyter-widgets/controls",
            "_view_module_version": "1.5.0",
            "_view_name": "ProgressView",
            "bar_style": "",
            "description": "",
            "description_tooltip": null,
            "layout": "IPY_MODEL_638dc8a3d72445d4b47850a3df798f20",
            "max": 1,
            "min": 0,
            "orientation": "horizontal",
            "style": "IPY_MODEL_40ff80430f48459b9692c29ae763b4ca",
            "value": 1
          }
        },
        "3daa135aca774637922284c126e6d5e8": {
          "model_module": "@jupyter-widgets/controls",
          "model_module_version": "1.5.0",
          "model_name": "DescriptionStyleModel",
          "state": {
            "_model_module": "@jupyter-widgets/controls",
            "_model_module_version": "1.5.0",
            "_model_name": "DescriptionStyleModel",
            "_view_count": null,
            "_view_module": "@jupyter-widgets/base",
            "_view_module_version": "1.2.0",
            "_view_name": "StyleView",
            "description_width": ""
          }
        },
        "40ff80430f48459b9692c29ae763b4ca": {
          "model_module": "@jupyter-widgets/controls",
          "model_module_version": "1.5.0",
          "model_name": "ProgressStyleModel",
          "state": {
            "_model_module": "@jupyter-widgets/controls",
            "_model_module_version": "1.5.0",
            "_model_name": "ProgressStyleModel",
            "_view_count": null,
            "_view_module": "@jupyter-widgets/base",
            "_view_module_version": "1.2.0",
            "_view_name": "StyleView",
            "bar_color": null,
            "description_width": ""
          }
        },
        "638dc8a3d72445d4b47850a3df798f20": {
          "model_module": "@jupyter-widgets/base",
          "model_module_version": "1.2.0",
          "model_name": "LayoutModel",
          "state": {
            "_model_module": "@jupyter-widgets/base",
            "_model_module_version": "1.2.0",
            "_model_name": "LayoutModel",
            "_view_count": null,
            "_view_module": "@jupyter-widgets/base",
            "_view_module_version": "1.2.0",
            "_view_name": "LayoutView",
            "align_content": null,
            "align_items": null,
            "align_self": null,
            "border": null,
            "bottom": null,
            "display": null,
            "flex": null,
            "flex_flow": null,
            "grid_area": null,
            "grid_auto_columns": null,
            "grid_auto_flow": null,
            "grid_auto_rows": null,
            "grid_column": null,
            "grid_gap": null,
            "grid_row": null,
            "grid_template_areas": null,
            "grid_template_columns": null,
            "grid_template_rows": null,
            "height": null,
            "justify_content": null,
            "justify_items": null,
            "left": null,
            "margin": null,
            "max_height": null,
            "max_width": null,
            "min_height": null,
            "min_width": null,
            "object_fit": null,
            "object_position": null,
            "order": null,
            "overflow": null,
            "overflow_x": null,
            "overflow_y": null,
            "padding": null,
            "right": null,
            "top": null,
            "visibility": null,
            "width": null
          }
        },
        "6e1b1f91f9884a72b36083aa2c708af0": {
          "model_module": "@jupyter-widgets/controls",
          "model_module_version": "1.5.0",
          "model_name": "LabelModel",
          "state": {
            "_dom_classes": [],
            "_model_module": "@jupyter-widgets/controls",
            "_model_module_version": "1.5.0",
            "_model_name": "LabelModel",
            "_view_count": null,
            "_view_module": "@jupyter-widgets/controls",
            "_view_module_version": "1.5.0",
            "_view_name": "LabelView",
            "description": "",
            "description_tooltip": null,
            "layout": "IPY_MODEL_d3f1690aa6cb495f81bd6f0588ce74a4",
            "placeholder": "​",
            "style": "IPY_MODEL_3daa135aca774637922284c126e6d5e8",
            "value": "0.069 MB of 0.069 MB uploaded\r"
          }
        },
        "d3f1690aa6cb495f81bd6f0588ce74a4": {
          "model_module": "@jupyter-widgets/base",
          "model_module_version": "1.2.0",
          "model_name": "LayoutModel",
          "state": {
            "_model_module": "@jupyter-widgets/base",
            "_model_module_version": "1.2.0",
            "_model_name": "LayoutModel",
            "_view_count": null,
            "_view_module": "@jupyter-widgets/base",
            "_view_module_version": "1.2.0",
            "_view_name": "LayoutView",
            "align_content": null,
            "align_items": null,
            "align_self": null,
            "border": null,
            "bottom": null,
            "display": null,
            "flex": null,
            "flex_flow": null,
            "grid_area": null,
            "grid_auto_columns": null,
            "grid_auto_flow": null,
            "grid_auto_rows": null,
            "grid_column": null,
            "grid_gap": null,
            "grid_row": null,
            "grid_template_areas": null,
            "grid_template_columns": null,
            "grid_template_rows": null,
            "height": null,
            "justify_content": null,
            "justify_items": null,
            "left": null,
            "margin": null,
            "max_height": null,
            "max_width": null,
            "min_height": null,
            "min_width": null,
            "object_fit": null,
            "object_position": null,
            "order": null,
            "overflow": null,
            "overflow_x": null,
            "overflow_y": null,
            "padding": null,
            "right": null,
            "top": null,
            "visibility": null,
            "width": null
          }
        },
        "e94f66021c3844b1a76e4ab0a80cbc1b": {
          "model_module": "@jupyter-widgets/controls",
          "model_module_version": "1.5.0",
          "model_name": "VBoxModel",
          "state": {
            "_dom_classes": [],
            "_model_module": "@jupyter-widgets/controls",
            "_model_module_version": "1.5.0",
            "_model_name": "VBoxModel",
            "_view_count": null,
            "_view_module": "@jupyter-widgets/controls",
            "_view_module_version": "1.5.0",
            "_view_name": "VBoxView",
            "box_style": "",
            "children": [
              "IPY_MODEL_6e1b1f91f9884a72b36083aa2c708af0",
              "IPY_MODEL_00da48534241485db5be19ce8baa0a75"
            ],
            "layout": "IPY_MODEL_fd8d3b7b399947dea9dfb03a03ca1135"
          }
        },
        "fd8d3b7b399947dea9dfb03a03ca1135": {
          "model_module": "@jupyter-widgets/base",
          "model_module_version": "1.2.0",
          "model_name": "LayoutModel",
          "state": {
            "_model_module": "@jupyter-widgets/base",
            "_model_module_version": "1.2.0",
            "_model_name": "LayoutModel",
            "_view_count": null,
            "_view_module": "@jupyter-widgets/base",
            "_view_module_version": "1.2.0",
            "_view_name": "LayoutView",
            "align_content": null,
            "align_items": null,
            "align_self": null,
            "border": null,
            "bottom": null,
            "display": null,
            "flex": null,
            "flex_flow": null,
            "grid_area": null,
            "grid_auto_columns": null,
            "grid_auto_flow": null,
            "grid_auto_rows": null,
            "grid_column": null,
            "grid_gap": null,
            "grid_row": null,
            "grid_template_areas": null,
            "grid_template_columns": null,
            "grid_template_rows": null,
            "height": null,
            "justify_content": null,
            "justify_items": null,
            "left": null,
            "margin": null,
            "max_height": null,
            "max_width": null,
            "min_height": null,
            "min_width": null,
            "object_fit": null,
            "object_position": null,
            "order": null,
            "overflow": null,
            "overflow_x": null,
            "overflow_y": null,
            "padding": null,
            "right": null,
            "top": null,
            "visibility": null,
            "width": null
          }
        }
      }
    }
  },
  "nbformat": 4,
  "nbformat_minor": 0
}
